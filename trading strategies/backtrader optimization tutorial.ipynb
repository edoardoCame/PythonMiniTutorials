{
 "cells": [
  {
   "cell_type": "code",
   "execution_count": 1,
   "metadata": {},
   "outputs": [],
   "source": [
    "import pandas as pd\n",
    "import backtrader as bt\n",
    "import matplotlib.pyplot as plt\n",
    "import datetime\n",
    "\n",
    "#Read data from onedrive\n",
    "#url =\"https://onedrive.live.com/download?resid=4E16D53638D067A9%21339322&authkey=!AE2f-Z1jWB8rc3w\"\n",
    "#eurgbp = pd.read_csv(url, parse_dates=True, index_col=0)"
   ]
  },
  {
   "cell_type": "code",
   "execution_count": 2,
   "metadata": {},
   "outputs": [
    {
     "name": "stderr",
     "output_type": "stream",
     "text": [
      "[*********************100%***********************]  1 of 1 completed\n"
     ]
    }
   ],
   "source": [
    "#FUNCTION FOR READING EURGBP DATA ONLY\n",
    "import yfinance as yf\n",
    "def WhichData(value):\n",
    "    if value == 'OneDrive':\n",
    "        url =\"https://onedrive.live.com/download?resid=4E16D53638D067A9%21339322&authkey=!AE2f-Z1jWB8rc3w\"\n",
    "        data = pd.read_csv(url, parse_dates=True, index_col=0)\n",
    "    elif value == 'yfinance':\n",
    "        data = yf.download(\"EURGBP=X\", start=\"2019-01-01\", end = datetime.datetime.today())\n",
    "    return data\n",
    "\n",
    "eurgbp = WhichData('yfinance')"
   ]
  },
  {
   "cell_type": "code",
   "execution_count": 3,
   "metadata": {},
   "outputs": [
    {
     "name": "stderr",
     "output_type": "stream",
     "text": [
      "[*********************100%***********************]  1 of 1 completed\n"
     ]
    }
   ],
   "source": [
    "import yfinance as yf\n",
    "AAPL= yf.download(\"AAPL\", start=\"2023-09-01\", end = datetime.datetime.today())"
   ]
  }
 ],
 "metadata": {
  "kernelspec": {
   "display_name": "Python 3",
   "language": "python",
   "name": "python3"
  },
  "language_info": {
   "codemirror_mode": {
    "name": "ipython",
    "version": 3
   },
   "file_extension": ".py",
   "mimetype": "text/x-python",
   "name": "python",
   "nbconvert_exporter": "python",
   "pygments_lexer": "ipython3",
   "version": "3.10.14"
  }
 },
 "nbformat": 4,
 "nbformat_minor": 2
}
