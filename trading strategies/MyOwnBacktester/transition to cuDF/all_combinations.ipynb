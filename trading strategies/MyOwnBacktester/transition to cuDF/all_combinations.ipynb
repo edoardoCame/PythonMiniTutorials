{
 "cells": [
  {
   "cell_type": "code",
   "execution_count": 1,
   "metadata": {},
   "outputs": [
    {
     "name": "stdout",
     "output_type": "stream",
     "text": [
      "     sdev  lookback\n",
      "0       5        30\n",
      "1       5        32\n",
      "2       5        34\n",
      "3       5        36\n",
      "4       5        38\n",
      "..    ...       ...\n",
      "315     8       180\n",
      "316     8       182\n",
      "317     8       184\n",
      "318     8       186\n",
      "319     8       188\n",
      "\n",
      "[320 rows x 2 columns]\n"
     ]
    }
   ],
   "source": [
    "import pandas as pd\n",
    "import itertools\n",
    "import numpy as np\n",
    "\n",
    "# Example data\n",
    "sdev = np.arange(5, 9, 1)\n",
    "lookback = np.arange(30, 190, 2)\n",
    "\n",
    "# Create the Cartesian product\n",
    "product = list(itertools.product(sdev, lookback))\n",
    "\n",
    "# Convert to DataFrame\n",
    "df = pd.DataFrame(product, columns=['sdev', 'lookback'])\n",
    "\n",
    "df.to_csv('my_combinations.csv')\n",
    "\n",
    "print(df)"
   ]
  }
 ],
 "metadata": {
  "kernelspec": {
   "display_name": "rapids-23.12",
   "language": "python",
   "name": "python3"
  },
  "language_info": {
   "codemirror_mode": {
    "name": "ipython",
    "version": 3
   },
   "file_extension": ".py",
   "mimetype": "text/x-python",
   "name": "python",
   "nbconvert_exporter": "python",
   "pygments_lexer": "ipython3",
   "version": "3.10.16"
  }
 },
 "nbformat": 4,
 "nbformat_minor": 4
}
