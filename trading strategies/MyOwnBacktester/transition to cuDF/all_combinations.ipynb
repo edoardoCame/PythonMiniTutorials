{
 "cells": [
  {
   "cell_type": "code",
   "execution_count": 4,
   "metadata": {},
   "outputs": [
    {
     "name": "stdout",
     "output_type": "stream",
     "text": [
      "     sdev  lookback  filter\n",
      "0       5        30    True\n",
      "1       5        30   False\n",
      "2       5        32    True\n",
      "3       5        32   False\n",
      "4       5        34    True\n",
      "..    ...       ...     ...\n",
      "635     8       184   False\n",
      "636     8       186    True\n",
      "637     8       186   False\n",
      "638     8       188    True\n",
      "639     8       188   False\n",
      "\n",
      "[640 rows x 3 columns]\n"
     ]
    }
   ],
   "source": [
    "import pandas as pd\n",
    "import itertools\n",
    "import numpy as np\n",
    "\n",
    "# Example data\n",
    "sdev = np.arange(5, 9, 1)\n",
    "lookback = np.arange(30, 190, 2)\n",
    "filter = [True, False]\n",
    "\n",
    "# Create the Cartesian product\n",
    "product = list(itertools.product(sdev, lookback, filter))\n",
    "\n",
    "# Convert to DataFrame\n",
    "df = pd.DataFrame(product, columns=['sdev', 'lookback', 'filter'])\n",
    "\n",
    "df.to_csv('my_combinations.csv')\n",
    "\n",
    "print(df)"
   ]
  }
 ],
 "metadata": {
  "kernelspec": {
   "display_name": "rapids-23.12",
   "language": "python",
   "name": "python3"
  },
  "language_info": {
   "codemirror_mode": {
    "name": "ipython",
    "version": 3
   },
   "file_extension": ".py",
   "mimetype": "text/x-python",
   "name": "python",
   "nbconvert_exporter": "python",
   "pygments_lexer": "ipython3",
   "version": "3.10.16"
  }
 },
 "nbformat": 4,
 "nbformat_minor": 4
}
