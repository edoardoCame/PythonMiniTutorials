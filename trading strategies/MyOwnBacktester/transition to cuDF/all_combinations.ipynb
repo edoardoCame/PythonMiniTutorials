{
 "cells": [
  {
   "cell_type": "code",
   "execution_count": 1,
   "metadata": {},
   "outputs": [
    {
     "name": "stdout",
     "output_type": "stream",
     "text": [
      "      sdev  lookback  filter\n",
      "0        3        30       0\n",
      "1        3        30       1\n",
      "2        3        30       2\n",
      "3        3        32       0\n",
      "4        3        32       1\n",
      "...    ...       ...     ...\n",
      "1435     8       186       1\n",
      "1436     8       186       2\n",
      "1437     8       188       0\n",
      "1438     8       188       1\n",
      "1439     8       188       2\n",
      "\n",
      "[1440 rows x 3 columns]\n"
     ]
    }
   ],
   "source": [
    "import pandas as pd\n",
    "import itertools\n",
    "import numpy as np\n",
    "\n",
    "# Example data\n",
    "sdev = np.arange(3, 9, 1)\n",
    "lookback = np.arange(30, 190, 2)\n",
    "filter = [0,1,2]\n",
    "\n",
    "# Create the Cartesian product\n",
    "product = list(itertools.product(sdev, lookback, filter))\n",
    "\n",
    "# Convert to DataFrame\n",
    "df = pd.DataFrame(product, columns=['sdev', 'lookback', 'filter'])\n",
    "\n",
    "df.to_csv('my_combinations.csv')\n",
    "\n",
    "print(df)"
   ]
  }
 ],
 "metadata": {
  "kernelspec": {
   "display_name": "rapids-23.12",
   "language": "python",
   "name": "python3"
  },
  "language_info": {
   "codemirror_mode": {
    "name": "ipython",
    "version": 3
   },
   "file_extension": ".py",
   "mimetype": "text/x-python",
   "name": "python",
   "nbconvert_exporter": "python",
   "pygments_lexer": "ipython3",
   "version": "3.10.16"
  }
 },
 "nbformat": 4,
 "nbformat_minor": 4
}
