{
 "cells": [
  {
   "cell_type": "code",
   "execution_count": 1,
   "metadata": {},
   "outputs": [
    {
     "name": "stdout",
     "output_type": "stream",
     "text": [
      "     sdev  lookback\n",
      "0       3        30\n",
      "1       3        40\n",
      "2       3        50\n",
      "3       3        60\n",
      "4       3        70\n",
      "..    ...       ...\n",
      "841     8      1390\n",
      "842     8      1400\n",
      "843     8      1410\n",
      "844     8      1420\n",
      "845     8      1430\n",
      "\n",
      "[846 rows x 2 columns]\n"
     ]
    }
   ],
   "source": [
    "import pandas as pd\n",
    "import itertools\n",
    "import numpy as np\n",
    "\n",
    "# Example data\n",
    "sdev = np.arange(3, 9, 1)\n",
    "lookback = np.arange(30, 1440, 10)\n",
    "filter = [0,1,2]\n",
    "\n",
    "# Create the Cartesian product\n",
    "product = list(itertools.product(sdev, lookback, filter))\n",
    "\n",
    "# Convert to DataFrame\n",
    "df = pd.DataFrame(product, columns=['sdev', 'lookback', 'filter'])\n",
    "\n",
    "df.to_csv('my_combinations.csv')\n",
    "\n",
    "print(df)"
   ]
  }
 ],
 "metadata": {
  "kernelspec": {
   "display_name": "rapids-23.12",
   "language": "python",
   "name": "python3"
  },
  "language_info": {
   "codemirror_mode": {
    "name": "ipython",
    "version": 3
   },
   "file_extension": ".py",
   "mimetype": "text/x-python",
   "name": "python",
   "nbconvert_exporter": "python",
   "pygments_lexer": "ipython3",
   "version": "3.10.16"
  }
 },
 "nbformat": 4,
 "nbformat_minor": 4
}
