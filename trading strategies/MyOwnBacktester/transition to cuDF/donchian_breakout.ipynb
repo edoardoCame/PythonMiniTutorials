{
 "cells": [
  {
   "cell_type": "code",
   "execution_count": null,
   "metadata": {},
   "outputs": [],
   "source": [
    "#Per importare librerie e dati\n",
    "import cudf as cf\n",
    "\n",
    "eurgbp = cf.read_csv('/home/letizia/Scrivania/python_dir/eurgbp-m1-bid-2015-01-01-2025-02-07T20:43.csv', index_col=0)"
   ]
  },
  {
   "cell_type": "code",
   "execution_count": null,
   "metadata": {},
   "outputs": [],
   "source": [
    "def backtest_donchian_sl_tp(df, window=20, stop_loss_pct=0.01, take_profit_pct=0.02, leva=10):\n",
    "    # Calcolo canali Donchian (shiftati per evitare look-ahead bias)\n",
    "\n",
    "    df = df * leva\n",
    "\n",
    "    upper = df['high'].rolling(window=window, min_periods=window).max().shift(1)\n",
    "    lower = df['low'].rolling(window=window, min_periods=window).min().shift(1)\n",
    "\n",
    "    # Segnale base\n",
    "    df['signal'] = 0\n",
    "    df.loc[df['close'] > upper, 'signal'] = 1\n",
    "    df.loc[df['close'] < lower, 'signal'] = -1\n",
    "    df['signal'] = df['signal'].ffill()\n",
    "\n",
    "    # Rendimenti\n",
    "    df['ret'] = df['close'].pct_change().fillna(0)\n",
    "   \n",
    "   \n",
    "\n",
    "    # Prezzo di entrata ffill\n",
    "    df['entry_price'] = df['close'].where(df['signal'].diff() != 0).ffill()\n",
    "\n",
    "    # Stop loss e take profit\n",
    "    stop_cond = ((df['signal'] == 1) & (df['close'] <= df['entry_price'] * (1 - (stop_loss_pct/100) ))) | \\\n",
    "                ((df['signal'] == -1) & (df['close'] >= df['entry_price'] * (1 + (stop_loss_pct/100))))\n",
    "    \n",
    "    tp_cond = ((df['signal'] == 1) & (df['close'] >= df['entry_price'] * (1 + (take_profit_pct/100 )))) | \\\n",
    "              ((df['signal'] == -1) & (df['close'] <= df['entry_price'] * (1 - (take_profit_pct/100) )))\n",
    "            \n",
    "    # Esco su stop o take profit\n",
    "    df['exit'] = (stop_cond | tp_cond)\n",
    "    \n",
    "    # Implementiamo lo Stop Loss:\n",
    "    # Se una posizione long e il prezzo scende sotto l'entry_price del stop loss,\n",
    "    # o se una posizione short e il prezzo sale sopra l'entry_price del stop loss,\n",
    "    # la posizione viene chiusa.\n",
    "    df.loc[df['exit'], 'signal'] = 0\n",
    "    df['signal'] = df['signal'].ffill()\n",
    "\n",
    "    # Strategia\n",
    "    df['strategy_ret'] = df['signal'].shift(1).fillna(0) * df['ret']\n",
    "    df['cum_return'] = (1 + df['strategy_ret']).cumprod()\n",
    "\n",
    "    return df['cum_return']"
   ]
  },
  {
   "cell_type": "code",
   "execution_count": null,
   "metadata": {},
   "outputs": [],
   "source": [
    "test = backtest_donchian_sl_tp(eurgbp, window=20, stop_loss_pct=0.01, take_profit_pct=0.02)\n",
    "print(test) "
   ]
  },
  {
   "cell_type": "markdown",
   "metadata": {},
   "source": [
    "Questo frammento di codice crea una nuova colonna, chiamata `entry_price`, basandosi sulla colonna `close`. Il metodo `where` mantiene il valore di `close` solo quando la condizione `df['signal'].diff() != 0` è vera, mentre riempie con `NaN` quando è falsa.\n",
    "\n",
    "Il risultato di questa operazione viene successivamente propagato in avanti con la funzione `ffill()`, che sostituisce i valori `NaN` con l’ultimo valore valido incontrato. In pratica, ogni volta che la differenza di `signal` è diversa da zero (indicando un possibile cambio di segnale), la colonna `entry_price` viene aggiornata con il prezzo di chiusura corrente; altrimenti, il prezzo precedente rimane immutato."
   ]
  },
  {
   "cell_type": "markdown",
   "metadata": {},
   "source": [
    "Questa porzione di codice gestisce l’uscita dalle posizioni in base alla logica di stop loss e take profit. La variabile **stop_cond** verifica quando il prezzo raggiunge un livello sfavorevole (sotto lo stop per i long e sopra lo stop per gli short), mentre la variabile **tp_cond** effettua il controllo opposto per il raggiungimento del target di profitto.\n",
    "\n",
    "In seguito, **df['exit']** consolida entrambe le condizioni e, se una di queste è soddisfatta, segnala che la posizione deve essere chiusa. Infine, **mask** imposta il segnale a zero quando si verifica l’uscita, e la funzione **ffill()** propaga in avanti i valori del segnale per evitare buchi nei dati tra una chiusura e l’apertura successiva."
   ]
  },
  {
   "cell_type": "code",
   "execution_count": null,
   "metadata": {},
   "outputs": [],
   "source": [
    "test = backtest_donchian_sl_tp(eurgbp, window=30, stop_loss_pct=0.01, take_profit_pct=0.02)\n",
    "print(test.tail())"
   ]
  },
  {
   "cell_type": "markdown",
   "metadata": {},
   "source": [
    "### Optimization function"
   ]
  },
  {
   "cell_type": "code",
   "execution_count": null,
   "metadata": {},
   "outputs": [],
   "source": [
    "import cupy as cp\n",
    "\n",
    "combinations = cp.arange(13000, 20160, 30)  # Combinazioni di finestre temporali (start from 2 to avoid window=0)\n",
    "\n",
    "results = []\n",
    "for window in combinations:\n",
    "    results.append(backtest_donchian(eurgbp, window=int(window)).iloc[-1])\n",
    "    print(f'Finestra temporale: {window}, Rendimento finale: {results[-1]}')\n",
    "\n",
    "best_window = combinations[cp.argmax(cp.array(results))]\n",
    "print(f'Migliore finestra temporale: {best_window}')"
   ]
  },
  {
   "cell_type": "code",
   "execution_count": null,
   "metadata": {},
   "outputs": [],
   "source": [
    "test = backtest_donchian_sl_tp(eurgbp, window=30, stop_loss_pct=0.001, take_profit_pct=1, leva=10)\n",
    "test.to_pandas().plot(figsize=(14, 7), title='Backtest Donchian Channel Strategy')\n",
    "test.loc[-1]"
   ]
  },
  {
   "cell_type": "markdown",
   "metadata": {},
   "source": [
    "### WORK IN PROGRESS\n",
    "C'è qualcosa che non va con lo stop loss, non si triggera. Stessa cosa per il take profit. Cercare come implementarlo in pandas."
   ]
  }
 ],
 "metadata": {
  "kernelspec": {
   "display_name": "rapids-23.12",
   "language": "python",
   "name": "python3"
  },
  "language_info": {
   "codemirror_mode": {
    "name": "ipython",
    "version": 3
   },
   "file_extension": ".py",
   "mimetype": "text/x-python",
   "name": "python",
   "nbconvert_exporter": "python",
   "pygments_lexer": "ipython3",
   "version": "3.10.16"
  }
 },
 "nbformat": 4,
 "nbformat_minor": 2
}
