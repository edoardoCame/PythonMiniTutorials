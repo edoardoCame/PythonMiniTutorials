{
 "cells": [
  {
   "cell_type": "code",
   "execution_count": 1,
   "metadata": {},
   "outputs": [
    {
     "data": {
      "text/html": [
       "<div>\n",
       "<style scoped>\n",
       "    .dataframe tbody tr th:only-of-type {\n",
       "        vertical-align: middle;\n",
       "    }\n",
       "\n",
       "    .dataframe tbody tr th {\n",
       "        vertical-align: top;\n",
       "    }\n",
       "\n",
       "    .dataframe thead th {\n",
       "        text-align: right;\n",
       "    }\n",
       "</style>\n",
       "<table border=\"1\" class=\"dataframe\">\n",
       "  <thead>\n",
       "    <tr style=\"text-align: right;\">\n",
       "      <th></th>\n",
       "      <th>open</th>\n",
       "      <th>high</th>\n",
       "      <th>low</th>\n",
       "      <th>close</th>\n",
       "      <th>volume</th>\n",
       "    </tr>\n",
       "    <tr>\n",
       "      <th>date</th>\n",
       "      <th></th>\n",
       "      <th></th>\n",
       "      <th></th>\n",
       "      <th></th>\n",
       "      <th></th>\n",
       "    </tr>\n",
       "  </thead>\n",
       "  <tbody>\n",
       "    <tr>\n",
       "      <th>2025-01-31 16:54:00</th>\n",
       "      <td>0.83602</td>\n",
       "      <td>0.83604</td>\n",
       "      <td>0.83584</td>\n",
       "      <td>0.83585</td>\n",
       "      <td>0</td>\n",
       "    </tr>\n",
       "    <tr>\n",
       "      <th>2025-01-31 16:55:00</th>\n",
       "      <td>0.83582</td>\n",
       "      <td>0.83598</td>\n",
       "      <td>0.83577</td>\n",
       "      <td>0.83591</td>\n",
       "      <td>0</td>\n",
       "    </tr>\n",
       "    <tr>\n",
       "      <th>2025-01-31 16:56:00</th>\n",
       "      <td>0.83590</td>\n",
       "      <td>0.83593</td>\n",
       "      <td>0.83579</td>\n",
       "      <td>0.83588</td>\n",
       "      <td>0</td>\n",
       "    </tr>\n",
       "    <tr>\n",
       "      <th>2025-01-31 16:57:00</th>\n",
       "      <td>0.83587</td>\n",
       "      <td>0.83589</td>\n",
       "      <td>0.83577</td>\n",
       "      <td>0.83581</td>\n",
       "      <td>0</td>\n",
       "    </tr>\n",
       "    <tr>\n",
       "      <th>2025-01-31 16:58:00</th>\n",
       "      <td>0.83578</td>\n",
       "      <td>0.83578</td>\n",
       "      <td>0.83558</td>\n",
       "      <td>0.83566</td>\n",
       "      <td>0</td>\n",
       "    </tr>\n",
       "  </tbody>\n",
       "</table>\n",
       "</div>"
      ],
      "text/plain": [
       "                        open     high      low    close  volume\n",
       "date                                                           \n",
       "2025-01-31 16:54:00  0.83602  0.83604  0.83584  0.83585       0\n",
       "2025-01-31 16:55:00  0.83582  0.83598  0.83577  0.83591       0\n",
       "2025-01-31 16:56:00  0.83590  0.83593  0.83579  0.83588       0\n",
       "2025-01-31 16:57:00  0.83587  0.83589  0.83577  0.83581       0\n",
       "2025-01-31 16:58:00  0.83578  0.83578  0.83558  0.83566       0"
      ]
     },
     "execution_count": 1,
     "metadata": {},
     "output_type": "execute_result"
    }
   ],
   "source": [
    "#Per importare librerie e dati\n",
    "import cudf as cf\n",
    "eurgbp = cf.read_parquet('/home/edoardocame/Desktop/python_dir/data/eurgbp_merged.parquet')\n",
    "eurgbp.sort_index(inplace=True)\n",
    "#eurgbp = eurgbp * 100\n",
    "eurgbp.tail()"
   ]
  },
  {
   "cell_type": "code",
   "execution_count": null,
   "metadata": {},
   "outputs": [],
   "source": [
    "def backtest_donchian_sl_tp(df, window=20, sl_pct=0.02, tp_pct=0.02):\n",
    "    # Calcolo canali Donchian (shiftati per evitare look-ahead bias)\n",
    "\n",
    "\n",
    "    upper = df['high'].rolling(window=window, min_periods=window).max().shift(1)\n",
    "    lower = df['low'].rolling(window=window, min_periods=window).min().shift(1)\n",
    "\n",
    "    # Segnale base\n",
    "    df['signal'] = 0\n",
    "    df.loc[df['close'] > upper, 'signal'] = 1\n",
    "    df.loc[df['close'] < lower, 'signal'] = -1\n",
    "    df['signal'] = df['signal'].ffill()\n",
    "\n",
    "\n",
    "    ########################\n",
    "    # Stop loss e take profit\n",
    "    df['entry_price'] = df['close'].shift(1).where(df['signal'] != df['signal'].shift(1)).ffill()\n",
    "    \n",
    "\n",
    "    # add stop loss and take profit\n",
    "    df['sl'] = df['entry_price'] * (1 - (sl_pct / 100) )\n",
    "    df['tp'] = df['entry_price'] * (1 + (tp_pct / 100) )\n",
    "\n",
    "\n",
    "    # if low crosses stop loss, and i'm long position, close position\n",
    "    df.loc[(df['low'] < df['sl']) & (df['signal'] == 1), 'signal'] = 0\n",
    "    # if high crosses take profit, and i'm long position, close position\n",
    "    df.loc[(df['high'] > df['tp']) & (df['signal'] == 1), 'signal'] = 0\n",
    "\n",
    "    \n",
    "    \n",
    "    # if high crosses stop loss, and i'm short position, close position\n",
    "    df.loc[(df['high'] > df['sl']) & (df['signal'] == -1), 'signal'] = 0\n",
    "    #if low crosses take profit, and i'm short position, close position\n",
    "    df.loc[(df['low'] < df['tp']) & (df['signal'] == -1), 'signal'] = 0\n",
    "    ########################\n",
    "\n",
    "\n",
    "    # Rendimenti\n",
    "    df['ret'] = df['close'].pct_change().fillna(0)\n",
    "   \n",
    "    # Strategia\n",
    "    df['strategy_ret'] = df['signal'].shift(1).fillna(0) * df['ret']\n",
    "    df['cum_return'] = (1 + df['strategy_ret']).cumprod()\n",
    "\n",
    "    return df['cum_return']"
   ]
  },
  {
   "cell_type": "code",
   "execution_count": 19,
   "metadata": {},
   "outputs": [
    {
     "name": "stdout",
     "output_type": "stream",
     "text": [
      "date\n",
      "2025-01-31 16:58:00    1.006311\n",
      "Name: cum_return, dtype: float64\n"
     ]
    }
   ],
   "source": [
    "test = backtest_donchian_sl_tp(eurgbp, window=2880, sl_pct=0.01, tp_pct=0.02)\n",
    "print(test.tail(1))"
   ]
  },
  {
   "cell_type": "markdown",
   "metadata": {},
   "source": [
    "Questo frammento di codice crea una nuova colonna, chiamata `entry_price`, basandosi sulla colonna `close`. Il metodo `where` mantiene il valore di `close` solo quando la condizione `df['signal'].diff() != 0` è vera, mentre riempie con `NaN` quando è falsa.\n",
    "\n",
    "Il risultato di questa operazione viene successivamente propagato in avanti con la funzione `ffill()`, che sostituisce i valori `NaN` con l’ultimo valore valido incontrato. In pratica, ogni volta che la differenza di `signal` è diversa da zero (indicando un possibile cambio di segnale), la colonna `entry_price` viene aggiornata con il prezzo di chiusura corrente; altrimenti, il prezzo precedente rimane immutato."
   ]
  },
  {
   "cell_type": "markdown",
   "metadata": {},
   "source": [
    "Questa porzione di codice gestisce l’uscita dalle posizioni in base alla logica di stop loss e take profit. La variabile **stop_cond** verifica quando il prezzo raggiunge un livello sfavorevole (sotto lo stop per i long e sopra lo stop per gli short), mentre la variabile **tp_cond** effettua il controllo opposto per il raggiungimento del target di profitto.\n",
    "\n",
    "In seguito, **df['exit']** consolida entrambe le condizioni e, se una di queste è soddisfatta, segnala che la posizione deve essere chiusa. Infine, **mask** imposta il segnale a zero quando si verifica l’uscita, e la funzione **ffill()** propaga in avanti i valori del segnale per evitare buchi nei dati tra una chiusura e l’apertura successiva."
   ]
  },
  {
   "cell_type": "code",
   "execution_count": null,
   "metadata": {},
   "outputs": [],
   "source": [
    "test = backtest_donchian_sl_tp(eurgbp, window=30, stop_loss_pct=0.01, take_profit_pct=0.02)\n",
    "print(test.tail())"
   ]
  },
  {
   "cell_type": "markdown",
   "metadata": {},
   "source": [
    "### Optimization function"
   ]
  },
  {
   "cell_type": "code",
   "execution_count": null,
   "metadata": {},
   "outputs": [],
   "source": [
    "import cupy as cp\n",
    "\n",
    "combinations = cp.arange(13000, 20160, 30)  # Combinazioni di finestre temporali (start from 2 to avoid window=0)\n",
    "\n",
    "results = []\n",
    "for window in combinations:\n",
    "    results.append(backtest_donchian(eurgbp, window=int(window)).iloc[-1])\n",
    "    print(f'Finestra temporale: {window}, Rendimento finale: {results[-1]}')\n",
    "\n",
    "best_window = combinations[cp.argmax(cp.array(results))]\n",
    "print(f'Migliore finestra temporale: {best_window}')"
   ]
  },
  {
   "cell_type": "code",
   "execution_count": null,
   "metadata": {},
   "outputs": [],
   "source": [
    "test = backtest_donchian_sl_tp(eurgbp, window=30, stop_loss_pct=0.001, take_profit_pct=1, leva=10)\n",
    "test.to_pandas().plot(figsize=(14, 7), title='Backtest Donchian Channel Strategy')\n",
    "test.loc[-1]"
   ]
  },
  {
   "cell_type": "markdown",
   "metadata": {},
   "source": [
    "### WORK IN PROGRESS\n",
    "C'è qualcosa che non va con lo stop loss, non si triggera. Stessa cosa per il take profit. Cercare come implementarlo in pandas."
   ]
  }
 ],
 "metadata": {
  "kernelspec": {
   "display_name": "rapids-23.12",
   "language": "python",
   "name": "python3"
  },
  "language_info": {
   "codemirror_mode": {
    "name": "ipython",
    "version": 3
   },
   "file_extension": ".py",
   "mimetype": "text/x-python",
   "name": "python",
   "nbconvert_exporter": "python",
   "pygments_lexer": "ipython3",
   "version": "3.10.16"
  }
 },
 "nbformat": 4,
 "nbformat_minor": 2
}
