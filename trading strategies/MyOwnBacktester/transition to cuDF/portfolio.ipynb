{
 "cells": [
  {
   "cell_type": "code",
   "execution_count": null,
   "metadata": {},
   "outputs": [],
   "source": [
    "import cudf as cf\n",
    "\n",
    "\n",
    "eurgbp = cf.read_csv(\"/home/edoardocame/Desktop/python_dir/data/eurgbp-m1-bid-2015-01-01-2025-01-30T14:40.csv\", index_col=0)\n",
    "audnzd = cf.read_csv(\"/home/edoardocame/Desktop/python_dir/data/audnzd-m1-bid-2015-01-01-2025-01-30T14:40.csv\", index_col=0)"
   ]
  }
 ],
 "metadata": {
  "kernelspec": {
   "display_name": "rapids-23.12",
   "language": "python",
   "name": "python3"
  },
  "language_info": {
   "name": "python",
   "version": "3.10.16"
  }
 },
 "nbformat": 4,
 "nbformat_minor": 2
}
