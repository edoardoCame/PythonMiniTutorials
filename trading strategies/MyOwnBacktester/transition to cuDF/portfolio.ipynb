{
 "cells": [
  {
   "cell_type": "markdown",
   "metadata": {},
   "source": [
    "## Introduction:\n",
    "I need to backtest a portfolio of currency pairs with the same bollinger bands strategy, defined in bollinger.py;\n",
    "The challenge is merging dataframes and computing cumulative returns, and then apply a rebalancing strategy, maybe using some external python library."
   ]
  },
  {
   "cell_type": "code",
   "execution_count": 3,
   "metadata": {},
   "outputs": [],
   "source": [
    "import cudf as cf\n",
    "\n",
    "eurgbp = cf.read_csv(\"/home/edoardocame/Desktop/python_dir/data/eurgbp-m1-bid-2015-01-01-2025-01-30T14:40.csv\", index_col=0)\n",
    "audnzd = cf.read_csv(\"/home/edoardocame/Desktop/python_dir/data/audnzd-m1-bid-2015-01-01-2025-01-31T15:24.csv\", index_col=0)\n",
    "\n",
    "#from bollinger import backtest_bollinger_strategy"
   ]
  },
  {
   "cell_type": "code",
   "execution_count": null,
   "metadata": {},
   "outputs": [],
   "source": [
    "merged_df = eurgbp.join(audnzd, lsuffix='_eurgbp', rsuffix='_audnzd', how='outer').sort_index()\n",
    "merged_df.ffill(inplace=True)\n",
    "print(merged_df)"
   ]
  },
  {
   "cell_type": "markdown",
   "metadata": {},
   "source": [
    "# WORK IN PROGRESS"
   ]
  },
  {
   "cell_type": "code",
   "execution_count": null,
   "metadata": {},
   "outputs": [],
   "source": [
    "#Qui conduco l'ottimizzazione per ogni coppia singolarmente, in caso io non conosca le coppie migliori.\n",
    "#from bb_optimizer import bb_optimizer\n",
    "#import pandas as pd\n",
    "#\n",
    "#my_combinations = pd.read_csv('/home/edoardocame/Desktop/python_dir/PythonMiniTutorials/trading strategies/MyOwnBacktester/transition to cuDF/my_combinations.csv')\n",
    "#result = bb_optimizer(my_combinations= my_combinations, pair=audnzd)"
   ]
  },
  {
   "cell_type": "markdown",
   "metadata": {},
   "source": [
    "# Explanations of joins and merges"
   ]
  },
  {
   "cell_type": "markdown",
   "metadata": {},
   "source": [
    "The `how` parameter in both `join` and `merge` specifies the type of join to perform. Here are the different types:\n",
    "\n",
    "### Inner Join\n",
    "- **Description**: Returns only the rows with matching keys in both DataFrames.\n",
    "- **Example**:\n"
   ]
  },
  {
   "cell_type": "code",
   "execution_count": null,
   "metadata": {},
   "outputs": [],
   "source": [
    "result = df1.join(df2, how='inner')\n",
    "# or\n",
    "result = pd.merge(df1, df2, how='inner', on='key')"
   ]
  },
  {
   "cell_type": "markdown",
   "metadata": {},
   "source": [
    "\n",
    "\n",
    "### Outer Join\n",
    "- **Description**: Returns all rows from both DataFrames, with `NaN` where there are no matches.\n",
    "- **Example**:\n"
   ]
  },
  {
   "cell_type": "code",
   "execution_count": null,
   "metadata": {},
   "outputs": [],
   "source": [
    "result = df1.join(df2, how='outer')\n",
    "# or\n",
    "result = pd.merge(df1, df2, how='outer', on='key')"
   ]
  },
  {
   "cell_type": "markdown",
   "metadata": {},
   "source": [
    "\n",
    "\n",
    "### Left Join\n",
    "- **Description**: Returns all rows from the left DataFrame, and the matched rows from the right DataFrame. Unmatched rows from the right DataFrame will have `NaN`.\n",
    "- **Example**:\n"
   ]
  },
  {
   "cell_type": "code",
   "execution_count": null,
   "metadata": {},
   "outputs": [],
   "source": [
    "result = df1.join(df2, how='left')\n",
    "# or\n",
    "result = pd.merge(df1, df2, how='left', on='key')"
   ]
  },
  {
   "cell_type": "markdown",
   "metadata": {},
   "source": [
    "\n",
    "\n",
    "### Right Join\n",
    "- **Description**: Returns all rows from the right DataFrame, and the matched rows from the left DataFrame. Unmatched rows from the left DataFrame will have `NaN`.\n",
    "- **Example**:\n"
   ]
  },
  {
   "cell_type": "code",
   "execution_count": null,
   "metadata": {},
   "outputs": [],
   "source": [
    "result = df1.join(df2, how='right')\n",
    "# or\n",
    "result = pd.merge(df1, df2, how='right', on='key')"
   ]
  },
  {
   "cell_type": "markdown",
   "metadata": {},
   "source": [
    "\n",
    "\n",
    "### Visual Representation\n",
    "\n",
    "Assume `df1` and `df2` are:\n",
    "\n"
   ]
  },
  {
   "cell_type": "code",
   "execution_count": null,
   "metadata": {},
   "outputs": [],
   "source": [
    "df1:\n",
    "   key  A\n",
    "0   K0  A0\n",
    "1   K1  A1\n",
    "2   K2  A2\n",
    "\n",
    "df2:\n",
    "   key  B\n",
    "0   K0  B0\n",
    "1   K2  B1\n",
    "2   K3  B2"
   ]
  },
  {
   "cell_type": "markdown",
   "metadata": {},
   "source": [
    "\n",
    "\n",
    "- **Inner Join**:\n",
    "  ```\n",
    "  key  A   B\n",
    "  0   K0  A0  B0\n",
    "  1   K2  A2  B1\n",
    "  ```\n",
    "\n",
    "- **Outer Join**:\n",
    "  ```\n",
    "  key  A   B\n",
    "  0   K0  A0  B0\n",
    "  1   K1  A1  NaN\n",
    "  2   K2  A2  B1\n",
    "  3   K3  NaN B2\n",
    "  ```\n",
    "\n",
    "- **Left Join**:\n",
    "  ```\n",
    "  key  A   B\n",
    "  0   K0  A0  B0\n",
    "  1   K1  A1  NaN\n",
    "  2   K2  A2  B1\n",
    "  ```\n",
    "\n",
    "- **Right Join**:\n",
    "  ```\n",
    "  key  A   B\n",
    "  0   K0  A0  B0\n",
    "  1   K2  A2  B1\n",
    "  2   K3  NaN B2\n",
    "  ```"
   ]
  }
 ],
 "metadata": {
  "kernelspec": {
   "display_name": "rapids-23.12",
   "language": "python",
   "name": "python3"
  },
  "language_info": {
   "codemirror_mode": {
    "name": "ipython",
    "version": 3
   },
   "file_extension": ".py",
   "mimetype": "text/x-python",
   "name": "python",
   "nbconvert_exporter": "python",
   "pygments_lexer": "ipython3",
   "version": "3.10.16"
  }
 },
 "nbformat": 4,
 "nbformat_minor": 2
}
