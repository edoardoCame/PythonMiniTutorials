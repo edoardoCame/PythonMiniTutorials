{
 "cells": [
  {
   "cell_type": "markdown",
   "metadata": {},
   "source": [
    "# Introduction\n",
    "\n",
    "Here my goal is to introduce a basic stop loss and take profit logic using pandas (so i can leverage cuDF for backtests) that I can apply to any strategy."
   ]
  },
  {
   "cell_type": "code",
   "execution_count": 1,
   "metadata": {},
   "outputs": [
    {
     "name": "stdout",
     "output_type": "stream",
     "text": [
      "        close        SMA  new_entry  entry_price  exit_condition signal  \\\n",
      "90  91.204340  91.350846      False          NaN            True   Sell   \n",
      "91  92.172985  91.336016       True    92.172985           False    Buy   \n",
      "92  91.470932  91.287875      False    92.172985           False          \n",
      "93  91.143269  91.145119      False          NaN            True   Sell   \n",
      "94  90.751161  91.113744      False          NaN            True   Sell   \n",
      "95  89.287646  90.968099      False          NaN            True   Sell   \n",
      "96  89.583767  90.832907      False          NaN            True   Sell   \n",
      "97  89.844822  90.725718      False          NaN            True   Sell   \n",
      "98  89.849935  90.614197      False          NaN            True   Sell   \n",
      "99  89.615348  90.590325      False          NaN            True   Sell   \n",
      "\n",
      "    position  \n",
      "90        -1  \n",
      "91         1  \n",
      "92         0  \n",
      "93        -1  \n",
      "94        -1  \n",
      "95        -1  \n",
      "96        -1  \n",
      "97        -1  \n",
      "98        -1  \n",
      "99        -1  \n"
     ]
    }
   ],
   "source": [
    "import pandas as pd\n",
    "import numpy as np\n",
    "\n",
    "# generate sample data\n",
    "np.random.seed(42)\n",
    "data = np.random.randn(100).cumsum() + 100\n",
    "df = pd.DataFrame({'close': data})\n",
    "\n",
    "# compute SMA with a window of 20\n",
    "window = 20\n",
    "df['SMA'] = df['close'].rolling(window=window).mean()\n",
    "\n",
    "# parameters for stop loss (5%) and take profit (10%)\n",
    "stop_loss_pct = 0.05\n",
    "take_profit_pct = 0.10\n",
    "\n",
    "# vectorized entry: flag a new trade only when price crosses above SMA\n",
    "df['new_entry'] = (df['close'] > df['SMA']) & (df['close'].shift(1) <= df['SMA'].shift(1))\n",
    "\n",
    "# Set entry price only at new entry points, then forward-fill\n",
    "df['entry_price'] = np.where(df['new_entry'], df['close'], np.nan)\n",
    "df['entry_price'] = df['entry_price'].ffill()\n",
    "\n",
    "# Compute exit condition based on the entry price:\n",
    "# exit if price <= entry*(1 - stop_loss) OR price >= entry*(1 + take_profit) OR price < SMA\n",
    "exit_sl = df['close'] <= df['entry_price'] * (1 - stop_loss_pct)\n",
    "exit_tp = df['close'] >= df['entry_price'] * (1 + take_profit_pct)\n",
    "exit_sma = df['close'] < df['SMA']\n",
    "df['exit_condition'] = exit_sl | exit_tp | exit_sma\n",
    "\n",
    "# Create a signal column based on vectorized conditions:\n",
    "# Issue 'Buy' when a new entry is flagged; issue 'Sell' when the exit condition is met.\n",
    "df['signal'] = np.where(df['new_entry'], 'Buy', '')\n",
    "df.loc[df['exit_condition'], 'signal'] = 'Sell'\n",
    "\n",
    "# Generate a basic position flag: 1 at buy, -1 at exit, 0 elsewhere\n",
    "df['position'] = np.where(df['signal'] == 'Buy', 1, np.where(df['signal'] == 'Sell', -1, 0))\n",
    "\n",
    "# Optional: clear the entry price after selling to start fresh\n",
    "df.loc[df['signal'] == 'Sell', 'entry_price'] = np.nan\n",
    "\n",
    "print(df.tail(10))"
   ]
  },
  {
   "cell_type": "markdown",
   "metadata": {},
   "source": [
    "# Detailed Explanation of the Vectorized SMA Strategy\n",
    "\n",
    "1. Imported pandas and numpy and generated cumulative sample price data.\n",
    "2. Calculated a 20-period Simple Moving Average (SMA) for the close prices.\n",
    "3. Defined stop loss (5%) and take profit (10%) thresholds.\n",
    "4. Detected new entry signals when the close price crosses above the SMA compared to the previous row, marking these events as 'Buy'.\n",
    "5. Captured the entry price at the moment of a buy signal and forward-filled it for subsequent rows.\n",
    "6. Computed exit conditions in a vectorized manner: exit is signaled if the price falls to or below the stop loss, rises to or above take profit, or falls below the SMA. This triggers a 'Sell' signal.\n",
    "7. Assigned position flags (1 for buy, -1 for sell, 0 otherwise) based on these signals, and reset the entry price upon selling.\n",
    "\n",
    "This entirely vectorized approach eliminates the need for for-loops, leveraging pandas and numpy for efficient computation."
   ]
  }
 ],
 "metadata": {
  "kernelspec": {
   "display_name": "rapids-23.12",
   "language": "python",
   "name": "python3"
  },
  "language_info": {
   "codemirror_mode": {
    "name": "ipython",
    "version": 3
   },
   "file_extension": ".py",
   "mimetype": "text/x-python",
   "name": "python",
   "nbconvert_exporter": "python",
   "pygments_lexer": "ipython3",
   "version": "3.10.16"
  }
 },
 "nbformat": 4,
 "nbformat_minor": 2
}
