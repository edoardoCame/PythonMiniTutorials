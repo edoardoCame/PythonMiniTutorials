{
 "cells": [
  {
   "cell_type": "markdown",
   "metadata": {},
   "source": [
    "### Filtrando i dati\n",
    "\n",
    "devo leggere tutt .csv e salvare solamente la 'close' di ogni csv"
   ]
  },
  {
   "cell_type": "code",
   "execution_count": 1,
   "metadata": {},
   "outputs": [],
   "source": [
    "import cudf as cf\n",
    "from bollinger_filter import backtest_bollinger_strategy\n",
    "\n",
    "eurgbp = cf.read_csv('/home/edoardocame/Desktop/python_dir/data/eurgbp-m1-bid-2015-01-01-2025-01-30T14:40.csv')\n",
    "train_size = 0.1\n",
    "eurgbp_train = eurgbp.iloc[:int(len(eurgbp)*train_size)] #selects the first slice of data as training set\n",
    "eurgbp_test = eurgbp.iloc[int(len(eurgbp)*train_size):] #$selects the second slice of data as test set\n",
    "\n",
    "\n",
    "#audnzd = cf.read_csv('/home/edoardocame/Desktop/python_dir/data/audnzd-m1-bid-2015-01-01-2025-01-31T15:24.csv')\n",
    "#eurchf = cf.read_csv('/home/edoardocame/Desktop/python_dir/data/eurchf-m1-bid-2024-01-01-2025-01-28.csv')"
   ]
  },
  {
   "cell_type": "code",
   "execution_count": null,
   "metadata": {},
   "outputs": [],
   "source": [
    "len(audnzd['close'])"
   ]
  },
  {
   "cell_type": "markdown",
   "metadata": {},
   "source": [
    "### Ottimizzazione dei parametri con pandas/polars\n",
    "Devo ottimizzare i parametri dei backtest per poi testarli nel portafoglio combinato"
   ]
  },
  {
   "cell_type": "code",
   "execution_count": null,
   "metadata": {},
   "outputs": [],
   "source": [
    "#Questa è la via pandas, susseguentemente farò quella con polars;\n",
    "#ci mettono lo stesso identico tempo in termini di velocità.\n",
    "\n",
    "import pandas as pd\n",
    "import time as t\n",
    "\n",
    "my_combinations = pd.read_csv('/home/edoardocame/Desktop/python_dir/PythonMiniTutorials/trading strategies/MyOwnBacktester/transition to cuDF/my_combinations.csv', index_col=0)\n",
    "\n",
    "start_time = t.time()\n",
    "\n",
    "####################\n",
    "my_combinations['result'] = 0\n",
    "def apply_strategy(row):\n",
    "    result = backtest_bollinger_strategy(data=eurgbp, lookback=row['lookback'], \n",
    "                                         sdev=row['sdev'], leverage=10, filter=row['filter'], fee_percentage=0.01)\n",
    "    print(f\"Processed lookback: {row['lookback']}, sdev: {row['sdev']}, result: {result}\")\n",
    "    return result\n",
    "\n",
    "my_combinations['result'] = my_combinations.apply(apply_strategy, axis=1)\n",
    "####################\n",
    "\n",
    "end_time = t.time() - start_time\n",
    "\n",
    "print(f\"Time elapsed: {end_time}\")"
   ]
  },
  {
   "cell_type": "code",
   "execution_count": 5,
   "metadata": {},
   "outputs": [],
   "source": [
    "my_combinations.to_csv('/home/edoardocame/Desktop/python_dir/PythonMiniTutorials/trading strategies/MyOwnBacktester/transition to cuDF/my_combinations_results.csv')"
   ]
  },
  {
   "cell_type": "code",
   "execution_count": null,
   "metadata": {},
   "outputs": [],
   "source": [
    "#Ora con Polars:\n",
    "\n",
    "#import polars as pl\n",
    "#import time as t\n",
    "#\n",
    "#my_combinations = pl.read_csv('/home/edoardocame/Desktop/python_dir/transition to cuDF/my_combinations.csv')\n",
    "#\n",
    "#start_time = t.time()\n",
    "#results = []\n",
    "#for row in my_combinations.iter_rows(named=True): #named = True serve per indicare le colonne\n",
    "#    result = backtest_bollinger_strategy(data=eurgbp, lookback=row['lookback'], sdev=row['sdev'])\n",
    "#    print(f\"Processed lookback: {row['lookback']}, sdev: {row['sdev']}, result: {result}\")\n",
    "#    results.append(result)\n",
    "#\n",
    "#my_combinations = my_combinations.with_columns(pl.Series(name=\"result\", values=results))\n",
    "#end_time = t.time() - start_time\n",
    "#\n",
    "#\n",
    "#print(f\"Time elapsed: {end_time}\")"
   ]
  },
  {
   "cell_type": "markdown",
   "metadata": {},
   "source": [
    "### Analisi dei migliori parametri\n",
    "Qui analizzo quali sono i migliori parametri trovati per EUR/GBP;\n",
    "Poi farò lo stesso con le altre coppie."
   ]
  },
  {
   "cell_type": "code",
   "execution_count": null,
   "metadata": {},
   "outputs": [],
   "source": [
    "import cudf as cf\n",
    "\n",
    "my_combinations = cf.read_csv('/home/edoardocame/Desktop/python_dir/transition to cuDF/my_combinations_results_leverage.csv', index_col=0)\n",
    "params = my_combinations[my_combinations['result'] == my_combinations['result'].max()]\n",
    "print(params)"
   ]
  },
  {
   "cell_type": "code",
   "execution_count": 6,
   "metadata": {},
   "outputs": [
    {
     "data": {
      "image/png": "[encoded data removed]",
      "text/plain": [
       "<Figure size 640x480 with 1 Axes>"
      ]
     },
     "metadata": {},
     "output_type": "display_data"
    }
   ],
   "source": [
    "from bollinger_filter import backtest_bollinger_strategy\n",
    "import cudf as cf\n",
    "\n",
    "esempio = backtest_bollinger_strategy(data = eurgbp, lookback= 60, sdev= 5, \n",
    "                                      fee_percentage=0.01, return_series=True, leverage=10, filter=0)\n",
    "\n",
    "\n",
    "import matplotlib.pyplot as plt\n",
    "esempio.dropna(inplace=True)\n",
    "plt.plot(esempio)\n",
    "plt.title('Equity curve')\n",
    "plt.show()"
   ]
  },
  {
   "cell_type": "markdown",
   "metadata": {},
   "source": [
    "Qui voglio vedere se i filtri hanno avuto effetto;"
   ]
  },
  {
   "cell_type": "code",
   "execution_count": null,
   "metadata": {},
   "outputs": [],
   "source": [
    "import cudf as cf\n",
    "\n",
    "df = cf.read_csv('/home/edoardocame/Desktop/python_dir/PythonMiniTutorials/trading strategies/MyOwnBacktester/transition to cuDF/my_combinations_results.csv')\n",
    "df = df.dropna()\n",
    "\n",
    "#Voglio vedere se la media dei risultati varia significativamente in base al filtro;\n",
    "#Se non varia, posso escluderlo dalla strategia.\n",
    "df.groupby('filter')['result'].mean()"
   ]
  },
  {
   "cell_type": "markdown",
   "metadata": {},
   "source": [
    "#### Plot 3d dei risultati\n",
    "Esempio di ottimizzazione con eur/gbp: mostriamo un grafico 3d dei risultati;"
   ]
  },
  {
   "cell_type": "code",
   "execution_count": null,
   "metadata": {},
   "outputs": [],
   "source": [
    "import pandas as pd\n",
    "import plotly.graph_objects as go\n",
    "\n",
    "my_combinations = pd.read_csv('/home/edoardocame/Desktop/python_dir/transition to cuDF/my_combinations_results_leverage.csv')\n",
    "\n",
    "#Subset the data keeping only sdevs between 4 and 10\n",
    "my_combinations = my_combinations[(my_combinations['sdev'] > 3) & (my_combinations['sdev'] < 10)]\n",
    "\n",
    "\n",
    "z = my_combinations['result'].values\n",
    "x = my_combinations['sdev'].values\n",
    "y = my_combinations['lookback'].values\n",
    "\n",
    "fig = go.Figure(data=[go.Scatter3d(x=x, y=y, z=z, mode='markers', marker=dict(size=12, color=z, colorscale='Viridis', opacity=0.8))])\n",
    "fig.update_layout(scene = dict(xaxis_title='Standard Deviation', yaxis_title='Lookback', zaxis_title='Result'))\n",
    "fig.show()\n",
    "\n"
   ]
  }
 ],
 "metadata": {
  "kernelspec": {
   "display_name": "rapids-23.12",
   "language": "python",
   "name": "python3"
  },
  "language_info": {
   "codemirror_mode": {
    "name": "ipython",
    "version": 3
   },
   "file_extension": ".py",
   "mimetype": "text/x-python",
   "name": "python",
   "nbconvert_exporter": "python",
   "pygments_lexer": "ipython3",
   "version": "3.10.16"
  }
 },
 "nbformat": 4,
 "nbformat_minor": 2
}
