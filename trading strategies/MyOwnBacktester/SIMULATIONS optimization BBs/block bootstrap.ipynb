{
 "cells": [
  {
   "cell_type": "code",
   "execution_count": 1,
   "metadata": {},
   "outputs": [],
   "source": [
    "#-----------------IMPORTS-----------------#\n",
    "from main_func import * #we import numba, numpy and the backtest function from here\n",
    "import pandas as pd #we separately import pandas to read data from a csv file\n",
    "\n",
    "\n",
    "#-----------------DATA-----------------#\n",
    "#1min EURGBP data\n",
    "url = \"https://onedrive.live.com/download?resid=4E16D53638D067A9%21339325&authkey=!AHOCBUokDjDiCc8\"\n",
    "\n",
    "#1 second EURGBP data\n",
    "#url = \"https://onedrive.live.com/download?resid=4E16D53638D067A9%21339754&authkey=!ACcJZZPFqOmKVUY\"\n",
    "\n",
    "data_downloaded = pd.read_csv(url, parse_dates = True, index_col=0) #it's a time series data, so I'm setting the index to be the first column\n",
    "close = data_downloaded[\"close\"].to_numpy() #We transform the close prices into a numpy array"
   ]
  },
  {
   "cell_type": "code",
   "execution_count": 2,
   "metadata": {},
   "outputs": [],
   "source": [
    "#### Combine everything into a function\n",
    "def BlockBootstrapping(close_data, num_blocks=100, num_simulations=100):\n",
    "    \n",
    "    #We define the the variables:\n",
    "    #---------------------------------#\n",
    "    returns = np.zeros(len(close_data))\n",
    "    for i in range(1,len(close_data)):\n",
    "        returns[i] = (close_data[i] - close_data[i-1]) / close_data[i-1]\n",
    "    \n",
    "\n",
    "    \n",
    "    returns_segments = np.array_split(returns, num_blocks)\n",
    "    \n",
    "    #---------------------------------#\n",
    "\n",
    "\n",
    "    #for loops:\n",
    "    #---------------------------------#\n",
    "    shuffled_returns_matrix = np.zeros((len(returns), num_simulations))\n",
    "\n",
    "    for i in range(num_simulations):\n",
    "        \n",
    "        np.random.shuffle(returns_segments)\n",
    "        shuffled_returns = np.concatenate(returns_segments)\n",
    "        shuffled_returns_matrix[:,i] = shuffled_returns\n",
    "\n",
    "\n",
    "    \n",
    "    #---------------------------------#\n",
    "\n",
    "    \n",
    "    return shuffled_returns_matrix\n",
    "\n",
    "shuffled_returns_matrix = BlockBootstrapping(close_data = close, num_blocks=10, num_simulations=10)"
   ]
  }
 ],
 "metadata": {
  "kernelspec": {
   "display_name": "Python 3",
   "language": "python",
   "name": "python3"
  },
  "language_info": {
   "codemirror_mode": {
    "name": "ipython",
    "version": 3
   },
   "file_extension": ".py",
   "mimetype": "text/x-python",
   "name": "python",
   "nbconvert_exporter": "python",
   "pygments_lexer": "ipython3",
   "version": "3.10.14"
  }
 },
 "nbformat": 4,
 "nbformat_minor": 2
}
