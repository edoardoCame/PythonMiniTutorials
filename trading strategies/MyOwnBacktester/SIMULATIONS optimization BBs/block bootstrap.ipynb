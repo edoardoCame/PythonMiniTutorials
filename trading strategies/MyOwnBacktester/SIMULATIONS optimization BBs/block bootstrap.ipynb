{
 "cells": [
  {
   "cell_type": "code",
   "execution_count": 7,
   "metadata": {},
   "outputs": [],
   "source": [
    "#-----------------IMPORTS-----------------#\n",
    "from main_func import * #we import numba, numpy and the backtest function from here\n",
    "import pandas as pd #we separately import pandas to read data from a csv file\n",
    "\n",
    "\n",
    "#-----------------DATA-----------------#\n",
    "#1min EURGBP data\n",
    "url = \"https://onedrive.live.com/download?resid=4E16D53638D067A9%21339325&authkey=!AHOCBUokDjDiCc8\"\n",
    "\n",
    "#1 second EURGBP data\n",
    "#url = \"https://onedrive.live.com/download?resid=4E16D53638D067A9%21339754&authkey=!ACcJZZPFqOmKVUY\"\n",
    "\n",
    "data_downloaded = pd.read_csv(url, parse_dates = True, index_col=0) #it's a time series data, so I'm setting the index to be the first column\n",
    "close = data_downloaded[\"close\"].to_numpy() #We transform the close prices into a numpy array"
   ]
  },
  {
   "cell_type": "code",
   "execution_count": 8,
   "metadata": {},
   "outputs": [
    {
     "ename": "NameError",
     "evalue": "name 'segments' is not defined",
     "output_type": "error",
     "traceback": [
      "\u001b[1;31m---------------------------------------------------------------------------\u001b[0m",
      "\u001b[1;31mNameError\u001b[0m                                 Traceback (most recent call last)",
      "Cell \u001b[1;32mIn[8], line 10\u001b[0m\n\u001b[0;32m      6\u001b[0m     returns[i] \u001b[38;5;241m=\u001b[39m (close[i] \u001b[38;5;241m-\u001b[39m close[i\u001b[38;5;241m-\u001b[39m\u001b[38;5;241m1\u001b[39m]) \u001b[38;5;241m/\u001b[39m close[i\u001b[38;5;241m-\u001b[39m\u001b[38;5;241m1\u001b[39m]\n\u001b[0;32m      9\u001b[0m returns_segments \u001b[38;5;241m=\u001b[39m np\u001b[38;5;241m.\u001b[39marray_split(returns, \u001b[38;5;241m10\u001b[39m)\n\u001b[1;32m---> 10\u001b[0m np\u001b[38;5;241m.\u001b[39mrandom\u001b[38;5;241m.\u001b[39mshuffle(\u001b[43msegments\u001b[49m) \u001b[38;5;66;03m#this command shuffles the segments in place\u001b[39;00m\n",
      "\u001b[1;31mNameError\u001b[0m: name 'segments' is not defined"
     ]
    }
   ],
   "source": [
    "### Need to split the time series\n",
    "import numpy as np\n",
    "\n",
    "returns = np.zeros(len(close))\n",
    "for i in range(1,len(close)):\n",
    "    returns[i] = (close[i] - close[i-1]) / close[i-1]\n",
    "\n",
    "\n",
    "returns_segments = np.array_split(returns, 10)\n",
    "np.random.shuffle(segments) #this command shuffles the segments in place"
   ]
  }
 ],
 "metadata": {
  "kernelspec": {
   "display_name": "Python 3",
   "language": "python",
   "name": "python3"
  },
  "language_info": {
   "codemirror_mode": {
    "name": "ipython",
    "version": 3
   },
   "file_extension": ".py",
   "mimetype": "text/x-python",
   "name": "python",
   "nbconvert_exporter": "python",
   "pygments_lexer": "ipython3",
   "version": "3.10.14"
  }
 },
 "nbformat": 4,
 "nbformat_minor": 2
}
