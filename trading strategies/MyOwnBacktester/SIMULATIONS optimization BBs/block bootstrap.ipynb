{
 "cells": [
  {
   "cell_type": "code",
   "execution_count": 1,
   "metadata": {},
   "outputs": [],
   "source": [
    "#-----------------IMPORTS-----------------#\n",
    "import pandas as pd #we separately import pandas to read data from a csv file\n",
    "import numpy as np #we import numpy to work with arrays\n",
    "\n",
    "#-----------------DATA-----------------#\n",
    "#1min EURGBP data\n",
    "url = \"https://onedrive.live.com/download?resid=4E16D53638D067A9%21339325&authkey=!AHOCBUokDjDiCc8\"\n",
    "\n",
    "#1 second EURGBP data\n",
    "#url = \"https://onedrive.live.com/download?resid=4E16D53638D067A9%21339754&authkey=!ACcJZZPFqOmKVUY\"\n",
    "\n",
    "data_downloaded = pd.read_csv(url, parse_dates = True, index_col=0) #it's a time series data, so I'm setting the index to be the first column\n",
    "close = data_downloaded[\"close\"].to_numpy() #We transform the close prices into a numpy array"
   ]
  },
  {
   "cell_type": "code",
   "execution_count": 4,
   "metadata": {},
   "outputs": [
    {
     "ename": "TypingError",
     "evalue": "Failed in nopython mode pipeline (step: nopython frontend)\n\u001b[1m\u001b[1m\u001b[1m\u001b[1mFailed in nopython mode pipeline (step: nopython frontend)\n\u001b[1m\u001b[1m\u001b[1mNo implementation of function Function(<built-in method permutation of numpy.random.mtrand.RandomState object at 0x000001E17F666740>) found for signature:\n \n >>> permutation(list(array(float64, 1d, C))<iv=None>)\n \nThere are 2 candidate implementations:\n\u001b[1m      - Of which 2 did not match due to:\n      Overload of function 'permutation': File: numba\\cpython\\randomimpl.py: Line 1861.\n        With argument(s): '(list(array(float64, 1d, C))<iv=None>)':\u001b[0m\n\u001b[1m       No match.\u001b[0m\n\u001b[0m\n\u001b[0m\u001b[1mDuring: resolving callee type: Function(<built-in method permutation of numpy.random.mtrand.RandomState object at 0x000001E17F666740>)\u001b[0m\n\u001b[0m\u001b[1mDuring: typing of call at C:\\Users\\camere\\AppData\\Local\\Temp\\31\\ipykernel_57504\\4047399918.py (15)\n\u001b[0m\n\u001b[1m\nFile \"..\\..\\..\\..\\..\\AppData\\Local\\Temp\\31\\ipykernel_57504\\4047399918.py\", line 15:\u001b[0m\n\u001b[1m<source missing, REPL/exec in use?>\u001b[0m\n\n\u001b[0m\u001b[1mDuring: resolving callee type: type(CPUDispatcher(<function permutation at 0x000001E1511CDFC0>))\u001b[0m\n\u001b[0m\u001b[1mDuring: typing of call at C:\\Users\\camere\\AppData\\Local\\Temp\\31\\ipykernel_57504\\4047399918.py (45)\n\u001b[0m\n\u001b[0m\u001b[1mDuring: resolving callee type: type(CPUDispatcher(<function permutation at 0x000001E1511CDFC0>))\u001b[0m\n\u001b[0m\u001b[1mDuring: typing of call at C:\\Users\\camere\\AppData\\Local\\Temp\\31\\ipykernel_57504\\4047399918.py (45)\n\u001b[0m\n\u001b[1m\nFile \"..\\..\\..\\..\\..\\AppData\\Local\\Temp\\31\\ipykernel_57504\\4047399918.py\", line 45:\u001b[0m\n\u001b[1m<source missing, REPL/exec in use?>\u001b[0m\n",
     "output_type": "error",
     "traceback": [
      "\u001b[1;31m---------------------------------------------------------------------------\u001b[0m",
      "\u001b[1;31mTypingError\u001b[0m                               Traceback (most recent call last)",
      "Cell \u001b[1;32mIn[4], line 58\u001b[0m\n\u001b[0;32m     53\u001b[0m     \u001b[38;5;66;03m#---------------------------------#\u001b[39;00m\n\u001b[0;32m     56\u001b[0m     \u001b[38;5;28;01mreturn\u001b[39;00m shuffled_returns_matrix\n\u001b[1;32m---> 58\u001b[0m shuffled_returns_matrix \u001b[38;5;241m=\u001b[39m \u001b[43mBlockBootstrapping\u001b[49m\u001b[43m(\u001b[49m\u001b[43mclose_data\u001b[49m\u001b[43m \u001b[49m\u001b[38;5;241;43m=\u001b[39;49m\u001b[43m \u001b[49m\u001b[43mclose\u001b[49m\u001b[43m,\u001b[49m\u001b[43m \u001b[49m\u001b[43mnum_blocks\u001b[49m\u001b[38;5;241;43m=\u001b[39;49m\u001b[38;5;241;43m10\u001b[39;49m\u001b[43m,\u001b[49m\u001b[43m \u001b[49m\u001b[43mnum_simulations\u001b[49m\u001b[38;5;241;43m=\u001b[39;49m\u001b[38;5;241;43m10\u001b[39;49m\u001b[43m)\u001b[49m\n",
      "File \u001b[1;32mc:\\Users\\camere\\Conda_3.10_enviroment\\.conda\\lib\\site-packages\\numba\\core\\dispatcher.py:423\u001b[0m, in \u001b[0;36m_DispatcherBase._compile_for_args\u001b[1;34m(self, *args, **kws)\u001b[0m\n\u001b[0;32m    419\u001b[0m         msg \u001b[38;5;241m=\u001b[39m (\u001b[38;5;124mf\u001b[39m\u001b[38;5;124m\"\u001b[39m\u001b[38;5;132;01m{\u001b[39;00m\u001b[38;5;28mstr\u001b[39m(e)\u001b[38;5;241m.\u001b[39mrstrip()\u001b[38;5;132;01m}\u001b[39;00m\u001b[38;5;124m \u001b[39m\u001b[38;5;130;01m\\n\u001b[39;00m\u001b[38;5;130;01m\\n\u001b[39;00m\u001b[38;5;124mThis error may have been caused \u001b[39m\u001b[38;5;124m\"\u001b[39m\n\u001b[0;32m    420\u001b[0m                \u001b[38;5;124mf\u001b[39m\u001b[38;5;124m\"\u001b[39m\u001b[38;5;124mby the following argument(s):\u001b[39m\u001b[38;5;130;01m\\n\u001b[39;00m\u001b[38;5;132;01m{\u001b[39;00margs_str\u001b[38;5;132;01m}\u001b[39;00m\u001b[38;5;130;01m\\n\u001b[39;00m\u001b[38;5;124m\"\u001b[39m)\n\u001b[0;32m    421\u001b[0m         e\u001b[38;5;241m.\u001b[39mpatch_message(msg)\n\u001b[1;32m--> 423\u001b[0m     \u001b[43merror_rewrite\u001b[49m\u001b[43m(\u001b[49m\u001b[43me\u001b[49m\u001b[43m,\u001b[49m\u001b[43m \u001b[49m\u001b[38;5;124;43m'\u001b[39;49m\u001b[38;5;124;43mtyping\u001b[39;49m\u001b[38;5;124;43m'\u001b[39;49m\u001b[43m)\u001b[49m\n\u001b[0;32m    424\u001b[0m \u001b[38;5;28;01mexcept\u001b[39;00m errors\u001b[38;5;241m.\u001b[39mUnsupportedError \u001b[38;5;28;01mas\u001b[39;00m e:\n\u001b[0;32m    425\u001b[0m     \u001b[38;5;66;03m# Something unsupported is present in the user code, add help info\u001b[39;00m\n\u001b[0;32m    426\u001b[0m     error_rewrite(e, \u001b[38;5;124m'\u001b[39m\u001b[38;5;124munsupported_error\u001b[39m\u001b[38;5;124m'\u001b[39m)\n",
      "File \u001b[1;32mc:\\Users\\camere\\Conda_3.10_enviroment\\.conda\\lib\\site-packages\\numba\\core\\dispatcher.py:364\u001b[0m, in \u001b[0;36m_DispatcherBase._compile_for_args.<locals>.error_rewrite\u001b[1;34m(e, issue_type)\u001b[0m\n\u001b[0;32m    362\u001b[0m     \u001b[38;5;28;01mraise\u001b[39;00m e\n\u001b[0;32m    363\u001b[0m \u001b[38;5;28;01melse\u001b[39;00m:\n\u001b[1;32m--> 364\u001b[0m     \u001b[38;5;28;01mraise\u001b[39;00m e\u001b[38;5;241m.\u001b[39mwith_traceback(\u001b[38;5;28;01mNone\u001b[39;00m)\n",
      "\u001b[1;31mTypingError\u001b[0m: Failed in nopython mode pipeline (step: nopython frontend)\n\u001b[1m\u001b[1m\u001b[1m\u001b[1mFailed in nopython mode pipeline (step: nopython frontend)\n\u001b[1m\u001b[1m\u001b[1mNo implementation of function Function(<built-in method permutation of numpy.random.mtrand.RandomState object at 0x000001E17F666740>) found for signature:\n \n >>> permutation(list(array(float64, 1d, C))<iv=None>)\n \nThere are 2 candidate implementations:\n\u001b[1m      - Of which 2 did not match due to:\n      Overload of function 'permutation': File: numba\\cpython\\randomimpl.py: Line 1861.\n        With argument(s): '(list(array(float64, 1d, C))<iv=None>)':\u001b[0m\n\u001b[1m       No match.\u001b[0m\n\u001b[0m\n\u001b[0m\u001b[1mDuring: resolving callee type: Function(<built-in method permutation of numpy.random.mtrand.RandomState object at 0x000001E17F666740>)\u001b[0m\n\u001b[0m\u001b[1mDuring: typing of call at C:\\Users\\camere\\AppData\\Local\\Temp\\31\\ipykernel_57504\\4047399918.py (15)\n\u001b[0m\n\u001b[1m\nFile \"..\\..\\..\\..\\..\\AppData\\Local\\Temp\\31\\ipykernel_57504\\4047399918.py\", line 15:\u001b[0m\n\u001b[1m<source missing, REPL/exec in use?>\u001b[0m\n\n\u001b[0m\u001b[1mDuring: resolving callee type: type(CPUDispatcher(<function permutation at 0x000001E1511CDFC0>))\u001b[0m\n\u001b[0m\u001b[1mDuring: typing of call at C:\\Users\\camere\\AppData\\Local\\Temp\\31\\ipykernel_57504\\4047399918.py (45)\n\u001b[0m\n\u001b[0m\u001b[1mDuring: resolving callee type: type(CPUDispatcher(<function permutation at 0x000001E1511CDFC0>))\u001b[0m\n\u001b[0m\u001b[1mDuring: typing of call at C:\\Users\\camere\\AppData\\Local\\Temp\\31\\ipykernel_57504\\4047399918.py (45)\n\u001b[0m\n\u001b[1m\nFile \"..\\..\\..\\..\\..\\AppData\\Local\\Temp\\31\\ipykernel_57504\\4047399918.py\", line 45:\u001b[0m\n\u001b[1m<source missing, REPL/exec in use?>\u001b[0m\n"
     ]
    }
   ],
   "source": [
    "#### Combine everything into a function\n",
    "from numba import njit\n",
    "\n",
    "\n",
    "\n",
    "@njit\n",
    "def seed(a):\n",
    "    np.random.seed(a)\n",
    "\n",
    "seed(123)\n",
    "\n",
    "\n",
    "@njit\n",
    "def permutation(data):\n",
    "    return np.random.permutation(data)\n",
    "\n",
    "\n",
    "\n",
    "@njit(fastmath=True)\n",
    "def BlockBootstrapping(close_data, num_blocks=100, num_simulations=100):\n",
    "    \n",
    "    #We define the the variables:\n",
    "    #---------------------------------#\n",
    "    returns = np.zeros(len(close_data))\n",
    "    for i in range(1,len(close_data)):\n",
    "        returns[i] = (close_data[i] - close_data[i-1]) / close_data[i-1]\n",
    "    \n",
    "\n",
    "    returns_segments = np.array_split(returns, num_blocks)\n",
    "    returns_segments_matrix = np.zeros((num_blocks, len(returns_segments[0])))\n",
    "    for i in range(len(returns_segments)):\n",
    "        returns_segments_matrix[i] = returns_segments[i]\n",
    "\n",
    "\n",
    "    #vertically stack the list, shuffle the rows, and then concatenate them into a single column (array)\n",
    "    #do this every iteration;\n",
    "\n",
    "\n",
    "    shuffled_returns_matrix = np.zeros((num_blocks, num_simulations))\n",
    "    \n",
    "    \n",
    "\n",
    "    for i in range(num_simulations):\n",
    "        \n",
    "        shuffled_segments = permutation(returns_segments) #we shuffle the rows of the matrix\n",
    "        shuffled_returns = np.concatenate(shuffled_segments) #we concatenate the shuffled rows into a single column\n",
    "        shuffled_returns_matrix[:, i] = shuffled_returns\n",
    "    \n",
    "\n",
    "\n",
    "\n",
    "    \n",
    "    #---------------------------------#\n",
    "\n",
    "    \n",
    "    return shuffled_returns_matrix\n",
    "\n",
    "shuffled_returns_matrix = BlockBootstrapping(close_data = close, num_blocks=10, num_simulations=10)"
   ]
  },
  {
   "cell_type": "code",
   "execution_count": null,
   "metadata": {},
   "outputs": [],
   "source": [
    "import numpy as np\n",
    "from numba import njit\n",
    "\n",
    "@njit\n",
    "def permutation(data):\n",
    "    return np.random.permutation(data)\n",
    "\n",
    "# Original array\n",
    "data = np.array([[1, 2, 3, 4, 5], [6, 7,8,9,10]] )\n",
    "\n",
    "# Generate a permutation of the array\n",
    "permuted_data = permutation(data)\n",
    "\n",
    "print(\"Original Data:\", data)\n",
    "print(\"Permuted Data:\", permuted_data)"
   ]
  }
 ],
 "metadata": {
  "kernelspec": {
   "display_name": "Python 3",
   "language": "python",
   "name": "python3"
  },
  "language_info": {
   "codemirror_mode": {
    "name": "ipython",
    "version": 3
   },
   "file_extension": ".py",
   "mimetype": "text/x-python",
   "name": "python",
   "nbconvert_exporter": "python",
   "pygments_lexer": "ipython3",
   "version": "3.10.14"
  }
 },
 "nbformat": 4,
 "nbformat_minor": 2
}
