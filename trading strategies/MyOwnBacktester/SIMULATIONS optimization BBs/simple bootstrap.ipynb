{
 "cells": [
  {
   "cell_type": "markdown",
   "metadata": {},
   "source": [
    "### Steps:\n",
    "1) import libraries and data\n",
    "2) build a resampler function of returns (bootstrapping) with numpy and execute with numba\n",
    "3) build and parallelize a function that applies backtest_bollinger_bands to every generated array, and returns the equity in another set of arrays"
   ]
  },
  {
   "cell_type": "markdown",
   "metadata": {},
   "source": [
    "#### Imports"
   ]
  },
  {
   "cell_type": "code",
   "execution_count": 1,
   "metadata": {},
   "outputs": [],
   "source": [
    "#-----------------IMPORTS-----------------#\n",
    "from main_func import * #we import numba, numpy and the backtest function from here\n",
    "import pandas as pd #we separately import pandas to read data from a csv file\n",
    "\n",
    "\n",
    "#-----------------DATA-----------------#\n",
    "#1min EURGBP data\n",
    "url = \"https://onedrive.live.com/download?resid=4E16D53638D067A9%21339325&authkey=!AHOCBUokDjDiCc8\"\n",
    "\n",
    "#1 second EURGBP data\n",
    "#url = \"https://onedrive.live.com/download?resid=4E16D53638D067A9%21339754&authkey=!ACcJZZPFqOmKVUY\"\n",
    "\n",
    "data_downloaded = pd.read_csv(url, parse_dates = True, index_col=0) #it's a time series data, so I'm setting the index to be the first column\n",
    "close = data_downloaded[\"close\"].to_numpy() #We transform the close prices into a numpy array"
   ]
  },
  {
   "cell_type": "markdown",
   "metadata": {},
   "source": [
    "#### Resampler function in Numpy and Numba"
   ]
  },
  {
   "cell_type": "code",
   "execution_count": 2,
   "metadata": {},
   "outputs": [],
   "source": [
    "#create the function that resamples returns, and returns a matrix of simulated price paths\n",
    "\n",
    "@njit(fastmath = True) #We use the @njit decorator to compile the function to machine code using the numba library\n",
    "def bootstrap_returns(close, n_simulations):\n",
    "    \n",
    "\n",
    "\n",
    "    #-----------------CALCULATE ACTUAL RETURNS-----------------#\n",
    "    close_returns = np.zeros(len(close)) #We create an array of zeros with the same length as the close prices,\n",
    "                                     #so the first return will be zero. We will calculate the returns from the second element;\n",
    "    for i in range(1, len(close)):\n",
    "        close_returns[i] = (close[i] - close[i-1])/close[i-1] #We calculate the returns of the close prices\n",
    "\n",
    "\n",
    "\n",
    "    #-----------------BOOTSTRAPPED RETURNS-----------------#\n",
    "    simulations = np.zeros((len(close_returns), n_simulations)) #rows = len(close_returns), columns = n_simulations\n",
    "    for i in range(n_simulations):\n",
    "        simulations[:,i] = np.random.choice(close_returns, size = len(close_returns), replace = False) #Put in every column the returns of the close prices in a random order\n",
    "\n",
    "    #-----------------SIMULATED PRICES-----------------#\n",
    "    prices = np.zeros((len(close_returns), n_simulations))\n",
    "    prices[0,:] = close[0] #We set the first row of the prices matrix to be the first close price, so they start from the same point\n",
    "\n",
    "    for i in range(1, len(close)): #from the second row to the last\n",
    "        prices[i,:] = prices[i-1,:] * (1 + simulations[i,:]) #cumulative returns, every row calculates using the\n",
    "                                                             #rows from the simulations matrix that contains bootstrapped returns in each column.\n",
    "\n",
    "    return prices #return the simulated prices matrix\n",
    "\n",
    "ThousandSimulations = bootstrap_returns(close, 1000) #We create 1000 simulations of the returns"
   ]
  },
  {
   "cell_type": "code",
   "execution_count": 9,
   "metadata": {},
   "outputs": [],
   "source": [
    "@njit(fastmath = True, parallel=False) #We use the @njit decorator to compile the function to machine code using the numba library\n",
    "def montecarlo_optimizer(close, n_simulations, window, num_std_devs, fees):\n",
    "    ThousandSimulations = bootstrap_returns(close, n_simulations) #We create n_simulations simulations of the returns\n",
    "    montecarlo_equities = np.zeros((len(close), n_simulations)) #We create a matrix of zeros with the same shape as the close prices and n_simulations columns\n",
    "    for i in range(n_simulations): #for every column\n",
    "        montecarlo_equities[:,i] = backtest_bollinger_bands(ThousandSimulations[:,i], window=window, num_std_devs= num_std_devs, fees_percentage=fees) #we backtest the bollinger bands strategy with the simulated prices\n",
    "    \n",
    "    return montecarlo_equities #return the matrix of equities"
   ]
  },
  {
   "cell_type": "code",
   "execution_count": 11,
   "metadata": {},
   "outputs": [
    {
     "name": "stdout",
     "output_type": "stream",
     "text": [
      "Time taken to run the simulations in seconds: 44.002654790878296\n",
      "profitable simulations in %: 50.6\n"
     ]
    }
   ],
   "source": [
    "from time import time\n",
    "### Report how many simulations were profitable\n",
    "number_simulations = 1000\n",
    "\n",
    "start_time = time()\n",
    "simulated_equities = montecarlo_optimizer(close, n_simulations=number_simulations, window=120, num_std_devs=10, fees=0) #We create 100 simulations of the equities\n",
    "end_time = time()\n",
    "print(\"Time taken to run the simulations in seconds:\", end_time - start_time) #We print the time taken to run the simulations\n",
    "\n",
    "profitable_simulations = np.sum(simulated_equities[-1,:] > 10000) / number_simulations #We count how many simulations ended with more than 10k\n",
    "print(\"profitable simulations in %:\", profitable_simulations * 100) #We print the percentage of profitable simulations\n",
    "\n",
    "\n",
    "#Need to make a function that iterates over different parameters and returns the best ones\n",
    "\n",
    "\n",
    "\n",
    "\n",
    "\n",
    "#-----------------RESULTS-----------------#\n",
    "#Time taken to run 10 thousand the simulations in seconds: 739.1393160820007\n",
    "#profitable simulations in %: 51.23"
   ]
  }
 ],
 "metadata": {
  "kernelspec": {
   "display_name": "Python 3",
   "language": "python",
   "name": "python3"
  },
  "language_info": {
   "codemirror_mode": {
    "name": "ipython",
    "version": 3
   },
   "file_extension": ".py",
   "mimetype": "text/x-python",
   "name": "python",
   "nbconvert_exporter": "python",
   "pygments_lexer": "ipython3",
   "version": "3.10.14"
  }
 },
 "nbformat": 4,
 "nbformat_minor": 2
}
