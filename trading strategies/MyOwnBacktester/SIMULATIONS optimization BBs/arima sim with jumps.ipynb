{
 "cells": [
  {
   "cell_type": "code",
   "execution_count": null,
   "metadata": {},
   "outputs": [],
   "source": [
    "import numpy as np\n",
    "import pandas as pd\n",
    "\n",
    "#-----------------DATA-----------------#\n",
    "#1min EURGBP data\n",
    "url = \"https://onedrive.live.com/download?resid=4E16D53638D067A9%21339325&authkey=!AHOCBUokDjDiCc8\"\n",
    "\n",
    "data_downloaded = pd.read_csv(url, parse_dates = True, index_col=0) #it's a time series data, so I'm setting the index to be the first column\n",
    "close = data_downloaded[\"close\"].to_numpy() #We transform the close prices into a numpy array\n",
    "\n"
   ]
  },
  {
   "cell_type": "code",
   "execution_count": null,
   "metadata": {},
   "outputs": [],
   "source": [
    "import numpy as np\n",
    "import pandas as pd\n",
    "from numba import njit\n",
    "\n",
    "@njit(fastmath = True) #we use the njit decorator to speed up the function\n",
    "def GenerateSimulation(data, plot= False):\n",
    "    yt = np.zeros(len(data))\n",
    "    yt[0] = data[0]\n",
    "    error_terms = np.zeros(len(data))\n",
    "    sigma2 = 2.956406656496939e-08\n",
    "    sigma = np.sqrt(sigma2)\n",
    "    error_terms[0] = np.random.normal(0, sigma)\n",
    "    intercept = -5.398901140173307e-08\n",
    "    \n",
    "    for i in range(1,len(yt)):\n",
    "        error_terms[i] = np.random.normal(0, sigma)\n",
    "        yt[i] = yt[i-1] + intercept  + error_terms[i] + -0.1042188993634203 * error_terms[i-1] + -0.029764115450367442 * error_terms[i-2] + -0.002917953581047072 * error_terms[i-3] + 0.004290940137585559 * error_terms[i-4] + -0.012028812812397361 * error_terms[i-5]\n",
    "\n",
    "    return yt\n",
    "\n",
    "simulated_data = GenerateSimulation(close)\n",
    "import matplotlib.pyplot as plt\n",
    "plt.plot(simulated_data)\n",
    "plt.title(\"Simulated data with ARIMA(0,1,5)\")\n",
    "plt.show()"
   ]
  },
  {
   "cell_type": "code",
   "execution_count": null,
   "metadata": {},
   "outputs": [],
   "source": [
    "### Now I need to simulate thousands of time series based on that model; I will use the same error terms for all of them\n",
    "@njit(fastmath = True) #we use the njit decorator to speed up the function\n",
    "def ThousandSimulations(data, number_simulations):\n",
    "    simulated_series_matrix = np.zeros((len(data), number_simulations))\n",
    "    for i in range(number_simulations):\n",
    "        simulated_series_matrix[:,i] = GenerateSimulation(data)\n",
    "\n",
    "    return simulated_series_matrix"
   ]
  }
 ],
 "metadata": {
  "language_info": {
   "name": "python"
  }
 },
 "nbformat": 4,
 "nbformat_minor": 2
}
