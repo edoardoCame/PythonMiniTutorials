{
 "cells": [
  {
   "cell_type": "code",
   "execution_count": null,
   "metadata": {},
   "outputs": [],
   "source": [
    "import cudf\n",
    "import dask.dataframe as dd\n",
    "import dask\n",
    "dask.config.set({\"dataframe.backend\": \"cudf\"})\n",
    "\n",
    "\n",
    "price_data = dd.read_csv('/home/edoardocame/Desktop/python_dir/eurgbp1m.csv')\n",
    "price_data['sma'] = price_data['close'].rolling(60).mean()\n",
    "price_data['upper_band'] = price_data['sma'] + price_data['close'].rolling(60).std() * 5\n",
    "price_data['lower_band'] = price_data['sma'] - price_data['close'].rolling(60).std() * 5\n",
    "price_data.tail()"
   ]
  },
  {
   "cell_type": "code",
   "execution_count": null,
   "metadata": {},
   "outputs": [],
   "source": [
    "#PROTO-LOGIC BEHIND THE BOLLINGER BANDS PANDAS VERSION.\n",
    "\n",
    "\n",
    "\n",
    "# Initialize positions\n",
    "price_data['positions'] = 0\n",
    "\n",
    "\n",
    "# Generate signals\n",
    "price_data['long_entry'] = (price_data['close'] < price_data['lower_band'])\n",
    "price_data['long_exit'] = (price_data['close'] > price_data['sma'])\n",
    "price_data['short_entry'] = (price_data['close'] > price_data['upper_band'])\n",
    "price_data['short_exit'] = (price_data['close'] < price_data['sma'])\n",
    "\n",
    "def create_positions(df):\n",
    "\tdf.loc[df['long_entry'], 'positions'] = 1\n",
    "\tdf.loc[df['long_exit'], 'positions'] = 0\n",
    "\tdf.loc[df['short_entry'], 'positions'] = -1\n",
    "\tdf.loc[df['short_exit'], 'positions'] = 0\n",
    "\treturn df\n",
    "\n",
    "price_data = price_data.map_partitions(create_positions)\n",
    "\n",
    "# Forward fill positions\n",
    "price_data['positions'] = price_data['positions'].fillna(method='ffill').fillna(0)\n",
    "\n",
    "# Record entry price\n",
    "price_data['entry_price'] = price_data['close'].where(price_data['positions'].diff() != 0).fillna(method='ffill')\n",
    "\n",
    "# Set stop loss percentage\n",
    "stop_loss_percentage = 0.05\n",
    "\n",
    "def apply_stop_loss(df, stop_loss_percentage):\n",
    "\tdf.loc[(df['positions'] == 1) & (df['close'] < df['entry_price'] * (1 - stop_loss_percentage)), 'positions'] = 0\n",
    "\tdf.loc[(df['positions'] == -1) & (df['close'] > df['entry_price'] * (1 + stop_loss_percentage)), 'positions'] = 0\n",
    "\treturn df\n",
    "\n",
    "# Apply stop loss using map_partitions\n",
    "price_data = price_data.map_partitions(apply_stop_loss, stop_loss_percentage)\n",
    "\n",
    "# Recalculate positions after stop loss\n",
    "price_data['positions'] = price_data['positions'].fillna(method='ffill').fillna(0)\n",
    "\n",
    "# Calculate returns\n",
    "price_data['market_returns'] = price_data['close'].pct_change()\n",
    "price_data['strategy_returns'] = price_data['market_returns'] * price_data['positions'].shift(1)"
   ]
  }
 ],
 "metadata": {
  "kernelspec": {
   "display_name": "rapids-23.12",
   "language": "python",
   "name": "python3"
  },
  "language_info": {
   "codemirror_mode": {
    "name": "ipython",
    "version": 3
   },
   "file_extension": ".py",
   "mimetype": "text/x-python",
   "name": "python",
   "nbconvert_exporter": "python",
   "pygments_lexer": "ipython3",
   "version": "3.10.14"
  }
 },
 "nbformat": 4,
 "nbformat_minor": 2
}
