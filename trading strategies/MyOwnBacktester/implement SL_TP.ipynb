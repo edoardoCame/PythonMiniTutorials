{
 "cells": [
  {
   "cell_type": "markdown",
   "metadata": {},
   "source": [
    "To implement a stop loss (SL) and take profit (TP) in a trading strategy for backtesting, you can use a simple SMA crossover strategy as an example. Below is a sample code using Python and the `pandas` library for data manipulation and `matplotlib` for plotting. The strategy will include a stop loss and take profit mechanism.\n",
    "\n",
    "### Plan:\n",
    "1. Load historical price data.\n",
    "2. Calculate the short-term and long-term SMAs.\n",
    "3. Implement the SMA crossover strategy.\n",
    "4. Add stop loss and take profit conditions.\n",
    "5. Backtest the strategy.\n",
    "\n",
    "### Sample Code:\n",
    "\n"
   ]
  },
  {
   "cell_type": "code",
   "execution_count": null,
   "metadata": {},
   "outputs": [],
   "source": [
    "import pandas as pd\n",
    "import numpy as np\n",
    "import matplotlib.pyplot as plt\n",
    "\n",
    "# Load historical price data\n",
    "data = pd.read_csv('historical_data.csv', parse_dates=True, index_col='Date')\n",
    "\n",
    "# Calculate short-term and long-term SMAs\n",
    "short_window = 40\n",
    "long_window = 100\n",
    "\n",
    "data['SMA40'] = data['Close'].rolling(window=short_window, min_periods=1).mean()\n",
    "data['SMA100'] = data['Close'].rolling(window=long_window, min_periods=1).mean()\n",
    "\n",
    "# Initialize signals\n",
    "data['Signal'] = 0\n",
    "data['Signal'][short_window:] = np.where(data['SMA40'][short_window:] > data['SMA100'][short_window:], 1, 0)\n",
    "data['Position'] = data['Signal'].diff()\n",
    "\n",
    "# Parameters for stop loss and take profit\n",
    "stop_loss_pct = 0.02  # 2% stop loss\n",
    "take_profit_pct = 0.05  # 5% take profit\n",
    "\n",
    "# Backtest the strategy\n",
    "initial_balance = 10000\n",
    "balance = initial_balance\n",
    "position = 0\n",
    "entry_price = 0\n",
    "\n",
    "for i in range(len(data)):\n",
    "    if data['Position'][i] == 1:  # Buy signal\n",
    "        if position == 0:\n",
    "            position = balance / data['Close'][i]\n",
    "            entry_price = data['Close'][i]\n",
    "            balance = 0\n",
    "    elif data['Position'][i] == -1:  # Sell signal\n",
    "        if position > 0:\n",
    "            balance = position * data['Close'][i]\n",
    "            position = 0\n",
    "\n",
    "    # Check stop loss and take profit\n",
    "    if position > 0:\n",
    "        current_price = data['Close'][i]\n",
    "        if current_price <= entry_price * (1 - stop_loss_pct):\n",
    "            balance = position * current_price\n",
    "            position = 0\n",
    "        elif current_price >= entry_price * (1 + take_profit_pct):\n",
    "            balance = position * current_price\n",
    "            position = 0\n",
    "\n",
    "# Final balance\n",
    "if position > 0:\n",
    "    balance = position * data['Close'].iloc[-1]\n",
    "\n",
    "print(f'Final balance: ${balance:.2f}')\n",
    "\n",
    "# Plot the results\n",
    "plt.figure(figsize=(14, 7))\n",
    "plt.plot(data['Close'], label='Close Price')\n",
    "plt.plot(data['SMA40'], label='SMA40')\n",
    "plt.plot(data['SMA100'], label='SMA100')\n",
    "plt.plot(data[data['Position'] == 1].index, data['SMA40'][data['Position'] == 1], '^', markersize=10, color='g', lw=0, label='Buy Signal')\n",
    "plt.plot(data[data['Position'] == -1].index, data['SMA40'][data['Position'] == -1], 'v', markersize=10, color='r', lw=0, label='Sell Signal')\n",
    "plt.title('SMA Crossover Strategy with Stop Loss and Take Profit')\n",
    "plt.legend()\n",
    "plt.show()"
   ]
  },
  {
   "cell_type": "markdown",
   "metadata": {},
   "source": [
    "\n",
    "\n",
    "### Explanation:\n",
    "1. **Load historical price data**: Load the data from a CSV file.\n",
    "2. **Calculate SMAs**: Compute the short-term and long-term SMAs.\n",
    "3. **Generate signals**: Create buy/sell signals based on SMA crossovers.\n",
    "4. **Backtest with SL and TP**: Implement the backtesting loop, checking for stop loss and take profit conditions.\n",
    "5. **Plot results**: Visualize the strategy performance.\n",
    "\n",
    "Make sure to replace `'historical_data.csv'` with the path to your actual data file."
   ]
  },
  {
   "cell_type": "markdown",
   "metadata": {},
   "source": [
    "## How the SL works:"
   ]
  },
  {
   "cell_type": "markdown",
   "metadata": {},
   "source": [
    "Let's break down the stop loss (SL) implementation logic step by step:\n",
    "\n",
    "1. **Entry Setup**\n"
   ]
  },
  {
   "cell_type": "code",
   "execution_count": null,
   "metadata": {},
   "outputs": [],
   "source": [
    "entry_price = data['Close'][i]  # Store entry price when position is opened\n",
    "position = balance / data['Close'][i]  # Calculate position size"
   ]
  },
  {
   "cell_type": "markdown",
   "metadata": {},
   "source": [
    "\n",
    "\n",
    "2. **Stop Loss Calculation**\n"
   ]
  },
  {
   "cell_type": "code",
   "execution_count": null,
   "metadata": {},
   "outputs": [],
   "source": [
    "# Stop loss check\n",
    "if position > 0:  # Only check if we have an open position\n",
    "    current_price = data['Close'][i]\n",
    "    \n",
    "    # Calculate stop loss price\n",
    "    stop_loss_price = entry_price * (1 - stop_loss_pct)\n",
    "    # Example: If entry_price = $100 and stop_loss_pct = 0.02 (2%)\n",
    "    # stop_loss_price = $100 * (1 - 0.02) = $98\n",
    "    \n",
    "    # Check if price hits stop loss\n",
    "    if current_price <= stop_loss_price:\n",
    "        # Close position at current price\n",
    "        balance = position * current_price\n",
    "        position = 0"
   ]
  },
  {
   "cell_type": "markdown",
   "metadata": {},
   "source": [
    "\n",
    "\n",
    "**Key Components:**\n",
    "\n",
    "1. **Position Tracking**\n",
    "- `position > 0`: Ensures we only check SL when we have an open position\n",
    "- `entry_price`: Stores the price at which we entered the trade\n",
    "\n",
    "2. **Stop Loss Calculation**\n",
    "- `stop_loss_pct`: Percentage-based stop loss (e.g., 2% = 0.02)\n",
    "- `stop_loss_price`: Calculated as entry price minus the stop loss percentage\n",
    "\n",
    "3. **Price Monitoring**\n",
    "- Each iteration checks if current price hits stop loss level\n",
    "- If triggered, position is closed at current price\n",
    "- Balance is updated with the new value after stop loss\n",
    "\n",
    "4. **Example Scenario:**\n"
   ]
  },
  {
   "cell_type": "code",
   "execution_count": null,
   "metadata": {},
   "outputs": [],
   "source": [
    "# Example values\n",
    "entry_price = 100\n",
    "stop_loss_pct = 0.02\n",
    "position = 1\n",
    "\n",
    "# Stop loss price calculation\n",
    "stop_loss_price = 100 * (1 - 0.02) = 98\n",
    "\n",
    "# If price drops to 97:\n",
    "current_price = 97\n",
    "if 97 <= 98:  # Stop loss triggered\n",
    "    balance = 1 * 97  # Close position at $97\n",
    "    position = 0"
   ]
  },
  {
   "cell_type": "markdown",
   "metadata": {},
   "source": [
    "\n",
    "\n",
    "This implementation provides a simple but effective way to manage downside risk in the trading strategy. The stop loss acts as an automatic exit mechanism when losses reach a predetermined threshold."
   ]
  }
 ],
 "metadata": {
  "kernelspec": {
   "display_name": "Python 3",
   "language": "python",
   "name": "python3"
  },
  "language_info": {
   "name": "python",
   "version": "3.10.12"
  }
 },
 "nbformat": 4,
 "nbformat_minor": 2
}
