{
 "cells": [
  {
   "cell_type": "code",
   "execution_count": null,
   "id": "af06ced6",
   "metadata": {},
   "outputs": [],
   "source": [
    "import dask\n",
    "import dask.dataframe as dd\n",
    "dask.config.set({\"dataframe.backend\": \"cudf\"})\n",
    "\n",
    "\n",
    "eurgbp_ticks = dd.read_parquet('/home/edoardo/Desktop/python_dir/data/eurgbp_tick.parquet')"
   ]
  },
  {
   "cell_type": "code",
   "execution_count": null,
   "id": "49deaf2e",
   "metadata": {},
   "outputs": [],
   "source": [
    "import seaborn as sns\n",
    "\n",
    "eurgbp_ticks['spread'] = (eurgbp_ticks['askPrice'] - eurgbp_ticks['bidPrice']) * 10000\n",
    "# Convert timestamp to datetime\n",
    "eurgbp_ticks['datetime'] = dd.to_datetime(eurgbp_ticks['timestamp'])\n",
    "\n",
    "# Extract hour\n",
    "eurgbp_ticks['hour'] = eurgbp_ticks['datetime'].dt.hour\n",
    "\n",
    "# Group by hour and calculate mean spread\n",
    "hourly_spread = eurgbp_ticks.groupby('hour')['spread'].mean().compute()\n",
    "\n",
    "hourly_spread = hourly_spread.to_pandas()\n",
    "\n",
    "sns.set(style=\"whitegrid\")\n",
    "\n",
    "# Create the bar plot\n",
    "ax = sns.barplot(x=hourly_spread.index, y=hourly_spread.values, color=\"skyblue\")\n",
    "\n",
    "# Add labels and title\n",
    "ax.set(xlabel=\"Hour of the Day\", ylabel=\"Average Spread (Pips)\",\n",
    "    title=\"Average EUR/GBP Spread by Hour\")\n",
    "\n",
    "# Rotate x-axis labels for better readability\n",
    "ax.set_xticklabels(ax.get_xticklabels(), rotation=45, horizontalalignment='right')\n"
   ]
  },
  {
   "cell_type": "code",
   "execution_count": null,
   "id": "c6c5b4be",
   "metadata": {},
   "outputs": [],
   "source": [
    "import matplotlib.pyplot as plt\n",
    "\n",
    "#Select only the last 3 months of data\n",
    "eurgbp_ticks = eurgbp_ticks[eurgbp_ticks['timestamp'] >= '2025-01-01']\n",
    "\n",
    "# Convert Dask DataFrame to Pandas DataFrame\n",
    "eurgbp_ticks_pd = eurgbp_ticks.compute().copy()\n",
    "\n",
    "# Group by hour and calculate max spread\n",
    "hourly_max_spread = eurgbp_ticks_pd.groupby('hour')['spread'].max().to_pandas()\n",
    "\n",
    "# Create a subplot for the histogram\n",
    "plt.figure(figsize=(18, 6))\n",
    "\n",
    "# Boxplot on the left\n",
    "plt.subplot(1, 2, 1)  # 1 row, 2 columns, first subplot\n",
    "sns.boxplot(x=eurgbp_ticks_pd['spread'].to_numpy(), color=\"skyblue\")\n",
    "plt.title(\"Distribution of EUR/GBP Spread (Pips)\", fontsize=16)\n",
    "plt.xlabel(\"Spread (Pips)\", fontsize=12)\n",
    "plt.ylabel(\"Frequency\", fontsize=12)\n",
    "plt.grid(True)\n",
    "\n",
    "\n",
    "# Histogram on the right\n",
    "plt.subplot(1, 2, 2)  # 1 row, 2 columns, second subplot\n",
    "plt.bar(hourly_max_spread.index, hourly_max_spread.values, color=\"lightcoral\")\n",
    "plt.title(\"Maximum EUR/GBP Spread by Hour\", fontsize=16)\n",
    "plt.xlabel(\"Hour of the Day\", fontsize=12)\n",
    "plt.ylabel(\"Max Spread (Pips)\", fontsize=12)\n",
    "plt.xticks(hourly_max_spread.index)\n",
    "plt.grid(True)\n",
    "\n",
    "plt.tight_layout()\n",
    "plt.show()"
   ]
  }
 ],
 "metadata": {
  "kernelspec": {
   "display_name": "rapids-23.12",
   "language": "python",
   "name": "python3"
  },
  "language_info": {
   "codemirror_mode": {
    "name": "ipython",
    "version": 3
   },
   "file_extension": ".py",
   "mimetype": "text/x-python",
   "name": "python",
   "nbconvert_exporter": "python",
   "pygments_lexer": "ipython3",
   "version": "3.10.16"
  }
 },
 "nbformat": 4,
 "nbformat_minor": 5
}
