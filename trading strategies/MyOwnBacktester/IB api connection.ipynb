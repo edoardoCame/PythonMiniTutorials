{
 "cells": [
  {
   "cell_type": "code",
   "execution_count": 4,
   "metadata": {},
   "outputs": [
    {
     "name": "stdout",
     "output_type": "stream",
     "text": [
      "2024-08-30 12:10:20-04:00,0.84225,0.84225,0.84225,0.84225,N/A\n",
      "2024-08-30 12:10:25-04:00,0.0,0.0,0.0,0.0,N/A\n",
      "2024-08-30 12:10:25-04:00,0.84225,0.84225,0.84225,0.84225,0.5615\n",
      "2024-08-30 12:10:30-04:00,0.84225,0.84225,0.84225,0.84225,0.5615\n",
      "2024-08-30 12:10:35-04:00,0.84225,0.84225,0.84225,0.84225,0.84225\n",
      "2024-08-30 12:10:40-04:00,0.84225,0.84225,0.84225,0.84225,0.84225\n",
      "2024-08-30 12:10:45-04:00,0.84225,0.84225,0.84225,0.84225,0.84225\n"
     ]
    }
   ],
   "source": [
    "from ib_async import *\n",
    "util.startLoop()  # uncomment this line when in a notebook\n",
    "import pandas as pd\n",
    "\n",
    "\n",
    "ib = IB()\n",
    "ib.connect('127.0.0.1', 4002, clientId=3)\n",
    "\n",
    "\n",
    "\n",
    "\n",
    "\n",
    "contract = Forex('EURGBP')\n",
    "\n",
    "\n",
    "bars = ib.reqHistoricalData(\n",
    "        contract,\n",
    "        endDateTime='',\n",
    "        durationStr='900 S',\n",
    "        barSizeSetting='5 secs',\n",
    "        whatToShow='MIDPOINT',\n",
    "        useRTH=True,\n",
    "        formatDate=1,\n",
    "        keepUpToDate=True)\n",
    "\n",
    "\n",
    "close_prices = [] #crea una lista\n",
    "\n",
    "\n",
    "def onBarUpdate(bars, hasNewBar):\n",
    "\n",
    "\n",
    "    ohlc = [] #crea una lista\n",
    "    ohlc.append(str(bars[-1].date)) #append la data\n",
    "    ohlc.append(str(bars[-1].open)) #append la open\n",
    "    ohlc.append(str(bars[-1].high)) #ecc...\n",
    "    ohlc.append(str(bars[-1].low))\n",
    "    ohlc.append(str(bars[-1].close))\n",
    "\n",
    "\n",
    "    close_prices.append(bars[-1].close)\n",
    "        \n",
    "    if len(close_prices) >= 3:\n",
    "        sma = pd.Series(close_prices).rolling(3).mean().iloc[-1]\n",
    "        ohlc.append(str(sma))\n",
    "    else:\n",
    "        ohlc.append('N/A')  # Not enough data for SMA\n",
    "\n",
    "\n",
    "    print(\",\".join(ohlc)) #printa la lista separata da virgole\n",
    "    \n",
    "\n",
    "\n",
    "\n",
    "bars.updateEvent += onBarUpdate\n",
    "\n",
    "\n",
    "ib.sleep(20)\n",
    "ib.cancelRealTimeBars(bars)\n",
    "ib.disconnect()"
   ]
  },
  {
   "cell_type": "code",
   "execution_count": null,
   "metadata": {},
   "outputs": [],
   "source": [
    "#closing_prices = [bar.close for bar in bars]\n",
    "#print(closing_prices)\n",
    "test = float(bars[0].close)\n",
    "print(test)\n"
   ]
  }
 ],
 "metadata": {
  "kernelspec": {
   "display_name": "Python 3",
   "language": "python",
   "name": "python3"
  },
  "language_info": {
   "codemirror_mode": {
    "name": "ipython",
    "version": 3
   },
   "file_extension": ".py",
   "mimetype": "text/x-python",
   "name": "python",
   "nbconvert_exporter": "python",
   "pygments_lexer": "ipython3",
   "version": "3.10.14"
  }
 },
 "nbformat": 4,
 "nbformat_minor": 2
}
