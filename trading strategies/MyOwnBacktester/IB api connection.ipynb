{
 "cells": [
  {
   "cell_type": "markdown",
   "metadata": {},
   "source": [
    "## Connessione asincrona"
   ]
  },
  {
   "cell_type": "code",
   "execution_count": null,
   "metadata": {},
   "outputs": [],
   "source": [
    "import time\n",
    "from ib_async import *\n",
    "util.startLoop()  # uncomment this line when in a notebook\n",
    "import numpy as np\n",
    "\n",
    "ib = IB()\n",
    "id_connection = float(input('Enter the connection id: '))\n",
    "lookback_window = int(input('Enter the lookback window: '))\n",
    "number_sdev = int(input('Enter the number of standard deviations: '))\n",
    "\n",
    "def connect_ib():\n",
    "    while not ib.isConnected():\n",
    "        try:\n",
    "            ib.connect('127.0.0.1', 4002, clientId=id_connection)\n",
    "            print(\"Connected to IB\")\n",
    "        except Exception as e:\n",
    "            print(f\"Connection failed: {e}. Retrying in 60 seconds...\")\n",
    "            time.sleep(60)\n",
    "\n",
    "connect_ib()\n",
    "\n",
    "contract = Forex('EURGBP')\n",
    "bars = ib.reqHistoricalData(\n",
    "        contract,\n",
    "        endDateTime='',\n",
    "        durationStr='900 S',\n",
    "        barSizeSetting='5 secs',\n",
    "        whatToShow='MIDPOINT',\n",
    "        useRTH=False,\n",
    "        formatDate=1,\n",
    "        keepUpToDate=True)\n",
    "\n",
    "close_prices = [] #crea una lista\n",
    "datetime = []\n",
    "positions_list = []\n",
    "positions_list.append(0)\n",
    "\n",
    "def onBarUpdate(bars, hasNewBar):\n",
    "    #logging features:\n",
    "    close_prices.append(float(bars[-1].close)) #append il prezzo di chiusura alla lista\n",
    "    datetime.append(str(bars[-1].date))\n",
    "    ohlc = [] #crea una lista\n",
    "    ohlc.append(str(bars[-1].date)) #append la data\n",
    "    ohlc.append(str(bars[-1].close))\n",
    "\n",
    "    #calculate the bollinger bands:\n",
    "    if len(close_prices) >= lookback_window:\n",
    "        std = np.std(close_prices[-lookback_window:]) #calcola la deviazione standard dei 20 prezzi precedenti\n",
    "        sma = np.mean(close_prices[-lookback_window:])\n",
    "        upper_band = sma + number_sdev * std #calcola la banda superiore\n",
    "        lower_band = sma - number_sdev * std #calcola la banda inferiore\n",
    "        ohlc.append(str(upper_band))\n",
    "        ohlc.append(str(lower_band))\n",
    "        ohlc.append(str(sma))\n",
    "    else:\n",
    "        ohlc.append('N/A')  # Not enough data for Bollinger Bands\n",
    "        positions_list.append(0) #we continue to append 0 to the positions list since we don't have enough data to make a decision\n",
    "    \n",
    "    #--------------------------------------------------------------------\n",
    "    #create strategy's logic:\n",
    "\n",
    "    #--------------------------------------------------------------------\n",
    "    accountValue = ib.accountSummary()\n",
    "    #BUY VALUE\n",
    "    accountBalanceStr = accountValue[9].value  # Convert the account balance to an integer and save it to a variable\n",
    "    accountBalanceGBP = round(float(accountBalanceStr)) #GBP ACCOUNT VALUE\n",
    "    SELL_Value = accountBalanceGBP * 0.1 #10% of the account value\n",
    "\n",
    "    #SELL VALUE\n",
    "    accountBalanceEUR = accountBalanceGBP / float(bars[-1].close) #EUR ACCOUNT VALUE\n",
    "    BUY_Value = accountBalanceEUR * 0.1 #10% of the account value\n",
    "    #--------------------------------------------------------------------\n",
    "    \n",
    "    if len(close_prices) >= lookback_window:\n",
    "        if positions_list[-1] == 0:\n",
    "            # ib is not in a position\n",
    "            if float(bars[-1].close) > float(upper_band):\n",
    "                positions_list.append(-1)\n",
    "                ib.placeOrder(contract, MarketOrder('SELL', SELL_Value))\n",
    "            elif float(bars[-1].close) < float(lower_band):\n",
    "                positions_list.append(1)\n",
    "                ib.placeOrder(contract, MarketOrder('BUY', BUY_Value))\n",
    "        \n",
    "        else:\n",
    "            # ib is in a position\n",
    "            if positions_list[-1] == 1 and float(bars[-1].close) > float(sma):\n",
    "                positions_list.append(0)\n",
    "                ib.placeOrder(contract, MarketOrder('SELL', SELL_Value))\n",
    "            elif positions_list[-1] == -1 and float(bars[-1].close) < float(sma):\n",
    "                positions_list.append(0)\n",
    "                ib.placeOrder(contract, MarketOrder('BUY', BUY_Value))\n",
    "    #--------------------------------------------------------------------\n",
    "\n",
    "    print(\",\".join(ohlc), 'current position is:', positions_list[-1]) #printa la lista separata da virgole\n",
    "\n",
    "bars.updateEvent += onBarUpdate\n",
    "\n",
    "def check_connection():\n",
    "    while True:\n",
    "        if not ib.isConnected():\n",
    "            print(\"Disconnected from IB. Attempting to reconnect...\")\n",
    "            connect_ib()\n",
    "            RestartFunction()\n",
    "\n",
    "\n",
    "        time.sleep(60)  # Check every 60 seconds\n",
    "\n",
    "# Run the connection checker in a separate thread\n",
    "import threading\n",
    "connection_thread = threading.Thread(target=check_connection)\n",
    "connection_thread.start()\n",
    "\n",
    "\n",
    "#we define the restart function\n",
    "def RestartFunction():\n",
    "    global bars\n",
    "    bars = ib.reqHistoricalData(\n",
    "            contract,\n",
    "            endDateTime='',\n",
    "            durationStr='900 S',\n",
    "            barSizeSetting='5 secs',\n",
    "            whatToShow='MIDPOINT',\n",
    "            useRTH=False,\n",
    "            formatDate=1,\n",
    "            keepUpToDate=True)\n",
    "    \n",
    "    bars.updateEvent += onBarUpdate\n",
    "    ib.run()\n",
    "\n",
    "\n",
    "\n",
    "\n",
    "\n",
    "\n",
    "ib.run()"
   ]
  },
  {
   "cell_type": "markdown",
   "metadata": {},
   "source": [
    "### Test vari"
   ]
  },
  {
   "cell_type": "code",
   "execution_count": 2,
   "metadata": {},
   "outputs": [
    {
     "name": "stdout",
     "output_type": "stream",
     "text": [
      "Connected to IB\n"
     ]
    }
   ],
   "source": [
    "import ib_async\n",
    "import time\n",
    "from ib_async import *\n",
    "util.startLoop()  # uncomment this line when in a notebook\n",
    "\n",
    "ib = IB()\n",
    "ib.connect('127.0.0.1', 4002, clientId=1)\n",
    "if ib.isConnected():\n",
    "    print(\"Connected to IB\")\n",
    "\n",
    "ib.run()"
   ]
  },
  {
   "cell_type": "code",
   "execution_count": 15,
   "metadata": {},
   "outputs": [
    {
     "name": "stdout",
     "output_type": "stream",
     "text": [
      "1023803\n"
     ]
    }
   ],
   "source": [
    "accountValue = ib.accountSummary()\n",
    "accountBalanceStr = accountValue[9].value  # Convert the account balance to an integer and save it to a variable\n",
    "accountBalance = round(float(accountBalanceStr))\n",
    "print(accountBalance)"
   ]
  },
  {
   "cell_type": "code",
   "execution_count": null,
   "metadata": {},
   "outputs": [],
   "source": [
    "ib.disconnect()"
   ]
  }
 ],
 "metadata": {
  "kernelspec": {
   "display_name": "Python 3",
   "language": "python",
   "name": "python3"
  },
  "language_info": {
   "codemirror_mode": {
    "name": "ipython",
    "version": 3
   },
   "file_extension": ".py",
   "mimetype": "text/x-python",
   "name": "python",
   "nbconvert_exporter": "python",
   "pygments_lexer": "ipython3",
   "version": "3.11.9"
  }
 },
 "nbformat": 4,
 "nbformat_minor": 2
}
