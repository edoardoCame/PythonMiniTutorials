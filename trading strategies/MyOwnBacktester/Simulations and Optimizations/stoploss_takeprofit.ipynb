{
 "cells": [
  {
   "cell_type": "code",
   "execution_count": 1,
   "metadata": {},
   "outputs": [
    {
     "name": "stdout",
     "output_type": "stream",
     "text": [
      "[0.86692 0.86722 0.86723 ... 0.85203 0.85207 0.852  ]\n"
     ]
    }
   ],
   "source": [
    "#Voglio backtestare la strategia con parametri multipli e vedere come si comporta. Devo applicare la funzione di backtest\n",
    "#e poi fare un plot dei risultati in 3d.\n",
    "import numpy as np\n",
    "import pandas as pd\n",
    "import matplotlib.pyplot as plt\n",
    "import numba as nb\n",
    "\n",
    "\n",
    "#FROM JANUARY 2024 TO AUGUST 2024\n",
    "data = pd.read_csv(r'C:\\Users\\camere\\Conda_3.11_enviroment\\CSV DATA\\1min data\\eurgbp-m1-bid-2024-01-01-2024-08-22.csv',\n",
    "                   index_col=0, parse_dates=True)\n",
    "\n",
    "close_price = data['close'].to_numpy()\n",
    "print(close_price) #now i got a numpy array with the closing prices of the currency pair;\n"
   ]
  },
  {
   "cell_type": "code",
   "execution_count": null,
   "metadata": {},
   "outputs": [],
   "source": [
    "#Now I need to implement a Take Profit and Stop Loss in % points inside this backtest function.\n",
    "#Create a backtesting function that backtests based on Bollinger Bands\n",
    "import numpy as np\n",
    "from numba import njit #We import the njit decorator from the numba library\n",
    "@njit(fastmath=True) #We use the njit decorator to compile the function to machine code, which makes it faster\n",
    "def backtest_bollinger_bands(data, window, num_std_devs, fees_percentage=0.015, starting_cash=10000):\n",
    "    \n",
    "    \n",
    "    #-------------------Bollinger Bands-------------------\n",
    "\n",
    "    #We calculate the rolling mean:\n",
    "    middle_band = np.zeros(len(data)) #We create an array of zeros to store the rolling mean\n",
    "    for i in range(window, len(data)):\n",
    "        middle_band[i] = np.mean(data[i-window:i]) #We calculate the rolling mean for each day\n",
    "\n",
    "    #We calculate the rolling standard deviation:\n",
    "    rolling_std = np.zeros(len(data))\n",
    "    for i in range(window, len(data)):\n",
    "        rolling_std[i] = np.std(data[i-window:i]) #We calculate the rolling standard deviation for each day\n",
    "\n",
    "    #We calculate the upper and lower bands:\n",
    "    upper_band = middle_band + num_std_devs * rolling_std\n",
    "    lower_band = middle_band - num_std_devs * rolling_std\n",
    "\n",
    "\n",
    "    \n",
    "\n",
    "    #Strategy's logic:\n",
    "    positions = np.zeros(len(data)) #We create an array of zeros to store the positions\n",
    "    \n",
    "    for i in range(window, len(data)): #from the second row to the last row of the data\n",
    "        if data[i] < lower_band[i] and positions[i-1] == 0:\n",
    "            positions[i] = 1 #long if the price is below the lower band and we don't have a position\n",
    "        elif data[i] > upper_band[i] and positions[i-1] == 0:\n",
    "            positions[i] = -1 #short if the price is above the upper band and we don't have a position\n",
    "        elif data[i] > middle_band[i] and positions[i-1] == 1:\n",
    "            positions[i] = 0 #close long position if the price is above the middle band and we have a long position\n",
    "        elif data[i] < middle_band[i] and positions[i-1] == -1:\n",
    "            positions[i] = 0 #close short position if the price is below the middle band and we have a short position\n",
    "        else:\n",
    "            positions[i] = positions[i-1] #carry on with the previous position if none of the conditions are met;\n",
    "\n",
    "    #We calculate the returns of the strategy:\n",
    "    \n",
    "    market_returns = np.zeros(len(data)) #We create an array of zeros to store the market returns\n",
    "    for i in range(1, len(data)):\n",
    "        market_returns[i] = (data[i] - data[i-1]) / data[i-1] #We calculate the market returns for each day\n",
    "    \n",
    "    strategy_returns = np.zeros(len(data)) #We create an array of zeros to store the strategy returns\n",
    "    for i in range(1, len(data)):\n",
    "        strategy_returns[i] = positions[i-1] * market_returns[i] #We calculate the strategy returns for each day, shifting the positions array by 1 day\n",
    "    \n",
    "\n",
    "    #Calculate equity with for loop\n",
    "    equity = np.zeros(len(data))\n",
    "    equity[0] = starting_cash\n",
    "\n",
    "    for i in range(1, len(data)):\n",
    "        if positions[i-1] == positions[i]:\n",
    "            equity[i] = equity[i-1] * (1 + strategy_returns[i])\n",
    "        else:\n",
    "            equity[i] = equity[i-1] * (1 + strategy_returns[i]) - equity[i-1] * fees_percentage / 100\n",
    "\n",
    "\n",
    "    return equity"
   ]
  }
 ],
 "metadata": {
  "kernelspec": {
   "display_name": "Python 3",
   "language": "python",
   "name": "python3"
  },
  "language_info": {
   "codemirror_mode": {
    "name": "ipython",
    "version": 3
   },
   "file_extension": ".py",
   "mimetype": "text/x-python",
   "name": "python",
   "nbconvert_exporter": "python",
   "pygments_lexer": "ipython3",
   "version": "3.11.9"
  }
 },
 "nbformat": 4,
 "nbformat_minor": 2
}
