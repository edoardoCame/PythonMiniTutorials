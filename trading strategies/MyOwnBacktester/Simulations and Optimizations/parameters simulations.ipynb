{
 "cells": [
  {
   "cell_type": "code",
   "execution_count": 2,
   "metadata": {},
   "outputs": [],
   "source": [
    "#Voglio backtestare la strategia con parametri multipli e vedere come si comporta. Devo applicare la funzione di backtest\n",
    "#e poi fare un plot dei risultati in 3d.\n",
    "import numpy as np\n",
    "import pandas as pd\n",
    "import matplotlib.pyplot as plt\n",
    "import numba as nb\n",
    "\n",
    "#Now we import the script from the percentage fees version:\n",
    "import sys\n",
    "sys.path.append(r'C:\\Users\\camere\\Conda_3.11_enviroment\\PythonMiniTutorials\\trading strategies\\MyOwnBacktester\\main_functions')\n",
    "import main_func_percentage"
   ]
  },
  {
   "cell_type": "code",
   "execution_count": null,
   "metadata": {},
   "outputs": [],
   "source": [
    "data = pd.read_csv(r'C:\\Users\\camere\\Conda_3.11_enviroment\\CSV DATA\\eurgbp-s1-bid-2024-01-01-2024-08-24.csv',\n",
    "                   index_col=0, parse_dates=True)\n",
    "close_price = data['close'].to_numpy()\n",
    "print(close_price) #now i got a numpy array with the closing prices of the currency pair;"
   ]
  },
  {
   "cell_type": "code",
   "execution_count": null,
   "metadata": {},
   "outputs": [],
   "source": [
    "\n",
    "\n",
    "\n",
    "equity = pd.Series(equity)\n",
    "equity.plot()\n",
    "plt.xlabel('Date')\n",
    "plt.ylabel('Equity')\n",
    "plt.title('Equity Curve')\n",
    "plt.show()"
   ]
  }
 ],
 "metadata": {
  "kernelspec": {
   "display_name": "Python 3",
   "language": "python",
   "name": "python3"
  },
  "language_info": {
   "codemirror_mode": {
    "name": "ipython",
    "version": 3
   },
   "file_extension": ".py",
   "mimetype": "text/x-python",
   "name": "python",
   "nbconvert_exporter": "python",
   "pygments_lexer": "ipython3",
   "version": "3.11.9"
  }
 },
 "nbformat": 4,
 "nbformat_minor": 2
}
