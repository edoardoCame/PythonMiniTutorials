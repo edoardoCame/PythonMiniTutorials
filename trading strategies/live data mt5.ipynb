{
 "cells": [
  {
   "cell_type": "markdown",
   "metadata": {},
   "source": [
    "# Import Required Libraries\n",
    "Import the necessary libraries, including MetaTrader 5 and pandas."
   ]
  },
  {
   "cell_type": "code",
   "execution_count": null,
   "metadata": {},
   "outputs": [],
   "source": [
    "# Import the necessary libraries\n",
    "import MetaTrader5 as mt5\n",
    "import pandas as pd\n",
    "from datetime import datetime"
   ]
  },
  {
   "cell_type": "markdown",
   "metadata": {},
   "source": [
    "# Initialize MetaTrader 5 Connection\n",
    "Initialize the MetaTrader 5 connection and handle any initialization errors."
   ]
  },
  {
   "cell_type": "code",
   "execution_count": null,
   "metadata": {},
   "outputs": [],
   "source": [
    "# Initialize MetaTrader 5 connection\n",
    "if not mt5.initialize():\n",
    "    print(\"initialize() failed\")\n",
    "    mt5.shutdown()\n",
    "else:\n",
    "    print(\"connected succesfully\")"
   ]
  },
  {
   "cell_type": "markdown",
   "metadata": {},
   "source": [
    "# Set Symbol and Timeframe\n",
    "Set the symbol for which to stream live ticks."
   ]
  },
  {
   "cell_type": "code",
   "execution_count": null,
   "metadata": {},
   "outputs": [],
   "source": [
    "# Set Symbol and Timeframe\n",
    "\n",
    "# Set the symbol for which to stream live ticks\n",
    "symbol = \"EURGBP\"\n",
    "update_ticks_seconds = 0.1\n",
    "\n",
    "# Ensure the symbol is available in the market watch\n",
    "if not mt5.symbol_select(symbol, True):\n",
    "    print(f\"Failed to select symbol {symbol}\")\n",
    "    mt5.shutdown()"
   ]
  },
  {
   "cell_type": "markdown",
   "metadata": {},
   "source": [
    "# Process and Display Ticks\n",
    "Process the retrieved tick data and display it in a readable format, such as a pandas DataFrame."
   ]
  },
  {
   "cell_type": "code",
   "execution_count": null,
   "metadata": {},
   "outputs": [
    {
     "name": "stdout",
     "output_type": "stream",
     "text": [
      "                   time      bid      ask\n",
      "574 2024-11-14 02:48:34  0.83148  0.83165\n",
      "                   time      bid      ask\n",
      "575 2024-11-14 02:48:34  0.83148  0.83165\n",
      "                   time      bid      ask\n",
      "576 2024-11-14 02:48:34  0.83148  0.83165\n",
      "                   time      bid      ask\n",
      "577 2024-11-14 02:48:34  0.83148  0.83165\n",
      "                   time      bid      ask\n",
      "578 2024-11-14 02:48:34  0.83148  0.83165\n",
      "                   time      bid      ask\n",
      "579 2024-11-14 02:48:34  0.83148  0.83165\n",
      "                   time      bid      ask\n",
      "580 2024-11-14 02:48:34  0.83148  0.83165\n",
      "                   time      bid      ask\n",
      "581 2024-11-14 02:48:34  0.83148  0.83165\n",
      "                   time      bid      ask\n",
      "582 2024-11-14 02:48:34  0.83148  0.83165\n",
      "                   time      bid      ask\n",
      "583 2024-11-14 02:48:34  0.83148  0.83165\n",
      "                   time      bid      ask\n",
      "584 2024-11-14 02:48:34  0.83148  0.83165\n",
      "                   time      bid      ask\n",
      "585 2024-11-14 02:48:34  0.83148  0.83165\n"
     ]
    }
   ],
   "source": [
    "import pandas as pd\n",
    "import time\n",
    "import MetaTrader5 as mt5\n",
    "import threading\n",
    "import matplotlib.pyplot as plt\n",
    "\n",
    "# Add at the start of your code\n",
    "stop_signal = threading.Event()\n",
    "\n",
    "# Initialize empty DataFrame\n",
    "tick_history = pd.DataFrame()\n",
    "\n",
    "# Modify the stream_live_ticks function to use the new processing function\n",
    "def stream_live_ticks(symbol):\n",
    "    global tick_history\n",
    "    \n",
    "    while not stop_signal.is_set():  # Check if stop was requested\n",
    "        # Request tick data\n",
    "        ticks = mt5.symbol_info_tick(symbol)\n",
    "        \n",
    "        if ticks is None:\n",
    "            print(\"No tick data retrieved\")\n",
    "        else:\n",
    "            # Create DataFrame for current tick\n",
    "            current_tick = pd.DataFrame([ticks._asdict()])\n",
    "            current_tick['time'] = pd.to_datetime(current_tick['time'], unit='s')\n",
    "            current_tick = current_tick.drop(columns=['last','time_msc', 'flags', 'volume', 'volume_real'])\n",
    "\n",
    "            # Append to history\n",
    "            tick_history = pd.concat([tick_history, current_tick], ignore_index=True)\n",
    "            \n",
    "            # Display latest data\n",
    "            print(tick_history.tail(1))\n",
    "    \n",
    "        time.sleep(update_ticks_seconds)  # Add small delay to prevent CPU hogging\n",
    "\n",
    "# Run the stream_live_ticks function in a separate thread\n",
    "thread = threading.Thread(target=stream_live_ticks, args=(symbol,))\n",
    "thread.start()\n",
    "\n",
    "# Function to stop the streaming\n",
    "def stop_streaming():\n",
    "    stop_signal.set() #this will stop the while loop in the thread\n",
    "    thread.join()  # Wait for thread to finish\n",
    "    print(\"Streaming stopped\")\n"
   ]
  },
  {
   "cell_type": "code",
   "execution_count": null,
   "metadata": {},
   "outputs": [],
   "source": [
    "import pandas as pd\n",
    "import matplotlib.pyplot as plt\n",
    "from matplotlib.animation import FuncAnimation\n",
    "import matplotlib\n",
    "matplotlib.use('TkAgg')  # Use TkAgg backend for interactive plotting\n",
    "\n",
    "# Assuming your DataFrame is called 'df' and has columns 'timestamp' and 'value'\n",
    "fig, ax = plt.subplots(figsize=(10, 6))\n",
    "def update(frame):\n",
    "    ax.clear()\n",
    "    # Plot only the last n rows of the dataframe\n",
    "    ax.plot(tick_history['time'].tail(600), tick_history['bid'].tail(600), label='Bid', color='red')\n",
    "    ax.plot(tick_history['time'].tail(600), tick_history['ask'].tail(600), label='Ask', color='blue')\n",
    "    ax.legend()\n",
    "    ax.set_title('EUR/GBP Data Plot')\n",
    "    ax.grid(True)\n",
    "    # Rotate x-axis labels for better readability\n",
    "    plt.xticks(rotation=45)\n",
    "    fig.tight_layout()\n",
    "\n",
    "# Create animation that updates measured in milliseconds (1000 ms = 1 second)\n",
    "ani = FuncAnimation(fig, update, interval=update_ticks_seconds*1000)\n",
    "\n",
    "# Show the plot\n",
    "plt.show()\n"
   ]
  },
  {
   "cell_type": "markdown",
   "metadata": {},
   "source": [
    "# Explanation of FuncAnimation Live Chart\n",
    "\n",
    "The `FuncAnimation` class from the `matplotlib.animation` module is used to create animations by repeatedly calling a function (`update` in this case) at specified intervals. Here's a detailed breakdown of how it works in the context of the live chart:\n",
    "\n",
    "1. **Importing Required Libraries**: The necessary libraries for plotting and animation are imported, including `matplotlib.pyplot` and `FuncAnimation`.\n",
    "\n",
    "2. **Setting Up the Plot**: A figure and axis are created using `plt.subplots()`. This is where the live data will be plotted.\n",
    "\n",
    "3. **Defining the Update Function**: The `update` function is defined to clear the axis and plot the latest data from the `tick_history` DataFrame. The x-axis labels are rotated for better readability, and the layout is adjusted to fit the plot elements properly.\n",
    "\n",
    "4. **Creating the Animation**: The `FuncAnimation` class is used to create the animation. It takes the figure, update function, and interval (in milliseconds) as arguments. In this case, the plot is updated every 5000 milliseconds (5 seconds).\n",
    "\n",
    "5. **Displaying the Plot**: The `plt.show()` function is called to display the plot. This will open a window showing the live chart, which updates at the specified interval.\n",
    "\n",
    "### Example Usage\n",
    "\n",
    "To create and display a live chart using `FuncAnimation`, you would run the provided code. The chart will update every 5 seconds with the latest tick data, providing a real-time visualization of the bid prices."
   ]
  },
  {
   "cell_type": "code",
   "execution_count": null,
   "metadata": {},
   "outputs": [],
   "source": [
    "# To stop the stream, call:\n",
    "stop_streaming()"
   ]
  },
  {
   "cell_type": "code",
   "execution_count": null,
   "metadata": {},
   "outputs": [],
   "source": [
    "print(tick_history)"
   ]
  },
  {
   "cell_type": "markdown",
   "metadata": {},
   "source": [
    "# Explanation of the stop_streaming Function\n",
    "\n",
    "The `stop_streaming` function is designed to safely stop the live tick data streaming process. Here's a detailed breakdown of what each part of the function does:\n",
    "\n",
    "1. **`stop_signal.set()`**: This line sets the `stop_signal` event. The `stop_signal` is a threading event that is used to signal the streaming thread to stop. When `stop_signal.set()` is called, the event is set to true, which the streaming thread checks in its loop to determine if it should exit.\n",
    "\n",
    "2. **`thread.join()`**: This line waits for the streaming thread to finish its execution. The `join` method blocks the calling thread (in this case, the main thread) until the thread whose `join` method is called is terminated. This ensures that the streaming thread has completely stopped before proceeding.\n",
    "\n",
    "3. **`print(\"Streaming stopped\")`**: This line simply prints a message to the console indicating that the streaming has been stopped. This is useful for debugging and confirming that the function has executed successfully.\n",
    "\n",
    "### Example Usage\n",
    "\n",
    "To stop the live tick data streaming, you would call the `stop_streaming` function. This will set the stop signal, wait for the streaming thread to finish, and then print the confirmation message.\n"
   ]
  }
 ],
 "metadata": {
  "kernelspec": {
   "display_name": ".venv",
   "language": "python",
   "name": "python3"
  },
  "language_info": {
   "codemirror_mode": {
    "name": "ipython",
    "version": 3
   },
   "file_extension": ".py",
   "mimetype": "text/x-python",
   "name": "python",
   "nbconvert_exporter": "python",
   "pygments_lexer": "ipython3",
   "version": "3.12.6"
  }
 },
 "nbformat": 4,
 "nbformat_minor": 2
}
