{
 "cells": [
  {
   "cell_type": "markdown",
   "metadata": {},
   "source": [
    "# Bollinger Bands strategy on EUR/GBP 1min data"
   ]
  },
  {
   "cell_type": "code",
   "execution_count": null,
   "metadata": {},
   "outputs": [],
   "source": [
    "import pandas as pd\n",
    "import backtrader as bt\n",
    "import matplotlib.pyplot as plt\n",
    "import datetime"
   ]
  },
  {
   "cell_type": "code",
   "execution_count": null,
   "metadata": {},
   "outputs": [],
   "source": [
    "#Read data from onedrive\n",
    "url =\"https://onedrive.live.com/download?resid=4E16D53638D067A9%21339322&authkey=!AE2f-Z1jWB8rc3w\"\n",
    "eurgbp = pd.read_csv(url, parse_dates=True, index_col=0)"
   ]
  },
  {
   "cell_type": "code",
   "execution_count": null,
   "metadata": {},
   "outputs": [],
   "source": [
    "class BollingerStrategy(bt.Strategy):\n",
    "    params = (\n",
    "        ('period', 60),\n",
    "        ('devfactor', 5),\n",
    "    )\n",
    "\n",
    "    def __init__(self):\n",
    "        self.boll = bt.indicators.BollingerBands(period=self.p.period, devfactor=self.p.devfactor)\n",
    "\n",
    "    def next(self):\n",
    "        if not self.position:\n",
    "            if self.data.close > self.boll.lines.top:\n",
    "                self.sell()\n",
    "            if self.data.close < self.boll.lines.bot:\n",
    "                self.buy()\n",
    "\n",
    "        else:\n",
    "            if self.position.size > 0 and self.data.close > self.boll.lines.mid:\n",
    "                self.close()\n",
    "            if self.position.size < 0 and self.data.close < self.boll.lines.mid:\n",
    "                self.close()\n",
    "    \n",
    "    def notify_order(self, order):\n",
    "        if order.status == order.Completed:\n",
    "            action = 'BUY' if order.isbuy() else 'SELL'\n",
    "            print(f'{action} EXECUTED, Price: {order.executed.price:.2f}, Cost: {order.executed.value:.2f}')\n",
    "        elif order.status in [order.Canceled, order.Margin, order.Rejected]:\n",
    "            print('Order Canceled/Margin/Rejected')\n",
    "\n",
    "    def notify_trade(self, trade):\n",
    "        if trade.isclosed:\n",
    "            print(f'Trade PNL: {trade.pnl:.2f}')\n"
   ]
  },
  {
   "cell_type": "code",
   "execution_count": null,
   "metadata": {},
   "outputs": [],
   "source": [
    "#Avvio Cerebro e importo i dati\n",
    "cerebro = bt.Cerebro(stdstats=False)\n",
    "cerebro = bt.Cerebro(cheat_on_open=True) #per calcolare la size basata sulla open dopo (all in method)\n",
    "\n",
    "\n",
    "bt_data = bt.feeds.PandasData(dataname=eurgbp, timeframe = bt.TimeFrame.Minutes)\n",
    "cerebro.adddata(bt_data)\n",
    "\n",
    "cerebro.addstrategy(BollingerStrategy)\n",
    "#cerebro.optstrategy(BollingerStrategy, period=range(20, 40), devfactor=range(1, 3))\n",
    "\n",
    "cerebro.addsizer(bt.sizers.PercentSizer, percents=90)\n",
    "\n",
    "#Aggiungo lo slippage\n",
    "cerebro.broker.set_slippage_fixed(0.000125, slip_open=True, slip_match=True, slip_out=True) #ho messo 1.25 pips come spread (media di ICMarkets.eu)\n",
    "\n",
    "#Aggiugni gli analyzers e gli observers\n",
    "cerebro.addobserver(bt.observers.Value)\n",
    "cerebro.addanalyzer(bt.analyzers.TradeAnalyzer)\n",
    "cerebro.addanalyzer(bt.analyzers.SQN)\n",
    "\n",
    "\n",
    "results = cerebro.run()\n",
    "firstStrat = results[0]\n",
    "\n",
    "cerebro.plot(iplot=False, volume=False, width=50, height=20, style='candle')\n",
    "plt.show()"
   ]
  },
  {
   "cell_type": "code",
   "execution_count": null,
   "metadata": {},
   "outputs": [],
   "source": [
    "for x in firstStrat.analyzers:\n",
    "    x.print()"
   ]
  }
 ],
 "metadata": {
  "kernelspec": {
   "display_name": ".venv",
   "language": "python",
   "name": "python3"
  },
  "language_info": {
   "codemirror_mode": {
    "name": "ipython",
    "version": 3
   },
   "file_extension": ".py",
   "mimetype": "text/x-python",
   "name": "python",
   "nbconvert_exporter": "python",
   "pygments_lexer": "ipython3",
   "version": "3.10.14"
  }
 },
 "nbformat": 4,
 "nbformat_minor": 2
}
