{
 "cells": [
  {
   "cell_type": "code",
   "execution_count": 9,
   "metadata": {},
   "outputs": [],
   "source": [
    "import backtrader as bt\n",
    "import backtrader_ib_insync as ibnew\n",
    "import datetime"
   ]
  },
  {
   "cell_type": "code",
   "execution_count": 10,
   "metadata": {},
   "outputs": [
    {
     "name": "stdout",
     "output_type": "stream",
     "text": [
      "starting backtrader\n"
     ]
    },
    {
     "ename": "ConnectionError",
     "evalue": "Not connected",
     "output_type": "error",
     "traceback": [
      "\u001b[0;31m---------------------------------------------------------------------------\u001b[0m",
      "\u001b[0;31mConnectionError\u001b[0m                           Traceback (most recent call last)",
      "Cell \u001b[0;32mIn[10], line 57\u001b[0m\n\u001b[1;32m     52\u001b[0m     cerebro\u001b[38;5;241m.\u001b[39madddata(data)\n\u001b[1;32m     53\u001b[0m     cerebro\u001b[38;5;241m.\u001b[39mrun()\n\u001b[0;32m---> 57\u001b[0m \u001b[43mstart\u001b[49m\u001b[43m(\u001b[49m\u001b[43m)\u001b[49m\n",
      "Cell \u001b[0;32mIn[10], line 53\u001b[0m, in \u001b[0;36mstart\u001b[0;34m()\u001b[0m\n\u001b[1;32m     50\u001b[0m cerebro\u001b[38;5;241m.\u001b[39maddstrategy(MyStrategy)\n\u001b[1;32m     52\u001b[0m cerebro\u001b[38;5;241m.\u001b[39madddata(data)\n\u001b[0;32m---> 53\u001b[0m \u001b[43mcerebro\u001b[49m\u001b[38;5;241;43m.\u001b[39;49m\u001b[43mrun\u001b[49m\u001b[43m(\u001b[49m\u001b[43m)\u001b[49m\n",
      "File \u001b[0;32m/usr/local/python/3.10.13/lib/python3.10/site-packages/backtrader/cerebro.py:1132\u001b[0m, in \u001b[0;36mCerebro.run\u001b[0;34m(self, **kwargs)\u001b[0m\n\u001b[1;32m   1128\u001b[0m \u001b[38;5;28;01mif\u001b[39;00m \u001b[38;5;129;01mnot\u001b[39;00m \u001b[38;5;28mself\u001b[39m\u001b[38;5;241m.\u001b[39m_dooptimize \u001b[38;5;129;01mor\u001b[39;00m \u001b[38;5;28mself\u001b[39m\u001b[38;5;241m.\u001b[39mp\u001b[38;5;241m.\u001b[39mmaxcpus \u001b[38;5;241m==\u001b[39m \u001b[38;5;241m1\u001b[39m:\n\u001b[1;32m   1129\u001b[0m     \u001b[38;5;66;03m# If no optimmization is wished ... or 1 core is to be used\u001b[39;00m\n\u001b[1;32m   1130\u001b[0m     \u001b[38;5;66;03m# let's skip process \"spawning\"\u001b[39;00m\n\u001b[1;32m   1131\u001b[0m     \u001b[38;5;28;01mfor\u001b[39;00m iterstrat \u001b[38;5;129;01min\u001b[39;00m iterstrats:\n\u001b[0;32m-> 1132\u001b[0m         runstrat \u001b[38;5;241m=\u001b[39m \u001b[38;5;28;43mself\u001b[39;49m\u001b[38;5;241;43m.\u001b[39;49m\u001b[43mrunstrategies\u001b[49m\u001b[43m(\u001b[49m\u001b[43miterstrat\u001b[49m\u001b[43m)\u001b[49m\n\u001b[1;32m   1133\u001b[0m         \u001b[38;5;28mself\u001b[39m\u001b[38;5;241m.\u001b[39mrunstrats\u001b[38;5;241m.\u001b[39mappend(runstrat)\n\u001b[1;32m   1134\u001b[0m         \u001b[38;5;28;01mif\u001b[39;00m \u001b[38;5;28mself\u001b[39m\u001b[38;5;241m.\u001b[39m_dooptimize:\n",
      "File \u001b[0;32m/usr/local/python/3.10.13/lib/python3.10/site-packages/backtrader/cerebro.py:1192\u001b[0m, in \u001b[0;36mCerebro.runstrategies\u001b[0;34m(self, iterstrat, predata)\u001b[0m\n\u001b[1;32m   1189\u001b[0m \u001b[38;5;28;01mfor\u001b[39;00m orders, onotify \u001b[38;5;129;01min\u001b[39;00m \u001b[38;5;28mself\u001b[39m\u001b[38;5;241m.\u001b[39m_ohistory:\n\u001b[1;32m   1190\u001b[0m     \u001b[38;5;28mself\u001b[39m\u001b[38;5;241m.\u001b[39m_broker\u001b[38;5;241m.\u001b[39madd_order_history(orders, onotify)\n\u001b[0;32m-> 1192\u001b[0m \u001b[38;5;28;43mself\u001b[39;49m\u001b[38;5;241;43m.\u001b[39;49m\u001b[43m_broker\u001b[49m\u001b[38;5;241;43m.\u001b[39;49m\u001b[43mstart\u001b[49m\u001b[43m(\u001b[49m\u001b[43m)\u001b[49m\n\u001b[1;32m   1194\u001b[0m \u001b[38;5;28;01mfor\u001b[39;00m feed \u001b[38;5;129;01min\u001b[39;00m \u001b[38;5;28mself\u001b[39m\u001b[38;5;241m.\u001b[39mfeeds:\n\u001b[1;32m   1195\u001b[0m     feed\u001b[38;5;241m.\u001b[39mstart()\n",
      "File \u001b[0;32m/usr/local/python/3.10.13/lib/python3.10/site-packages/backtrader_ib_insync/ibbroker.py:294\u001b[0m, in \u001b[0;36mIBBroker.start\u001b[0;34m(self)\u001b[0m\n\u001b[1;32m    292\u001b[0m \u001b[38;5;28mself\u001b[39m\u001b[38;5;241m.\u001b[39mstartingcash \u001b[38;5;241m=\u001b[39m \u001b[38;5;28mself\u001b[39m\u001b[38;5;241m.\u001b[39mcash \u001b[38;5;241m=\u001b[39m \u001b[38;5;241m0.0\u001b[39m\n\u001b[1;32m    293\u001b[0m \u001b[38;5;28mself\u001b[39m\u001b[38;5;241m.\u001b[39mstartingvalue \u001b[38;5;241m=\u001b[39m \u001b[38;5;28mself\u001b[39m\u001b[38;5;241m.\u001b[39mvalue \u001b[38;5;241m=\u001b[39m \u001b[38;5;241m0.0\u001b[39m\n\u001b[0;32m--> 294\u001b[0m \u001b[38;5;28;43mself\u001b[39;49m\u001b[38;5;241;43m.\u001b[39;49m\u001b[43mibstore\u001b[49m\u001b[38;5;241;43m.\u001b[39;49m\u001b[43mreqAccountUpdates\u001b[49m\u001b[43m(\u001b[49m\u001b[43m)\u001b[49m\n\u001b[1;32m    296\u001b[0m \u001b[38;5;28mself\u001b[39m\u001b[38;5;241m.\u001b[39mstartingcash \u001b[38;5;241m=\u001b[39m \u001b[38;5;28mself\u001b[39m\u001b[38;5;241m.\u001b[39mcash \u001b[38;5;241m=\u001b[39m \u001b[38;5;28mself\u001b[39m\u001b[38;5;241m.\u001b[39mibstore\u001b[38;5;241m.\u001b[39mget_acc_cash()\n\u001b[1;32m    297\u001b[0m \u001b[38;5;28mself\u001b[39m\u001b[38;5;241m.\u001b[39mstartingvalue \u001b[38;5;241m=\u001b[39m \u001b[38;5;28mself\u001b[39m\u001b[38;5;241m.\u001b[39mvalue \u001b[38;5;241m=\u001b[39m \u001b[38;5;28mself\u001b[39m\u001b[38;5;241m.\u001b[39mibstore\u001b[38;5;241m.\u001b[39mget_acc_value()\n",
      "File \u001b[0;32m/usr/local/python/3.10.13/lib/python3.10/site-packages/backtrader_ib_insync/ibstore.py:921\u001b[0m, in \u001b[0;36mIBStore.reqAccountUpdates\u001b[0;34m(self, subscribe, account)\u001b[0m\n\u001b[1;32m    914\u001b[0m \u001b[38;5;250m\u001b[39m\u001b[38;5;124;03m'''Proxy to reqAccountUpdates\u001b[39;00m\n\u001b[1;32m    915\u001b[0m \n\u001b[1;32m    916\u001b[0m \u001b[38;5;124;03mIf ``account`` is ``None``, wait for the ``managedAccounts`` message to\u001b[39;00m\n\u001b[1;32m    917\u001b[0m \u001b[38;5;124;03mset the account codes\u001b[39;00m\n\u001b[1;32m    918\u001b[0m \u001b[38;5;124;03m'''\u001b[39;00m\n\u001b[1;32m    919\u001b[0m \u001b[38;5;28;01mif\u001b[39;00m account \u001b[38;5;129;01mis\u001b[39;00m \u001b[38;5;28;01mNone\u001b[39;00m:\n\u001b[1;32m    920\u001b[0m     \u001b[38;5;66;03m#self._event_managed_accounts.wait()\u001b[39;00m\n\u001b[0;32m--> 921\u001b[0m     \u001b[38;5;28;43mself\u001b[39;49m\u001b[38;5;241;43m.\u001b[39;49m\u001b[43mmanagedAccounts\u001b[49m\u001b[43m(\u001b[49m\u001b[43m)\u001b[49m\n\u001b[1;32m    922\u001b[0m     account \u001b[38;5;241m=\u001b[39m \u001b[38;5;28mself\u001b[39m\u001b[38;5;241m.\u001b[39mmanaged_accounts[\u001b[38;5;241m0\u001b[39m]\n\u001b[1;32m    924\u001b[0m \u001b[38;5;66;03m#self.ib.reqAccountUpdates(subscribe, bytes(account))\u001b[39;00m\n",
      "File \u001b[0;32m/usr/local/python/3.10.13/lib/python3.10/site-packages/backtrader_ib_insync/ibstore.py:346\u001b[0m, in \u001b[0;36mIBStore.managedAccounts\u001b[0;34m(self)\u001b[0m\n\u001b[1;32m    343\u001b[0m \u001b[38;5;28mself\u001b[39m\u001b[38;5;241m.\u001b[39mmanaged_accounts \u001b[38;5;241m=\u001b[39m \u001b[38;5;28mself\u001b[39m\u001b[38;5;241m.\u001b[39mib\u001b[38;5;241m.\u001b[39mmanagedAccounts()\n\u001b[1;32m    345\u001b[0m \u001b[38;5;66;03m# Request time to avoid synchronization issues\u001b[39;00m\n\u001b[0;32m--> 346\u001b[0m \u001b[38;5;28;43mself\u001b[39;49m\u001b[38;5;241;43m.\u001b[39;49m\u001b[43mreqCurrentTime\u001b[49m\u001b[43m(\u001b[49m\u001b[43m)\u001b[49m\n",
      "File \u001b[0;32m/usr/local/python/3.10.13/lib/python3.10/site-packages/backtrader_ib_insync/ibstore.py:362\u001b[0m, in \u001b[0;36mIBStore.reqCurrentTime\u001b[0;34m(self)\u001b[0m\n\u001b[1;32m    361\u001b[0m \u001b[38;5;28;01mdef\u001b[39;00m \u001b[38;5;21mreqCurrentTime\u001b[39m(\u001b[38;5;28mself\u001b[39m):\n\u001b[0;32m--> 362\u001b[0m     \u001b[38;5;28;43mself\u001b[39;49m\u001b[38;5;241;43m.\u001b[39;49m\u001b[43mib\u001b[49m\u001b[38;5;241;43m.\u001b[39;49m\u001b[43mreqCurrentTime\u001b[49m\u001b[43m(\u001b[49m\u001b[43m)\u001b[49m\n",
      "File \u001b[0;32m/usr/local/python/3.10.13/lib/python3.10/site-packages/ib_insync/ib.py:732\u001b[0m, in \u001b[0;36mIB.reqCurrentTime\u001b[0;34m(self)\u001b[0m\n\u001b[1;32m    726\u001b[0m \u001b[38;5;28;01mdef\u001b[39;00m \u001b[38;5;21mreqCurrentTime\u001b[39m(\u001b[38;5;28mself\u001b[39m) \u001b[38;5;241m-\u001b[39m\u001b[38;5;241m>\u001b[39m datetime\u001b[38;5;241m.\u001b[39mdatetime:\n\u001b[1;32m    727\u001b[0m \u001b[38;5;250m    \u001b[39m\u001b[38;5;124;03m\"\"\"\u001b[39;00m\n\u001b[1;32m    728\u001b[0m \u001b[38;5;124;03m    Request TWS current time.\u001b[39;00m\n\u001b[1;32m    729\u001b[0m \n\u001b[1;32m    730\u001b[0m \u001b[38;5;124;03m    This method is blocking.\u001b[39;00m\n\u001b[1;32m    731\u001b[0m \u001b[38;5;124;03m    \"\"\"\u001b[39;00m\n\u001b[0;32m--> 732\u001b[0m     \u001b[38;5;28;01mreturn\u001b[39;00m \u001b[38;5;28mself\u001b[39m\u001b[38;5;241m.\u001b[39m_run(\u001b[38;5;28;43mself\u001b[39;49m\u001b[38;5;241;43m.\u001b[39;49m\u001b[43mreqCurrentTimeAsync\u001b[49m\u001b[43m(\u001b[49m\u001b[43m)\u001b[49m)\n",
      "File \u001b[0;32m/usr/local/python/3.10.13/lib/python3.10/site-packages/ib_insync/ib.py:1854\u001b[0m, in \u001b[0;36mIB.reqCurrentTimeAsync\u001b[0;34m(self)\u001b[0m\n\u001b[1;32m   1852\u001b[0m \u001b[38;5;28;01mdef\u001b[39;00m \u001b[38;5;21mreqCurrentTimeAsync\u001b[39m(\u001b[38;5;28mself\u001b[39m) \u001b[38;5;241m-\u001b[39m\u001b[38;5;241m>\u001b[39m Awaitable[datetime\u001b[38;5;241m.\u001b[39mdatetime]:\n\u001b[1;32m   1853\u001b[0m     future \u001b[38;5;241m=\u001b[39m \u001b[38;5;28mself\u001b[39m\u001b[38;5;241m.\u001b[39mwrapper\u001b[38;5;241m.\u001b[39mstartReq(\u001b[38;5;124m'\u001b[39m\u001b[38;5;124mcurrentTime\u001b[39m\u001b[38;5;124m'\u001b[39m)\n\u001b[0;32m-> 1854\u001b[0m     \u001b[38;5;28;43mself\u001b[39;49m\u001b[38;5;241;43m.\u001b[39;49m\u001b[43mclient\u001b[49m\u001b[38;5;241;43m.\u001b[39;49m\u001b[43mreqCurrentTime\u001b[49m\u001b[43m(\u001b[49m\u001b[43m)\u001b[49m\n\u001b[1;32m   1855\u001b[0m     \u001b[38;5;28;01mreturn\u001b[39;00m future\n",
      "File \u001b[0;32m/usr/local/python/3.10.13/lib/python3.10/site-packages/ib_insync/client.py:781\u001b[0m, in \u001b[0;36mClient.reqCurrentTime\u001b[0;34m(self)\u001b[0m\n\u001b[1;32m    780\u001b[0m \u001b[38;5;28;01mdef\u001b[39;00m \u001b[38;5;21mreqCurrentTime\u001b[39m(\u001b[38;5;28mself\u001b[39m):\n\u001b[0;32m--> 781\u001b[0m     \u001b[38;5;28;43mself\u001b[39;49m\u001b[38;5;241;43m.\u001b[39;49m\u001b[43msend\u001b[49m\u001b[43m(\u001b[49m\u001b[38;5;241;43m49\u001b[39;49m\u001b[43m,\u001b[49m\u001b[43m \u001b[49m\u001b[38;5;241;43m1\u001b[39;49m\u001b[43m)\u001b[49m\n",
      "File \u001b[0;32m/usr/local/python/3.10.13/lib/python3.10/site-packages/ib_insync/client.py:238\u001b[0m, in \u001b[0;36mClient.send\u001b[0;34m(self, makeEmpty, *fields)\u001b[0m\n\u001b[1;32m    236\u001b[0m \u001b[38;5;250m\u001b[39m\u001b[38;5;124;03m\"\"\"Serialize and send the given fields using the IB socket protocol.\"\"\"\u001b[39;00m\n\u001b[1;32m    237\u001b[0m \u001b[38;5;28;01mif\u001b[39;00m \u001b[38;5;129;01mnot\u001b[39;00m \u001b[38;5;28mself\u001b[39m\u001b[38;5;241m.\u001b[39misConnected():\n\u001b[0;32m--> 238\u001b[0m     \u001b[38;5;28;01mraise\u001b[39;00m \u001b[38;5;167;01mConnectionError\u001b[39;00m(\u001b[38;5;124m'\u001b[39m\u001b[38;5;124mNot connected\u001b[39m\u001b[38;5;124m'\u001b[39m)\n\u001b[1;32m    240\u001b[0m msg \u001b[38;5;241m=\u001b[39m io\u001b[38;5;241m.\u001b[39mStringIO()\n\u001b[1;32m    241\u001b[0m empty \u001b[38;5;241m=\u001b[39m (\u001b[38;5;28;01mNone\u001b[39;00m, UNSET_INTEGER, UNSET_DOUBLE) \u001b[38;5;28;01mif\u001b[39;00m makeEmpty \u001b[38;5;28;01melse\u001b[39;00m (\u001b[38;5;28;01mNone\u001b[39;00m,)\n",
      "\u001b[0;31mConnectionError\u001b[0m: Not connected"
     ]
    }
   ],
   "source": [
    "#Define the strategy\n",
    "class MyStrategy(bt.Strategy):\n",
    "    def __init__(self):\n",
    "        print(\"initializing strategy\")\n",
    "        self.data_ready = False\n",
    "\n",
    "    def notify_data(self, data, status):\n",
    "        print(\"data status =>\", data._getstatusname(status))\n",
    "\n",
    "    def log_data(self):\n",
    "        ohlcv = [] #creo una lista\n",
    "        ohlcv.append(str(self.data.datetime.datetime())) #printo la data corrente\n",
    "        ohlcv.append(str(self.data.open[0]))\n",
    "        ohlcv.append(str(self.data.high[0]))\n",
    "        ohlcv.append(str(self.data.low[0]))\n",
    "        ohlcv.append(str(self.data.close[0]))\n",
    "        ohlcv.append(str(self.data.volume[0]))\n",
    "        print(\",\".join(ohlcv))\n",
    "\n",
    "\n",
    "    def next(self):\n",
    "\n",
    "        self.log_data()\n",
    "\n",
    "        if not self.position:\n",
    "            self.buy()\n",
    "        elif self.position:\n",
    "            self.close()\n",
    "\n",
    "\n",
    "    \n",
    "\n",
    "\n",
    "def start():\n",
    "    print(\"starting backtrader\")\n",
    "    cerebro = bt.Cerebro()\n",
    "\n",
    "\n",
    "    ibstore = ibnew.IBStore(port=4002, host=\"localhost\") #inizio la sessione con il server di IB\n",
    "\n",
    "    start = datetime.datetime(2024, 7, 23, 8, 0, 0) #setto la data di inizio\n",
    "    data = ibstore.getdata(dataname=\"EUR.GBP-CASH-IDEALPRO\",\n",
    "                           fromdate=start, qcheck=2) #prendo i dati di EURGBP\n",
    "    \n",
    "    cerebro.resampledata(data, timeframe=bt.TimeFrame.Seconds, compression=5) #comprimo i dati a 5 minuti\n",
    "\n",
    "    broker = ibstore.getbroker() #setto il broker su IB\n",
    "    cerebro.setbroker(broker) #porto il broker su cerebro\n",
    "\n",
    "    cerebro.addstrategy(MyStrategy)\n",
    "    \n",
    "    cerebro.adddata(data)\n",
    "    cerebro.run()\n",
    "\n",
    "\n",
    "\n",
    "start()"
   ]
  },
  {
   "cell_type": "markdown",
   "metadata": {},
   "source": [
    "The provided Python code snippet is a method named [`log_data`](command:_github.copilot.openSymbolFromReferences?%5B%7B%22%24mid%22%3A1%2C%22fsPath%22%3A%22%2Fhome%2Fedoardo%2FDesktop%2Fbacktrader%2Fconnect%20to%20ib.ipynb%22%2C%22path%22%3A%22%2Fhome%2Fedoardo%2FDesktop%2Fbacktrader%2Fconnect%20to%20ib.ipynb%22%2C%22scheme%22%3A%22vscode-notebook-cell%22%2C%22fragment%22%3A%22W1sZmlsZQ%3D%3D%22%7D%2C%7B%22line%22%3A7%2C%22character%22%3A8%7D%5D \"/home/edoardo/Desktop/backtrader/connect to ib.ipynb\") that belongs to a class (not shown in the snippet). This method is designed to log financial market data, specifically Open-High-Low-Close-Volume (OHLCV) data, for a given time frame. The method does not return any value; instead, it prints the logged data to the console.\n",
    "\n",
    "1. **Initialization of the OHLCV List**: At the beginning of the method, an empty list named [`ohlcv`](command:_github.copilot.openSymbolFromReferences?%5B%7B%22%24mid%22%3A1%2C%22fsPath%22%3A%22%2Fhome%2Fedoardo%2FDesktop%2Fbacktrader%2Fconnect%20to%20ib.ipynb%22%2C%22path%22%3A%22%2Fhome%2Fedoardo%2FDesktop%2Fbacktrader%2Fconnect%20to%20ib.ipynb%22%2C%22scheme%22%3A%22vscode-notebook-cell%22%2C%22fragment%22%3A%22W1sZmlsZQ%3D%3D%22%7D%2C%7B%22line%22%3A8%2C%22character%22%3A8%7D%5D \"/home/edoardo/Desktop/backtrader/connect to ib.ipynb\") is created. This list is intended to store the string representations of the datetime, open, high, low, close, and volume data points.\n",
    "\n",
    "2. **Appending Data Points**: The method then proceeds to append the current datetime ([`self.data.datetime.datetime()`](command:_github.copilot.openSymbolFromReferences?%5B%7B%22%24mid%22%3A1%2C%22fsPath%22%3A%22%2Fhome%2Fedoardo%2FDesktop%2Fbacktrader%2Fconnect%20to%20ib.ipynb%22%2C%22path%22%3A%22%2Fhome%2Fedoardo%2FDesktop%2Fbacktrader%2Fconnect%20to%20ib.ipynb%22%2C%22scheme%22%3A%22vscode-notebook-cell%22%2C%22fragment%22%3A%22W1sZmlsZQ%3D%3D%22%7D%2C%7B%22line%22%3A7%2C%22character%22%3A17%7D%5D \"/home/edoardo/Desktop/backtrader/connect to ib.ipynb\")) as a string to the [`ohlcv`](command:_github.copilot.openSymbolFromReferences?%5B%7B%22%24mid%22%3A1%2C%22fsPath%22%3A%22%2Fhome%2Fedoardo%2FDesktop%2Fbacktrader%2Fconnect%20to%20ib.ipynb%22%2C%22path%22%3A%22%2Fhome%2Fedoardo%2FDesktop%2Fbacktrader%2Fconnect%20to%20ib.ipynb%22%2C%22scheme%22%3A%22vscode-notebook-cell%22%2C%22fragment%22%3A%22W1sZmlsZQ%3D%3D%22%7D%2C%7B%22line%22%3A8%2C%22character%22%3A8%7D%5D \"/home/edoardo/Desktop/backtrader/connect to ib.ipynb\") list. This is followed by appending the open ([`self.data.open[0]`](command:_github.copilot.openSymbolFromReferences?%5B%7B%22%24mid%22%3A1%2C%22fsPath%22%3A%22%2Fhome%2Fedoardo%2FDesktop%2Fbacktrader%2Fconnect%20to%20ib.ipynb%22%2C%22path%22%3A%22%2Fhome%2Fedoardo%2FDesktop%2Fbacktrader%2Fconnect%20to%20ib.ipynb%22%2C%22scheme%22%3A%22vscode-notebook-cell%22%2C%22fragment%22%3A%22W1sZmlsZQ%3D%3D%22%7D%2C%7B%22line%22%3A7%2C%22character%22%3A17%7D%5D \"/home/edoardo/Desktop/backtrader/connect to ib.ipynb\")), high ([`self.data.high[0]`](command:_github.copilot.openSymbolFromReferences?%5B%7B%22%24mid%22%3A1%2C%22fsPath%22%3A%22%2Fhome%2Fedoardo%2FDesktop%2Fbacktrader%2Fconnect%20to%20ib.ipynb%22%2C%22path%22%3A%22%2Fhome%2Fedoardo%2FDesktop%2Fbacktrader%2Fconnect%20to%20ib.ipynb%22%2C%22scheme%22%3A%22vscode-notebook-cell%22%2C%22fragment%22%3A%22W1sZmlsZQ%3D%3D%22%7D%2C%7B%22line%22%3A7%2C%22character%22%3A17%7D%5D \"/home/edoardo/Desktop/backtrader/connect to ib.ipynb\")), low ([`self.data.low[0]`](command:_github.copilot.openSymbolFromReferences?%5B%7B%22%24mid%22%3A1%2C%22fsPath%22%3A%22%2Fhome%2Fedoardo%2FDesktop%2Fbacktrader%2Fconnect%20to%20ib.ipynb%22%2C%22path%22%3A%22%2Fhome%2Fedoardo%2FDesktop%2Fbacktrader%2Fconnect%20to%20ib.ipynb%22%2C%22scheme%22%3A%22vscode-notebook-cell%22%2C%22fragment%22%3A%22W1sZmlsZQ%3D%3D%22%7D%2C%7B%22line%22%3A7%2C%22character%22%3A17%7D%5D \"/home/edoardo/Desktop/backtrader/connect to ib.ipynb\")), close ([`self.data.close[0]`](command:_github.copilot.openSymbolFromReferences?%5B%7B%22%24mid%22%3A1%2C%22fsPath%22%3A%22%2Fhome%2Fedoardo%2FDesktop%2Fbacktrader%2Fconnect%20to%20ib.ipynb%22%2C%22path%22%3A%22%2Fhome%2Fedoardo%2FDesktop%2Fbacktrader%2Fconnect%20to%20ib.ipynb%22%2C%22scheme%22%3A%22vscode-notebook-cell%22%2C%22fragment%22%3A%22W1sZmlsZQ%3D%3D%22%7D%2C%7B%22line%22%3A7%2C%22character%22%3A17%7D%5D \"/home/edoardo/Desktop/backtrader/connect to ib.ipynb\")), and volume ([`self.data.volume[0]`](command:_github.copilot.openSymbolFromReferences?%5B%7B%22%24mid%22%3A1%2C%22fsPath%22%3A%22%2Fhome%2Fedoardo%2FDesktop%2Fbacktrader%2Fconnect%20to%20ib.ipynb%22%2C%22path%22%3A%22%2Fhome%2Fedoardo%2FDesktop%2Fbacktrader%2Fconnect%20to%20ib.ipynb%22%2C%22scheme%22%3A%22vscode-notebook-cell%22%2C%22fragment%22%3A%22W1sZmlsZQ%3D%3D%22%7D%2C%7B%22line%22%3A7%2C%22character%22%3A17%7D%5D \"/home/edoardo/Desktop/backtrader/connect to ib.ipynb\")) data points, also as strings. The `[0]` index is used to access the most recent value of each data point.\n",
    "\n",
    "3. **Printing the Data**: Finally, the method prints the contents of the [`ohlcv`](command:_github.copilot.openSymbolFromReferences?%5B%7B%22%24mid%22%3A1%2C%22fsPath%22%3A%22%2Fhome%2Fedoardo%2FDesktop%2Fbacktrader%2Fconnect%20to%20ib.ipynb%22%2C%22path%22%3A%22%2Fhome%2Fedoardo%2FDesktop%2Fbacktrader%2Fconnect%20to%20ib.ipynb%22%2C%22scheme%22%3A%22vscode-notebook-cell%22%2C%22fragment%22%3A%22W1sZmlsZQ%3D%3D%22%7D%2C%7B%22line%22%3A8%2C%22character%22%3A8%7D%5D \"/home/edoardo/Desktop/backtrader/connect to ib.ipynb\") list to the console. The `\",\".join(ohlcv)` expression is used to convert the list into a comma-separated string, which is a common format for representing financial market data. This format makes it easy to read and can be readily imported into various data analysis tools.\n",
    "\n",
    "This method is a simple yet effective way to log and visually inspect OHLCV data in real-time or during backtesting of trading strategies. It demonstrates basic data manipulation and string handling techniques in Python."
   ]
  },
  {
   "cell_type": "markdown",
   "metadata": {},
   "source": [
    "The `\",\".join(ohlcv)` statement in the [`log_data`](command:_github.copilot.openSymbolFromReferences?%5B%7B%22%24mid%22%3A1%2C%22fsPath%22%3A%22%2Fhome%2Fedoardo%2FDesktop%2Fbacktrader%2Fconnect%20to%20ib.ipynb%22%2C%22path%22%3A%22%2Fhome%2Fedoardo%2FDesktop%2Fbacktrader%2Fconnect%20to%20ib.ipynb%22%2C%22scheme%22%3A%22vscode-notebook-cell%22%2C%22fragment%22%3A%22W1sZmlsZQ%3D%3D%22%7D%2C%7B%22line%22%3A7%2C%22character%22%3A8%7D%5D \"/home/edoardo/Desktop/backtrader/connect to ib.ipynb\") method is crucial for creating a single, comma-separated string from the elements of the [`ohlcv`](command:_github.copilot.openSymbolFromReferences?%5B%7B%22%24mid%22%3A1%2C%22fsPath%22%3A%22%2Fhome%2Fedoardo%2FDesktop%2Fbacktrader%2Fconnect%20to%20ib.ipynb%22%2C%22path%22%3A%22%2Fhome%2Fedoardo%2FDesktop%2Fbacktrader%2Fconnect%20to%20ib.ipynb%22%2C%22scheme%22%3A%22vscode-notebook-cell%22%2C%22fragment%22%3A%22W1sZmlsZQ%3D%3D%22%7D%2C%7B%22line%22%3A8%2C%22character%22%3A8%7D%5D \"/home/edoardo/Desktop/backtrader/connect to ib.ipynb\") list. Each element in the [`ohlcv`](command:_github.copilot.openSymbolFromReferences?%5B%7B%22%24mid%22%3A1%2C%22fsPath%22%3A%22%2Fhome%2Fedoardo%2FDesktop%2Fbacktrader%2Fconnect%20to%20ib.ipynb%22%2C%22path%22%3A%22%2Fhome%2Fedoardo%2FDesktop%2Fbacktrader%2Fconnect%20to%20ib.ipynb%22%2C%22scheme%22%3A%22vscode-notebook-cell%22%2C%22fragment%22%3A%22W1sZmlsZQ%3D%3D%22%7D%2C%7B%22line%22%3A8%2C%22character%22%3A8%7D%5D \"/home/edoardo/Desktop/backtrader/connect to ib.ipynb\") list represents a piece of financial data (open, high, low, close, volume, and the current datetime). By using `\",\".join(ohlcv)`, these elements are concatenated into a single string, with each element separated by a comma. This format is commonly used for logging, storing, or transferring data because it is easily readable and can be readily imported into various data analysis tools or spreadsheets. The comma-separated values (CSV) format is a widely accepted standard for tabular data and facilitates easy parsing and manipulation of the data."
   ]
  }
 ],
 "metadata": {
  "kernelspec": {
   "display_name": ".venv",
   "language": "python",
   "name": "python3"
  },
  "language_info": {
   "codemirror_mode": {
    "name": "ipython",
    "version": 3
   },
   "file_extension": ".py",
   "mimetype": "text/x-python",
   "name": "python",
   "nbconvert_exporter": "python",
   "pygments_lexer": "ipython3",
   "version": "3.10.13"
  }
 },
 "nbformat": 4,
 "nbformat_minor": 2
}
