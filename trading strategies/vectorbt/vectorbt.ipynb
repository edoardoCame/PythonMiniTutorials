{
 "cells": [
  {
   "cell_type": "code",
   "execution_count": null,
   "metadata": {},
   "outputs": [],
   "source": [
    "import vectorbt as vbt\n",
    "\n",
    "btc_price = vbt.YFData.download('BTC-USD').get('Close') #download data from yfinance\n",
    "#print(btc_price.tail())\n",
    "\n",
    "rsi = vbt.RSI.run(btc_price, window=14) #calculate RSI\n",
    "print(rsi.rsi)"
   ]
  },
  {
   "cell_type": "code",
   "execution_count": null,
   "metadata": {},
   "outputs": [],
   "source": [
    "entries = rsi.rsi_crossed_below(30) #find entries\n",
    "exits = rsi.rsi_crossed_above(70) #find exits\n",
    "\n",
    "pf = vbt.Portfolio.from_signals(btc_price, entries, exits, init_cash=1000) #create portfolio\n",
    "print(pf.stats()) #print the statistics of the portfolio"
   ]
  },
  {
   "cell_type": "code",
   "execution_count": null,
   "metadata": {},
   "outputs": [],
   "source": [
    "pf.plot().show() #plot the portfolio"
   ]
  },
  {
   "cell_type": "markdown",
   "metadata": {},
   "source": [
    "### VECTOR BT Bollinger Bands"
   ]
  },
  {
   "cell_type": "code",
   "execution_count": null,
   "metadata": {},
   "outputs": [],
   "source": [
    "import vectorbt as vbt\n",
    "\n",
    "# Define the parameters for the Bollinger Bands\n",
    "window = 20\n",
    "stds = 2\n",
    "\n",
    "# Calculate the Bollinger Bands\n",
    "bb = vbt.talib(\"BBANDS\").run(btc_price, timeperiod=60,\n",
    "                           nbdevup=2.5, nbdevdn=2.5)\n",
    "\n",
    "# Generate entry and exit signals based on the Bollinger Bands\n",
    "entries = bb.close_crossed_above(bb.upper)\n",
    "exits = bb.close_crossed_below(bb.lower)\n",
    "\n",
    "# Create the portfolio using the entry and exit signals\n",
    "pf = vbt.Portfolio.from_signals(btc_price, entries, exits, init_cash=1000)\n",
    "\n",
    "# Print the statistics of the portfolio\n",
    "print(pf.stats())\n",
    "\n",
    "# Plot the portfolio\n",
    "pf.plot().show()"
   ]
  }
 ],
 "metadata": {
  "kernelspec": {
   "display_name": ".venv",
   "language": "python",
   "name": "python3"
  },
  "language_info": {
   "codemirror_mode": {
    "name": "ipython",
    "version": 3
   },
   "file_extension": ".py",
   "mimetype": "text/x-python",
   "name": "python",
   "nbconvert_exporter": "python",
   "pygments_lexer": "ipython3",
   "version": "3.10.14"
  }
 },
 "nbformat": 4,
 "nbformat_minor": 2
}
