{
 "cells": [
  {
   "cell_type": "markdown",
   "metadata": {},
   "source": [
    "# Csv joiner and cleaner"
   ]
  },
  {
   "cell_type": "markdown",
   "metadata": {},
   "source": [
    "### Join them individually"
   ]
  },
  {
   "cell_type": "code",
   "execution_count": null,
   "metadata": {},
   "outputs": [],
   "source": [
    "import cudf as cf\n",
    "\n",
    "eurgbp23 = cf.read_csv('/home/edoardocame/Desktop/python_dir/data/DAT_ASCII_EURGBP_M1_2023.csv',\n",
    "         sep=';', names=['date', 'open', 'high', 'low', 'close', 'volume'])\n",
    "\n",
    "eurgbp23['date'] = cf.to_datetime(eurgbp23['date'], format='%Y%m%d %H%M%S')\n",
    "eurgbp23.set_index('date', inplace=True)\n",
    "eurgbp23\n"
   ]
  },
  {
   "cell_type": "code",
   "execution_count": null,
   "metadata": {},
   "outputs": [],
   "source": [
    "import os\n",
    "\n",
    "eurgbp24 = cf.read_csv('/home/edoardocame/Desktop/python_dir/data/DAT_ASCII_EURGBP_M1_2024.csv',\n",
    "            sep=';', names=['date', 'open', 'high', 'low', 'close', 'volume'])\n",
    "\n",
    "eurgbp24['date'] = cf.to_datetime(eurgbp24['date'], format='%Y%m%d %H%M%S')\n",
    "eurgbp24.set_index('date', inplace=True)\n",
    "eurgbp24"
   ]
  },
  {
   "cell_type": "code",
   "execution_count": null,
   "metadata": {},
   "outputs": [],
   "source": [
    "#Concatenate the 2 dataframes\n",
    "eurgbp = cf.concat([eurgbp23, eurgbp24])\n",
    "eurgbp"
   ]
  },
  {
   "cell_type": "markdown",
   "metadata": {},
   "source": [
    "## Function that reads all CSVs and concatenates them"
   ]
  },
  {
   "cell_type": "code",
   "execution_count": 1,
   "metadata": {},
   "outputs": [],
   "source": [
    "import cudf as cf\n",
    "import os\n",
    "\n",
    "def load_and_concat_csvs(folder_path):\n",
    "    csv_files = [os.path.join(folder_path, f) for f in os.listdir(folder_path) if f.endswith('.csv')]\n",
    "    dfs = []\n",
    "    for file in csv_files:\n",
    "        df_temp = cf.read_csv(file, sep=';', names=['date', 'open', 'high', 'low', 'close', 'volume'])\n",
    "        df_temp['date'] = cf.to_datetime(df_temp['date'], format='%Y%m%d %H%M%S')\n",
    "        df_temp.set_index('date', inplace=True)\n",
    "        dfs.append(df_temp)\n",
    "    return cf.concat(dfs)\n",
    "\n",
    "# Example usage: concatenate all CSV files in the folder\n",
    "eurgbp = load_and_concat_csvs('/home/edoardocame/Desktop/python_dir/data/forexhistdata')"
   ]
  }
 ],
 "metadata": {
  "kernelspec": {
   "display_name": "rapids-23.12",
   "language": "python",
   "name": "python3"
  },
  "language_info": {
   "codemirror_mode": {
    "name": "ipython",
    "version": 3
   },
   "file_extension": ".py",
   "mimetype": "text/x-python",
   "name": "python",
   "nbconvert_exporter": "python",
   "pygments_lexer": "ipython3",
   "version": "3.10.16"
  }
 },
 "nbformat": 4,
 "nbformat_minor": 2
}
