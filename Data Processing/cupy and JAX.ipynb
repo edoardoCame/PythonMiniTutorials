{
 "cells": [
  {
   "cell_type": "markdown",
   "metadata": {},
   "source": [
    "speedtest with Cupy:"
   ]
  },
  {
   "cell_type": "code",
   "execution_count": 1,
   "metadata": {},
   "outputs": [
    {
     "name": "stdout",
     "output_type": "stream",
     "text": [
      "Time taken by numpy:  49.757171630859375\n",
      "Time taken by cupy:  1.2170302867889404\n"
     ]
    }
   ],
   "source": [
    "import time\n",
    "import cupy as cp\n",
    "import numpy as np\n",
    "\n",
    "# create a random numpy array of size 1000x1000\n",
    "a = np.random.rand(1000, 1000)\n",
    "\n",
    "# create a random cupy array of size 1000x1000\n",
    "b = cp.random.rand(1000, 1000)\n",
    "\n",
    "# start timer\n",
    "start = time.time()\n",
    "\n",
    "# perform some random operations on numpy array\n",
    "for i in range(1000):\n",
    "    a = np.dot(a, a)\n",
    "\n",
    "# print time taken\n",
    "print(\"Time taken by numpy: \", time.time() - start)\n",
    "\n",
    "# start timer\n",
    "start = time.time()\n",
    "\n",
    "# perform some random operations on cupy array\n",
    "for i in range(1000):\n",
    "    b = cp.dot(b, b)\n",
    "\n",
    "# print time taken\n",
    "print(\"Time taken by cupy: \", time.time() - start)"
   ]
  },
  {
   "cell_type": "markdown",
   "metadata": {},
   "source": []
  }
 ],
 "metadata": {
  "kernelspec": {
   "display_name": "Python 3",
   "language": "python",
   "name": "python3"
  },
  "language_info": {
   "codemirror_mode": {
    "name": "ipython",
    "version": 3
   },
   "file_extension": ".py",
   "mimetype": "text/x-python",
   "name": "python",
   "nbconvert_exporter": "python",
   "pygments_lexer": "ipython3",
   "version": "3.11.9"
  }
 },
 "nbformat": 4,
 "nbformat_minor": 2
}
