{
 "cells": [
  {
   "cell_type": "code",
   "execution_count": null,
   "metadata": {},
   "outputs": [],
   "source": [
    "import pandas as pd\n",
    "import numpy as np\n",
    "import matplotlib.pyplot as plt\n",
    "\n",
    "y = np.random.normal(0,1.5,1000).cumsum()\n",
    "\n",
    "plt.figure(figsize=(10,6))\n",
    "plt.plot(y)\n",
    "plt.title('Super Big Random Walk')\n",
    "plt.show()"
   ]
  },
  {
   "cell_type": "code",
   "execution_count": null,
   "metadata": {},
   "outputs": [],
   "source": [
    "#turn the series into a suitable sf dataframe\n",
    "series = pd.DataFrame({'y': y, 'unique_id': 0, 'ds': range(0, len(y))})\n",
    "series"
   ]
  },
  {
   "cell_type": "code",
   "execution_count": null,
   "metadata": {},
   "outputs": [],
   "source": [
    "from statsforecast.core import StatsForecast\n",
    "from statsforecast.models import ( \n",
    "    AutoARIMA,\n",
    "    AutoETS\n",
    ")\n",
    "\n",
    "\n",
    "sf = StatsForecast(\n",
    "    models=[AutoETS(season_length=7)],\n",
    "    freq=1\n",
    ")\n",
    "\n",
    "#sf.forecast(df=series, h=7).head() #to see if it works"
   ]
  },
  {
   "cell_type": "code",
   "execution_count": null,
   "metadata": {},
   "outputs": [],
   "source": [
    "import ray\n",
    "import logging\n",
    "\n",
    "ray.init(logging_level=logging.ERROR)\n",
    "\n",
    "series = series.reset_index()\n",
    "series['unique_id'] = series['unique_id'].astype(str)\n",
    "ctx = ray.data.context.DatasetContext.get_current()\n",
    "ctx.use_streaming_executor = False\n",
    "ray_series = ray.data.from_pandas(series).repartition(4)\n",
    "\n",
    "sf.forecast(df=ray_series, h=7).take(5)"
   ]
  }
 ],
 "metadata": {
  "kernelspec": {
   "display_name": "Python 3",
   "language": "python",
   "name": "python3"
  },
  "language_info": {
   "codemirror_mode": {
    "name": "ipython",
    "version": 3
   },
   "file_extension": ".py",
   "mimetype": "text/x-python",
   "name": "python",
   "nbconvert_exporter": "python",
   "pygments_lexer": "ipython3",
   "version": "3.10.14"
  }
 },
 "nbformat": 4,
 "nbformat_minor": 2
}
