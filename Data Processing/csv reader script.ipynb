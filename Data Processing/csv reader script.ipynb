{
 "cells": [
  {
   "cell_type": "code",
   "execution_count": 1,
   "metadata": {},
   "outputs": [
    {
     "name": "stdout",
     "output_type": "stream",
     "text": [
      "                      close\n",
      "timestamp                  \n",
      "2024-01-02 01:00:00  77.638\n",
      "2024-01-02 01:01:00  77.923\n",
      "2024-01-02 01:02:00  78.018\n",
      "2024-01-02 01:03:00  78.018\n",
      "2024-01-02 01:04:00  78.163\n"
     ]
    }
   ],
   "source": [
    "import pandas as pd\n",
    "import os\n",
    "\n",
    "\n",
    "#i want to read  all the files in the directory\n",
    "\n",
    "files_path = \"/workspaces/LOCALWork/CSV data\"\n",
    "files = os.listdir(files_path)\n",
    "csv_files = [os.path.join(files_path, file) for file in files] #this joins the path with the file name\n",
    "\n",
    "def ReadFile(x):\n",
    "    df = pd.read_csv(x, parse_dates=True, index_col=0)\n",
    "    df = df.loc[: , [\"close\"]]\n",
    "    return df\n",
    "\n",
    "\n",
    "# Use list comprehension to read all CSV files\n",
    "dataframes = [ReadFile(file) for file in csv_files]\n",
    "\n",
    "#print the first element from dataframes as an example\n",
    "print(dataframes[0].head())\n"
   ]
  },
  {
   "cell_type": "code",
   "execution_count": 4,
   "metadata": {},
   "outputs": [
    {
     "name": "stdout",
     "output_type": "stream",
     "text": [
      "                     brentcmdusd-m1-bid-2024-01-01-2024-09-09T16_28.csv  \\\n",
      "timestamp                                                                 \n",
      "2024-01-02 01:00:00                                             77.638    \n",
      "2024-01-02 01:01:00                                             77.923    \n",
      "2024-01-02 01:02:00                                             78.018    \n",
      "2024-01-02 01:03:00                                             78.018    \n",
      "2024-01-02 01:04:00                                             78.163    \n",
      "\n",
      "                     xauusd-m1-bid-2024-01-01-2024-09-09T16_33.csv  \\\n",
      "timestamp                                                            \n",
      "2024-01-02 01:00:00                                       2064.968   \n",
      "2024-01-02 01:01:00                                       2065.558   \n",
      "2024-01-02 01:02:00                                       2066.425   \n",
      "2024-01-02 01:03:00                                       2066.105   \n",
      "2024-01-02 01:04:00                                       2066.945   \n",
      "\n",
      "                     gascmdusd-m1-bid-2024-01-01-2024-09-09T16_30.csv  \\\n",
      "timestamp                                                               \n",
      "2024-01-02 01:00:00                                            2.6682   \n",
      "2024-01-02 01:01:00                                            2.6632   \n",
      "2024-01-02 01:02:00                                            2.6590   \n",
      "2024-01-02 01:03:00                                            2.6570   \n",
      "2024-01-02 01:04:00                                            2.6531   \n",
      "\n",
      "                     eurusd-m1-bid-2024-01-01-2024-09-09T16_31.csv  \n",
      "timestamp                                                           \n",
      "2024-01-02 01:00:00                                        1.10377  \n",
      "2024-01-02 01:01:00                                        1.10384  \n",
      "2024-01-02 01:02:00                                        1.10399  \n",
      "2024-01-02 01:03:00                                        1.10388  \n",
      "2024-01-02 01:04:00                                        1.10400  \n"
     ]
    }
   ],
   "source": [
    "\n",
    "# Merge all DataFrames into a single DataFrame based on the index\n",
    "merged_df = pd.concat(dataframes, axis=1)\n",
    "merged_df.columns = files #assign column names to the merged dataframe\n",
    "merged_df.dropna(inplace=True) #drop any rows with missing values\n",
    "\n",
    "# Print the first few rows of the merged DataFrame as an example\n",
    "print(merged_df.head())"
   ]
  }
 ],
 "metadata": {
  "kernelspec": {
   "display_name": "Python 3",
   "language": "python",
   "name": "python3"
  },
  "language_info": {
   "codemirror_mode": {
    "name": "ipython",
    "version": 3
   },
   "file_extension": ".py",
   "mimetype": "text/x-python",
   "name": "python",
   "nbconvert_exporter": "python",
   "pygments_lexer": "ipython3",
   "version": "3.12.1"
  }
 },
 "nbformat": 4,
 "nbformat_minor": 2
}
