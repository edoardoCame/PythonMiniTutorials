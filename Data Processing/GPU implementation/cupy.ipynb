{
 "cells": [
  {
   "cell_type": "markdown",
   "metadata": {},
   "source": [
    "speedtest with Cupy:"
   ]
  },
  {
   "cell_type": "code",
   "execution_count": 9,
   "metadata": {},
   "outputs": [
    {
     "name": "stdout",
     "output_type": "stream",
     "text": [
      "Time taken by numpy:  24.10145115852356\n",
      "Time taken by cupy:  1.1262729167938232\n"
     ]
    }
   ],
   "source": [
    "import time\n",
    "import cupy as cp\n",
    "import numpy as np\n",
    "\n",
    "# create a random numpy array of size 1000x1000\n",
    "a = np.random.rand(1000, 1000)\n",
    "\n",
    "# create a random cupy array of size 1000x1000\n",
    "b = cp.random.rand(1000, 1000)\n",
    "\n",
    "# start timer\n",
    "start = time.time()\n",
    "\n",
    "# perform some random operations on numpy array\n",
    "for i in range(1000):\n",
    "    a = np.dot(a, a)\n",
    "\n",
    "# print time taken\n",
    "print(\"Time taken by numpy: \", time.time() - start)\n",
    "\n",
    "# start timer\n",
    "start = time.time()\n",
    "\n",
    "# perform some random operations on cupy array\n",
    "for i in range(1000):\n",
    "    b = cp.dot(b, b)\n",
    "\n",
    "# print time taken\n",
    "print(\"Time taken by cupy: \", time.time() - start)"
   ]
  },
  {
   "cell_type": "code",
   "execution_count": 10,
   "metadata": {},
   "outputs": [
    {
     "name": "stdout",
     "output_type": "stream",
     "text": [
      "NumPy time: 1.0383379459381104 seconds\n",
      "CuPy time: 0.0010004043579101562 seconds\n"
     ]
    }
   ],
   "source": [
    "import numpy as np\n",
    "import cupy as cp\n",
    "import time\n",
    "\n",
    "# Initialize array size\n",
    "size = 1000000000\n",
    "\n",
    "# Create NumPy array\n",
    "np_arr = np.arange(size)\n",
    "\n",
    "# Create CuPy array\n",
    "cp_arr = cp.arange(size)\n",
    "\n",
    "# Measure time for NumPy vectorized operation\n",
    "start_time = time.time()\n",
    "np_result = np_arr * 2\n",
    "np_time = time.time() - start_time\n",
    "\n",
    "# Measure time for CuPy vectorized operation\n",
    "start_time = time.time()\n",
    "cp_result = cp_arr * 2\n",
    "cp_time = time.time() - start_time\n",
    "\n",
    "# Print the results\n",
    "print(f\"NumPy time: {np_time} seconds\")\n",
    "print(f\"CuPy time: {cp_time} seconds\")"
   ]
  },
  {
   "cell_type": "code",
   "execution_count": 13,
   "metadata": {},
   "outputs": [
    {
     "name": "stdout",
     "output_type": "stream",
     "text": [
      "NumPy time: 1.7579710483551025 seconds, Pi estimate: 3.14151864\n",
      "CuPy time: 0.7178666591644287 seconds, Pi estimate: 3.14149968\n"
     ]
    }
   ],
   "source": [
    "import numpy as np\n",
    "import cupy as cp\n",
    "import time\n",
    "\n",
    "# Number of points for the Monte Carlo simulation\n",
    "num_points = 100000000\n",
    "chunk_size = 10000000  # Define a chunk size to avoid memory issues\n",
    "\n",
    "# Monte Carlo simulation using NumPy\n",
    "start_time = time.time()\n",
    "x_np = np.random.rand(num_points)\n",
    "y_np = np.random.rand(num_points)\n",
    "inside_circle_np = np.sum(x_np**2 + y_np**2 <= 1.0)\n",
    "pi_estimate_np = (4.0 * inside_circle_np) / num_points\n",
    "np_time = time.time() - start_time\n",
    "\n",
    "# Monte Carlo simulation using CuPy in chunks\n",
    "inside_circle_cp = 0\n",
    "start_time = time.time()\n",
    "for _ in range(num_points // chunk_size):\n",
    "\tx_cp = cp.random.rand(chunk_size)\n",
    "\ty_cp = cp.random.rand(chunk_size)\n",
    "\tinside_circle_cp += cp.sum(x_cp**2 + y_cp**2 <= 1.0)\n",
    "pi_estimate_cp = (4.0 * inside_circle_cp) / num_points\n",
    "cp_time = time.time() - start_time\n",
    "\n",
    "# Print the results\n",
    "print(f\"NumPy time: {np_time} seconds, Pi estimate: {pi_estimate_np}\")\n",
    "print(f\"CuPy time: {cp_time} seconds, Pi estimate: {pi_estimate_cp}\")"
   ]
  },
  {
   "cell_type": "code",
   "execution_count": 7,
   "metadata": {},
   "outputs": [
    {
     "name": "stdout",
     "output_type": "stream",
     "text": [
      "NumPy time: 0.067225 seconds\n",
      "CuPy time: 0.001001 seconds\n"
     ]
    }
   ],
   "source": [
    "import numpy as np\n",
    "import cupy as cp\n",
    "import time\n",
    "\n",
    "# Generate a smaller array of random returns\n",
    "size = 10**7  # Reduced size to avoid memory issues\n",
    "returns_np = np.random.randn(size) / 100  # Random returns between -0.01 and 0.01\n",
    "returns_cp = cp.array(returns_np)\n",
    "\n",
    "# Measure time for NumPy\n",
    "start_time = time.time()\n",
    "cumulative_returns_np = np.cumprod(1 + returns_np) - 1\n",
    "numpy_time = time.time() - start_time\n",
    "\n",
    "# Measure time for CuPy\n",
    "start_time = time.time()\n",
    "cumulative_returns_cp = cp.cumprod(1 + returns_cp) - 1\n",
    "cupy_time = time.time() - start_time\n",
    "\n",
    "# Print results\n",
    "print(f\"NumPy time: {numpy_time:.6f} seconds\")\n",
    "print(f\"CuPy time: {cupy_time:.6f} seconds\")"
   ]
  }
 ],
 "metadata": {
  "kernelspec": {
   "display_name": "Python 3",
   "language": "python",
   "name": "python3"
  },
  "language_info": {
   "codemirror_mode": {
    "name": "ipython",
    "version": 3
   },
   "file_extension": ".py",
   "mimetype": "text/x-python",
   "name": "python",
   "nbconvert_exporter": "python",
   "pygments_lexer": "ipython3",
   "version": "3.11.9"
  }
 },
 "nbformat": 4,
 "nbformat_minor": 2
}
