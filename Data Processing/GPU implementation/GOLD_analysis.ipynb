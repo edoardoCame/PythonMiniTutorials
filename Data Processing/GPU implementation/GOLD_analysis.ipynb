{
 "cells": [
  {
   "cell_type": "markdown",
   "metadata": {},
   "source": [
    "## Gold analysis\n",
    "Se il massimo di mercoledi, e' inferiore a quello di lunedi, vedrai il minimo di mercoledi rivisitato giovedi (rivisitato=giovedi il prezzo crossa dall'alto o dal basso il minimo di mercoledi)\n",
    "\n",
    "### Step da fare:\n",
    "- Calcolare dei massimi e minimi giornalieri\n",
    "    - bisogna fare resampling dei dati (in modo da ottenere candele da 1 giorno)\n",
    "- Categorizzare ogni giorno della settimana (bisogna creare una colonna che dice che giorno e')\n",
    "- Controllare se il max di mercoledi e' inferiore a quello di lunedi'\n",
    "    - salva il minimo di mercoledi'\n",
    "    - controlla se il range di giovedi include il minimo di mercoledi'."
   ]
  },
  {
   "cell_type": "markdown",
   "metadata": {},
   "source": [
    "### Reading the CSV file and converting it to a parquet one: (if needed)"
   ]
  },
  {
   "cell_type": "code",
   "execution_count": 1,
   "metadata": {},
   "outputs": [],
   "source": [
    "# #import the libraries\n",
    "# import cudf\n",
    "# import dask\n",
    "# import dask.dataframe as dd\n",
    "# #set the enviroment to cuDF so we use the GPU\n",
    "# dask.config.set({\"dataframe.backend\": \"cudf\"})\n",
    "# #----------------------------------------------\n",
    "\n",
    "# xau1D = dd.read_csv('/home/edoardocame/Desktop/python_dir/xauusd-d1-bid-2014-01-01-2024-12-11T23.csv')\n",
    "# xau1D['timestamp'] = dd.to_datetime(xau1D['timestamp'])\n",
    "# xau1D = xau1D.set_index('timestamp', sorted=True)\n",
    "# xau1D['weekday'] = xau1D.index.to_series().dt.weekday\n",
    "# xau1D.head()"
   ]
  },
  {
   "cell_type": "markdown",
   "metadata": {},
   "source": [
    "### Using parquet file:"
   ]
  },
  {
   "cell_type": "code",
   "execution_count": 1,
   "metadata": {},
   "outputs": [
    {
     "data": {
      "text/html": [
       "<div>\n",
       "<style scoped>\n",
       "    .dataframe tbody tr th:only-of-type {\n",
       "        vertical-align: middle;\n",
       "    }\n",
       "\n",
       "    .dataframe tbody tr th {\n",
       "        vertical-align: top;\n",
       "    }\n",
       "\n",
       "    .dataframe thead th {\n",
       "        text-align: right;\n",
       "    }\n",
       "</style>\n",
       "<table border=\"1\" class=\"dataframe\">\n",
       "  <thead>\n",
       "    <tr style=\"text-align: right;\">\n",
       "      <th></th>\n",
       "      <th>open</th>\n",
       "      <th>high</th>\n",
       "      <th>low</th>\n",
       "      <th>close</th>\n",
       "      <th>volume</th>\n",
       "      <th>weekday</th>\n",
       "      <th>returns</th>\n",
       "      <th>week</th>\n",
       "      <th>year</th>\n",
       "    </tr>\n",
       "    <tr>\n",
       "      <th>timestamp</th>\n",
       "      <th></th>\n",
       "      <th></th>\n",
       "      <th></th>\n",
       "      <th></th>\n",
       "      <th></th>\n",
       "      <th></th>\n",
       "      <th></th>\n",
       "      <th></th>\n",
       "      <th></th>\n",
       "    </tr>\n",
       "  </thead>\n",
       "  <tbody>\n",
       "    <tr>\n",
       "      <th>2014-01-01</th>\n",
       "      <td>1203.612</td>\n",
       "      <td>1205.883</td>\n",
       "      <td>1202.302</td>\n",
       "      <td>1205.883</td>\n",
       "      <td>0.2705</td>\n",
       "      <td>2</td>\n",
       "      <td>&lt;NA&gt;</td>\n",
       "      <td>1</td>\n",
       "      <td>2014</td>\n",
       "    </tr>\n",
       "    <tr>\n",
       "      <th>2014-01-02</th>\n",
       "      <td>1205.913</td>\n",
       "      <td>1230.773</td>\n",
       "      <td>1204.893</td>\n",
       "      <td>1223.710</td>\n",
       "      <td>27.3592</td>\n",
       "      <td>3</td>\n",
       "      <td>0.014783358</td>\n",
       "      <td>1</td>\n",
       "      <td>2014</td>\n",
       "    </tr>\n",
       "    <tr>\n",
       "      <th>2014-01-03</th>\n",
       "      <td>1223.687</td>\n",
       "      <td>1240.153</td>\n",
       "      <td>1223.297</td>\n",
       "      <td>1236.683</td>\n",
       "      <td>26.3572</td>\n",
       "      <td>4</td>\n",
       "      <td>0.010601368</td>\n",
       "      <td>1</td>\n",
       "      <td>2014</td>\n",
       "    </tr>\n",
       "    <tr>\n",
       "      <th>2014-01-05</th>\n",
       "      <td>1236.983</td>\n",
       "      <td>1238.353</td>\n",
       "      <td>1233.842</td>\n",
       "      <td>1234.042</td>\n",
       "      <td>0.3280</td>\n",
       "      <td>6</td>\n",
       "      <td>-0.002135551</td>\n",
       "      <td>1</td>\n",
       "      <td>2014</td>\n",
       "    </tr>\n",
       "    <tr>\n",
       "      <th>2014-01-06</th>\n",
       "      <td>1234.042</td>\n",
       "      <td>1248.342</td>\n",
       "      <td>1214.626</td>\n",
       "      <td>1237.665</td>\n",
       "      <td>26.1419</td>\n",
       "      <td>0</td>\n",
       "      <td>0.002935881</td>\n",
       "      <td>2</td>\n",
       "      <td>2014</td>\n",
       "    </tr>\n",
       "  </tbody>\n",
       "</table>\n",
       "</div>"
      ],
      "text/plain": [
       "                open      high       low     close   volume  weekday  \\\n",
       "timestamp                                                              \n",
       "2014-01-01  1203.612  1205.883  1202.302  1205.883   0.2705        2   \n",
       "2014-01-02  1205.913  1230.773  1204.893  1223.710  27.3592        3   \n",
       "2014-01-03  1223.687  1240.153  1223.297  1236.683  26.3572        4   \n",
       "2014-01-05  1236.983  1238.353  1233.842  1234.042   0.3280        6   \n",
       "2014-01-06  1234.042  1248.342  1214.626  1237.665  26.1419        0   \n",
       "\n",
       "                 returns  week  year  \n",
       "timestamp                             \n",
       "2014-01-01          <NA>     1  2014  \n",
       "2014-01-02   0.014783358     1  2014  \n",
       "2014-01-03   0.010601368     1  2014  \n",
       "2014-01-05  -0.002135551     1  2014  \n",
       "2014-01-06   0.002935881     2  2014  "
      ]
     },
     "execution_count": 1,
     "metadata": {},
     "output_type": "execute_result"
    }
   ],
   "source": [
    "#import the libraries\n",
    "import dask\n",
    "import dask.dataframe as dd\n",
    "from dask_cuda import LocalCUDACluster\n",
    "from dask.distributed import Client\n",
    "cluster = LocalCUDACluster()\n",
    "client = Client(cluster)\n",
    "client\n",
    "#----------------------------------------------\n",
    "dask.config.set({\"dataframe.backend\": \"cudf\"})\n",
    "\n",
    "\n",
    "df = dd.read_parquet('/home/edoardocame/Desktop/python_dir/xauusd1D.parquet')\n",
    "df['returns'] = df['close'].diff() / df['close'].shift(1)\n",
    "df['week'] = df.index.dt.isocalendar().week\n",
    "df['year'] = df.index.dt.isocalendar().year\n",
    "df.head()"
   ]
  },
  {
   "cell_type": "code",
   "execution_count": 2,
   "metadata": {},
   "outputs": [
    {
     "name": "stderr",
     "output_type": "stream",
     "text": [
      "/home/edoardocame/miniconda3/envs/rapids-23.12/lib/python3.10/site-packages/dask/dataframe/multi.py:1297: UserWarning: Concatenating dataframes with unknown divisions.\n",
      "We're assuming that the indices of each dataframes are \n",
      " aligned. This assumption is not generally safe.\n",
      "  warnings.warn(\n"
     ]
    },
    {
     "data": {
      "text/html": [
       "<div>\n",
       "<style scoped>\n",
       "    .dataframe tbody tr th:only-of-type {\n",
       "        vertical-align: middle;\n",
       "    }\n",
       "\n",
       "    .dataframe tbody tr th {\n",
       "        vertical-align: top;\n",
       "    }\n",
       "\n",
       "    .dataframe thead th {\n",
       "        text-align: right;\n",
       "    }\n",
       "</style>\n",
       "<table border=\"1\" class=\"dataframe\">\n",
       "  <thead>\n",
       "    <tr style=\"text-align: right;\">\n",
       "      <th></th>\n",
       "      <th></th>\n",
       "      <th>mon_high</th>\n",
       "      <th>wed_high</th>\n",
       "      <th>wed_low</th>\n",
       "      <th>high</th>\n",
       "      <th>low</th>\n",
       "    </tr>\n",
       "    <tr>\n",
       "      <th>year</th>\n",
       "      <th>week</th>\n",
       "      <th></th>\n",
       "      <th></th>\n",
       "      <th></th>\n",
       "      <th></th>\n",
       "      <th></th>\n",
       "    </tr>\n",
       "  </thead>\n",
       "  <tbody>\n",
       "    <tr>\n",
       "      <th rowspan=\"5\" valign=\"top\">2014</th>\n",
       "      <th>1</th>\n",
       "      <td>&lt;NA&gt;</td>\n",
       "      <td>1205.883</td>\n",
       "      <td>1202.302</td>\n",
       "      <td>1230.773</td>\n",
       "      <td>1204.893</td>\n",
       "    </tr>\n",
       "    <tr>\n",
       "      <th>2</th>\n",
       "      <td>1248.342</td>\n",
       "      <td>1231.888</td>\n",
       "      <td>1218.423</td>\n",
       "      <td>1231.463</td>\n",
       "      <td>1223.475</td>\n",
       "    </tr>\n",
       "    <tr>\n",
       "      <th>3</th>\n",
       "      <td>1255.042</td>\n",
       "      <td>1244.012</td>\n",
       "      <td>1234.242</td>\n",
       "      <td>1245.198</td>\n",
       "      <td>1236.328</td>\n",
       "    </tr>\n",
       "    <tr>\n",
       "      <th>4</th>\n",
       "      <td>1258.205</td>\n",
       "      <td>1243.557</td>\n",
       "      <td>1235.542</td>\n",
       "      <td>1265.433</td>\n",
       "      <td>1231.523</td>\n",
       "    </tr>\n",
       "    <tr>\n",
       "      <th>5</th>\n",
       "      <td>1276.438</td>\n",
       "      <td>1270.142</td>\n",
       "      <td>1250.883</td>\n",
       "      <td>1267.677</td>\n",
       "      <td>1238.043</td>\n",
       "    </tr>\n",
       "  </tbody>\n",
       "</table>\n",
       "</div>"
      ],
      "text/plain": [
       "           mon_high  wed_high   wed_low      high       low\n",
       "year week                                                  \n",
       "2014 1         <NA>  1205.883  1202.302  1230.773  1204.893\n",
       "     2     1248.342  1231.888  1218.423  1231.463  1223.475\n",
       "     3     1255.042  1244.012  1234.242  1245.198  1236.328\n",
       "     4     1258.205  1243.557  1235.542  1265.433  1231.523\n",
       "     5     1276.438  1270.142  1250.883  1267.677  1238.043"
      ]
     },
     "execution_count": 2,
     "metadata": {},
     "output_type": "execute_result"
    }
   ],
   "source": [
    "# Create separate dataframes for each day we need\n",
    "# Group by year and week, then get the first occurrence (should be only one per day anyway)\n",
    "monday_data = df[df['weekday'] == 0].groupby(['year', 'week'])['high'].first()\n",
    "wednesday_data = df[df['weekday'] == 2].groupby(['year', 'week'])[['high','low']].first()\n",
    "thursday_data = df[df['weekday'] == 3].groupby(['year', 'week'])[['high','low']].first()\n",
    "\n",
    "weekly_analysis = dd.concat([monday_data.rename('mon_high'), wednesday_data.rename(columns={'high':'wed_high', 'low':'wed_low'}), thursday_data], axis=1)\n",
    "weekly_analysis.head()"
   ]
  },
  {
   "cell_type": "code",
   "execution_count": 3,
   "metadata": {},
   "outputs": [
    {
     "data": {
      "text/html": [
       "<div>\n",
       "<style scoped>\n",
       "    .dataframe tbody tr th:only-of-type {\n",
       "        vertical-align: middle;\n",
       "    }\n",
       "\n",
       "    .dataframe tbody tr th {\n",
       "        vertical-align: top;\n",
       "    }\n",
       "\n",
       "    .dataframe thead th {\n",
       "        text-align: right;\n",
       "    }\n",
       "</style>\n",
       "<table border=\"1\" class=\"dataframe\">\n",
       "  <thead>\n",
       "    <tr style=\"text-align: right;\">\n",
       "      <th></th>\n",
       "      <th></th>\n",
       "      <th>mon_high</th>\n",
       "      <th>wed_high</th>\n",
       "      <th>wed_low</th>\n",
       "      <th>high</th>\n",
       "      <th>low</th>\n",
       "      <th>wed_lower_than_mon</th>\n",
       "      <th>thurs_crosses_wed</th>\n",
       "    </tr>\n",
       "    <tr>\n",
       "      <th>year</th>\n",
       "      <th>week</th>\n",
       "      <th></th>\n",
       "      <th></th>\n",
       "      <th></th>\n",
       "      <th></th>\n",
       "      <th></th>\n",
       "      <th></th>\n",
       "      <th></th>\n",
       "    </tr>\n",
       "  </thead>\n",
       "  <tbody>\n",
       "    <tr>\n",
       "      <th rowspan=\"5\" valign=\"top\">2014</th>\n",
       "      <th>1</th>\n",
       "      <td>&lt;NA&gt;</td>\n",
       "      <td>1205.883</td>\n",
       "      <td>1202.302</td>\n",
       "      <td>1230.773</td>\n",
       "      <td>1204.893</td>\n",
       "      <td>&lt;NA&gt;</td>\n",
       "      <td>&lt;NA&gt;</td>\n",
       "    </tr>\n",
       "    <tr>\n",
       "      <th>2</th>\n",
       "      <td>1248.342</td>\n",
       "      <td>1231.888</td>\n",
       "      <td>1218.423</td>\n",
       "      <td>1231.463</td>\n",
       "      <td>1223.475</td>\n",
       "      <td>True</td>\n",
       "      <td>False</td>\n",
       "    </tr>\n",
       "    <tr>\n",
       "      <th>3</th>\n",
       "      <td>1255.042</td>\n",
       "      <td>1244.012</td>\n",
       "      <td>1234.242</td>\n",
       "      <td>1245.198</td>\n",
       "      <td>1236.328</td>\n",
       "      <td>True</td>\n",
       "      <td>False</td>\n",
       "    </tr>\n",
       "    <tr>\n",
       "      <th>4</th>\n",
       "      <td>1258.205</td>\n",
       "      <td>1243.557</td>\n",
       "      <td>1235.542</td>\n",
       "      <td>1265.433</td>\n",
       "      <td>1231.523</td>\n",
       "      <td>True</td>\n",
       "      <td>True</td>\n",
       "    </tr>\n",
       "    <tr>\n",
       "      <th>5</th>\n",
       "      <td>1276.438</td>\n",
       "      <td>1270.142</td>\n",
       "      <td>1250.883</td>\n",
       "      <td>1267.677</td>\n",
       "      <td>1238.043</td>\n",
       "      <td>True</td>\n",
       "      <td>True</td>\n",
       "    </tr>\n",
       "  </tbody>\n",
       "</table>\n",
       "</div>"
      ],
      "text/plain": [
       "           mon_high  wed_high   wed_low      high       low  \\\n",
       "year week                                                     \n",
       "2014 1         <NA>  1205.883  1202.302  1230.773  1204.893   \n",
       "     2     1248.342  1231.888  1218.423  1231.463  1223.475   \n",
       "     3     1255.042  1244.012  1234.242  1245.198  1236.328   \n",
       "     4     1258.205  1243.557  1235.542  1265.433  1231.523   \n",
       "     5     1276.438  1270.142  1250.883  1267.677  1238.043   \n",
       "\n",
       "          wed_lower_than_mon thurs_crosses_wed  \n",
       "year week                                       \n",
       "2014 1                  <NA>              <NA>  \n",
       "     2                  True             False  \n",
       "     3                  True             False  \n",
       "     4                  True              True  \n",
       "     5                  True              True  "
      ]
     },
     "execution_count": 3,
     "metadata": {},
     "output_type": "execute_result"
    }
   ],
   "source": [
    "weekly_analysis['wed_lower_than_mon'] = weekly_analysis['wed_high'] < weekly_analysis['mon_high']\n",
    "\n",
    "weekly_analysis['thurs_crosses_wed'] = (\n",
    "    (weekly_analysis['wed_lower_than_mon']) & \n",
    "    (weekly_analysis['low'] <= weekly_analysis['wed_low']) & \n",
    "    (weekly_analysis['high'] >= weekly_analysis['wed_low'])\n",
    ")\n",
    "\n",
    "weekly_analysis.head()"
   ]
  },
  {
   "cell_type": "code",
   "execution_count": 5,
   "metadata": {},
   "outputs": [
    {
     "name": "stdout",
     "output_type": "stream",
     "text": [
      "Su un totale di 572 settimane, 153 si e' verificato l'evento\n"
     ]
    }
   ],
   "source": [
    "eventi = weekly_analysis['thurs_crosses_wed'].sum().compute()\n",
    "osservazioni = len(weekly_analysis['thurs_crosses_wed'])\n",
    "print(f\"Su un totale di {osservazioni} settimane, {eventi} si e' verificato l'evento\")"
   ]
  },
  {
   "cell_type": "code",
   "execution_count": 6,
   "metadata": {},
   "outputs": [],
   "source": [
    "client.shutdown()"
   ]
  },
  {
   "cell_type": "markdown",
   "metadata": {},
   "source": [
    "# In depth code explanation:"
   ]
  },
  {
   "cell_type": "markdown",
   "metadata": {},
   "source": [
    "\n",
    "1. **Initial Setup and Data Loading**\n"
   ]
  },
  {
   "cell_type": "code",
   "execution_count": null,
   "metadata": {},
   "outputs": [],
   "source": [
    "import dask\n",
    "import dask.dataframe as dd\n",
    "from dask_cuda import LocalCUDACluster\n",
    "from dask.distributed import Client\n",
    "\n",
    "# Sets up a local CUDA cluster for GPU computations\n",
    "cluster = LocalCUDACluster()\n",
    "client = Client(cluster)\n",
    "dask.config.set({\"dataframe.backend\": \"cudf\"})"
   ]
  },
  {
   "cell_type": "markdown",
   "metadata": {},
   "source": [
    "This section initializes a GPU-accelerated environment using CUDA. Dask is used for parallel computing, and cuDF (GPU DataFrame) is set as the backend.\n",
    "\n",
    "2. **Data Preparation**\n"
   ]
  },
  {
   "cell_type": "code",
   "execution_count": null,
   "metadata": {},
   "outputs": [],
   "source": [
    "df = dd.read_parquet('/home/edoardocame/Desktop/python_dir/xauusd1D.parquet')\n",
    "df['returns'] = df['close'].diff() / df['close'].shift(1)  # Calculate daily returns\n",
    "df['week'] = df.index.dt.isocalendar().week    # Extract week number\n",
    "df['year'] = df.index.dt.isocalendar().year    # Extract year"
   ]
  },
  {
   "cell_type": "markdown",
   "metadata": {},
   "source": [
    "The code reads a Parquet file containing gold price data and adds three new columns:\n",
    "- `returns`: Daily price returns (percentage change)\n",
    "- `week`: Week number of the year\n",
    "- `year`: Year\n",
    "\n",
    "3. **GroupBy Logic (The Core Analysis)**\n"
   ]
  },
  {
   "cell_type": "code",
   "execution_count": null,
   "metadata": {},
   "outputs": [],
   "source": [
    "# Create separate dataframes for each day\n",
    "monday_data = df[df['weekday'] == 0].groupby(['year', 'week'])['high'].first()\n",
    "wednesday_data = df[df['weekday'] == 2].groupby(['year', 'week'])[['high','low']].first()\n",
    "thursday_data = df[df['weekday'] == 3].groupby(['year', 'week'])[['high','low']].first()"
   ]
  },
  {
   "cell_type": "markdown",
   "metadata": {},
   "source": [
    "\n",
    "\n",
    "Let's break down this groupby logic in detail:\n",
    "\n",
    "a) **First Filter**: `df[df['weekday'] == X]`\n",
    "   - Filters rows for specific days (0=Monday, 2=Wednesday, 3=Thursday)\n",
    "   - Creates subsets containing only data for those specific days\n",
    "\n",
    "b) **GroupBy Operation**: `.groupby(['year', 'week'])`\n",
    "   - Groups the filtered data by both year and week\n",
    "   - Creates nested groups where each group represents a specific week in a specific year\n",
    "   - Example structure:\n",
    "     ```\n",
    "     2014, Week 1 → [Monday data for this week]\n",
    "     2014, Week 2 → [Monday data for this week]\n",
    "     2015, Week 1 → [Monday data for this week]\n",
    "     ```\n",
    "\n",
    "c) **Aggregation**: `.first()`\n",
    "   - Takes the first record from each group\n",
    "   - Since we filtered by specific days, this gives us the values for that specific day in each week\n",
    "\n",
    "4. **Data Combination and Analysis**\n"
   ]
  },
  {
   "cell_type": "code",
   "execution_count": null,
   "metadata": {},
   "outputs": [],
   "source": [
    "weekly_analysis = dd.concat([\n",
    "    monday_data.rename('mon_high'), \n",
    "    wednesday_data.rename(columns={'high':'wed_high', 'low':'wed_low'}), \n",
    "    thursday_data\n",
    "], axis=1)"
   ]
  },
  {
   "cell_type": "markdown",
   "metadata": {},
   "source": [
    "This combines the grouped data into a single DataFrame where each row represents a week, containing:\n",
    "- Monday's high\n",
    "- Wednesday's high and low\n",
    "- Thursday's high and low\n",
    "\n",
    "5. **Pattern Analysis**\n"
   ]
  },
  {
   "cell_type": "code",
   "execution_count": null,
   "metadata": {},
   "outputs": [],
   "source": [
    "weekly_analysis['wed_lower_than_mon'] = weekly_analysis['wed_high'] < weekly_analysis['mon_high']\n",
    "\n",
    "weekly_analysis['thurs_crosses_wed'] = (\n",
    "    (weekly_analysis['wed_lower_than_mon']) & \n",
    "    (weekly_analysis['low'] <= weekly_analysis['wed_low']) & \n",
    "    (weekly_analysis['high'] >= weekly_analysis['wed_low'])\n",
    ")"
   ]
  },
  {
   "cell_type": "markdown",
   "metadata": {},
   "source": [
    "This creates two boolean columns:\n",
    "- `wed_lower_than_mon`: True if Wednesday's high is lower than Monday's high\n",
    "- `thurs_crosses_wed`: True if Thursday's price range crosses Wednesday's low (indicating a pattern confirmation)\n",
    "\n",
    "6. **Results Analysis**\n"
   ]
  },
  {
   "cell_type": "code",
   "execution_count": null,
   "metadata": {},
   "outputs": [],
   "source": [
    "eventi = weekly_analysis['thurs_crosses_wed'].sum().compute()\n",
    "osservazioni = len(weekly_analysis['thurs_crosses_wed'])"
   ]
  },
  {
   "cell_type": "markdown",
   "metadata": {},
   "source": [
    "Finally, it counts how many times the pattern occurred (`eventi`) out of the total number of weeks observed (`osservazioni`).\n",
    "\n",
    "The GroupBy operation is particularly powerful here because it:\n",
    "1. Organizes data into meaningful weekly segments\n",
    "2. Maintains the year-week relationship\n",
    "3. Allows easy extraction of specific day's values within each week\n",
    "4. Enables efficient pattern matching across different days of the week\n",
    "5. Handles missing data automatically (weeks without trading days)\n",
    "\n",
    "The code effectively identifies a specific trading pattern where Wednesday's high is lower than Monday's high, and Thursday's price range crosses Wednesday's low, which could potentially be used for trading strategies."
   ]
  }
 ],
 "metadata": {
  "kernelspec": {
   "display_name": "rapids-23.12",
   "language": "python",
   "name": "python3"
  },
  "language_info": {
   "codemirror_mode": {
    "name": "ipython",
    "version": 3
   },
   "file_extension": ".py",
   "mimetype": "text/x-python",
   "name": "python",
   "nbconvert_exporter": "python",
   "pygments_lexer": "ipython3",
   "version": "3.10.14"
  }
 },
 "nbformat": 4,
 "nbformat_minor": 2
}
