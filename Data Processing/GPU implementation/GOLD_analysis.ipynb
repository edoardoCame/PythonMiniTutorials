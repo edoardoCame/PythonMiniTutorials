{
 "cells": [
  {
   "cell_type": "markdown",
   "metadata": {},
   "source": [
    "## Gold analysis\n",
    "Se il massimo di mercoledi, e' inferiore a quello di lunedi, vedrai il minimo di mercoledi rivisitato giovedi (rivisitato=giovedi il prezzo crossa dall'alto o dal basso il minimo di mercoledi)\n",
    "\n",
    "### Step da fare:\n",
    "- Calcolare dei massimi e minimi giornalieri\n",
    "    - bisogna fare resampling dei dati (in modo da ottenere candele da 1 giorno)\n",
    "- Categorizzare ogni giorno della settimana (bisogna creare una colonna che dice che giorno e')\n",
    "- Controllare se il max di mercoledi e' inferiore a quello di lunedi'\n",
    "    -salva il minimo di mercoledi'\n",
    "        -controlla se giovedi' le close da 30min crossano verso l'alto o il basso il minimo di mercoledi'"
   ]
  },
  {
   "cell_type": "code",
   "execution_count": 1,
   "metadata": {},
   "outputs": [
    {
     "data": {
      "text/html": [
       "<div>\n",
       "<style scoped>\n",
       "    .dataframe tbody tr th:only-of-type {\n",
       "        vertical-align: middle;\n",
       "    }\n",
       "\n",
       "    .dataframe tbody tr th {\n",
       "        vertical-align: top;\n",
       "    }\n",
       "\n",
       "    .dataframe thead th {\n",
       "        text-align: right;\n",
       "    }\n",
       "</style>\n",
       "<table border=\"1\" class=\"dataframe\">\n",
       "  <thead>\n",
       "    <tr style=\"text-align: right;\">\n",
       "      <th></th>\n",
       "      <th>timestamp</th>\n",
       "      <th>open</th>\n",
       "      <th>high</th>\n",
       "      <th>low</th>\n",
       "      <th>close</th>\n",
       "      <th>volume</th>\n",
       "    </tr>\n",
       "  </thead>\n",
       "  <tbody>\n",
       "    <tr>\n",
       "      <th>0</th>\n",
       "      <td>2014-01-01 23:00:00</td>\n",
       "      <td>1203.612</td>\n",
       "      <td>1205.542</td>\n",
       "      <td>1202.302</td>\n",
       "      <td>1205.458</td>\n",
       "      <td>0.2042</td>\n",
       "    </tr>\n",
       "    <tr>\n",
       "      <th>1</th>\n",
       "      <td>2014-01-01 23:30:00</td>\n",
       "      <td>1205.489</td>\n",
       "      <td>1205.883</td>\n",
       "      <td>1205.209</td>\n",
       "      <td>1205.883</td>\n",
       "      <td>0.0663</td>\n",
       "    </tr>\n",
       "    <tr>\n",
       "      <th>2</th>\n",
       "      <td>2014-01-02 00:00:00</td>\n",
       "      <td>1205.913</td>\n",
       "      <td>1205.913</td>\n",
       "      <td>1204.893</td>\n",
       "      <td>1205.163</td>\n",
       "      <td>0.1094</td>\n",
       "    </tr>\n",
       "    <tr>\n",
       "      <th>3</th>\n",
       "      <td>2014-01-02 00:30:00</td>\n",
       "      <td>1205.163</td>\n",
       "      <td>1207.253</td>\n",
       "      <td>1204.973</td>\n",
       "      <td>1207.013</td>\n",
       "      <td>0.1176</td>\n",
       "    </tr>\n",
       "    <tr>\n",
       "      <th>4</th>\n",
       "      <td>2014-01-02 01:00:00</td>\n",
       "      <td>1207.042</td>\n",
       "      <td>1213.842</td>\n",
       "      <td>1207.042</td>\n",
       "      <td>1213.042</td>\n",
       "      <td>0.6692</td>\n",
       "    </tr>\n",
       "  </tbody>\n",
       "</table>\n",
       "</div>"
      ],
      "text/plain": [
       "             timestamp      open      high       low     close  volume\n",
       "0  2014-01-01 23:00:00  1203.612  1205.542  1202.302  1205.458  0.2042\n",
       "1  2014-01-01 23:30:00  1205.489  1205.883  1205.209  1205.883  0.0663\n",
       "2  2014-01-02 00:00:00  1205.913  1205.913  1204.893  1205.163  0.1094\n",
       "3  2014-01-02 00:30:00  1205.163  1207.253  1204.973  1207.013  0.1176\n",
       "4  2014-01-02 01:00:00  1207.042  1213.842  1207.042  1213.042  0.6692"
      ]
     },
     "execution_count": 1,
     "metadata": {},
     "output_type": "execute_result"
    }
   ],
   "source": [
    "#import the libraries\n",
    "import cudf\n",
    "import dask\n",
    "import dask.dataframe as dd\n",
    "#set the enviroment to cuDF so we use the GPU\n",
    "dask.config.set({\"dataframe.backend\": \"cudf\"})\n",
    "#----------------------------------------------\n",
    "\n",
    "xau30min = dd.read_csv('/home/edoardocame/Desktop/python_dir/xauusd-m30-2014-01-01-2024-12-11.csv')\n",
    "xau30min.head()"
   ]
  }
 ],
 "metadata": {
  "kernelspec": {
   "display_name": "rapids-23.12",
   "language": "python",
   "name": "python3"
  },
  "language_info": {
   "codemirror_mode": {
    "name": "ipython",
    "version": 3
   },
   "file_extension": ".py",
   "mimetype": "text/x-python",
   "name": "python",
   "nbconvert_exporter": "python",
   "pygments_lexer": "ipython3",
   "version": "3.10.14"
  }
 },
 "nbformat": 4,
 "nbformat_minor": 2
}
