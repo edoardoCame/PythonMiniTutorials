{
 "cells": [
  {
   "cell_type": "markdown",
   "metadata": {},
   "source": [
    "## Gold analysis\n",
    "Se il massimo di mercoledi, e' inferiore a quello di lunedi, vedrai il minimo di mercoledi rivisitato giovedi (rivisitato=giovedi il prezzo crossa dall'alto o dal basso il minimo di mercoledi)\n",
    "\n",
    "### Step da fare:\n",
    "- Calcolare dei massimi e minimi giornalieri\n",
    "    - bisogna fare resampling dei dati (in modo da ottenere candele da 1 giorno)\n",
    "- Categorizzare ogni giorno della settimana (bisogna creare una colonna che dice che giorno e')\n",
    "- Controllare se il max di mercoledi e' inferiore a quello di lunedi'\n",
    "    - salva il minimo di mercoledi'\n",
    "    - controlla se il range di giovedi include il minimo di mercoledi'."
   ]
  },
  {
   "cell_type": "markdown",
   "metadata": {},
   "source": [
    "### Readint the CSV file and converting it to a parquet one:"
   ]
  },
  {
   "cell_type": "code",
   "execution_count": 1,
   "metadata": {},
   "outputs": [],
   "source": [
    "# #import the libraries\n",
    "# import cudf\n",
    "# import dask\n",
    "# import dask.dataframe as dd\n",
    "# #set the enviroment to cuDF so we use the GPU\n",
    "# dask.config.set({\"dataframe.backend\": \"cudf\"})\n",
    "# #----------------------------------------------\n",
    "\n",
    "# xau1D = dd.read_csv('/home/edoardocame/Desktop/python_dir/xauusd-d1-bid-2014-01-01-2024-12-11T23.csv')\n",
    "# xau1D['timestamp'] = dd.to_datetime(xau1D['timestamp'])\n",
    "# xau1D = xau1D.set_index('timestamp', sorted=True)\n",
    "# xau1D['weekday'] = xau1D.index.to_series().dt.weekday\n",
    "# xau1D.head()"
   ]
  },
  {
   "cell_type": "markdown",
   "metadata": {},
   "source": [
    "### Using parquet file:"
   ]
  },
  {
   "cell_type": "code",
   "execution_count": 1,
   "metadata": {},
   "outputs": [
    {
     "data": {
      "text/html": [
       "<div>\n",
       "<style scoped>\n",
       "    .dataframe tbody tr th:only-of-type {\n",
       "        vertical-align: middle;\n",
       "    }\n",
       "\n",
       "    .dataframe tbody tr th {\n",
       "        vertical-align: top;\n",
       "    }\n",
       "\n",
       "    .dataframe thead th {\n",
       "        text-align: right;\n",
       "    }\n",
       "</style>\n",
       "<table border=\"1\" class=\"dataframe\">\n",
       "  <thead>\n",
       "    <tr style=\"text-align: right;\">\n",
       "      <th></th>\n",
       "      <th>open</th>\n",
       "      <th>high</th>\n",
       "      <th>low</th>\n",
       "      <th>close</th>\n",
       "      <th>volume</th>\n",
       "      <th>weekday</th>\n",
       "      <th>returns</th>\n",
       "      <th>week</th>\n",
       "      <th>year</th>\n",
       "    </tr>\n",
       "    <tr>\n",
       "      <th>timestamp</th>\n",
       "      <th></th>\n",
       "      <th></th>\n",
       "      <th></th>\n",
       "      <th></th>\n",
       "      <th></th>\n",
       "      <th></th>\n",
       "      <th></th>\n",
       "      <th></th>\n",
       "      <th></th>\n",
       "    </tr>\n",
       "  </thead>\n",
       "  <tbody>\n",
       "    <tr>\n",
       "      <th>2014-01-01</th>\n",
       "      <td>1203.612</td>\n",
       "      <td>1205.883</td>\n",
       "      <td>1202.302</td>\n",
       "      <td>1205.883</td>\n",
       "      <td>0.2705</td>\n",
       "      <td>2</td>\n",
       "      <td>&lt;NA&gt;</td>\n",
       "      <td>1</td>\n",
       "      <td>2014</td>\n",
       "    </tr>\n",
       "    <tr>\n",
       "      <th>2014-01-02</th>\n",
       "      <td>1205.913</td>\n",
       "      <td>1230.773</td>\n",
       "      <td>1204.893</td>\n",
       "      <td>1223.710</td>\n",
       "      <td>27.3592</td>\n",
       "      <td>3</td>\n",
       "      <td>0.014783358</td>\n",
       "      <td>1</td>\n",
       "      <td>2014</td>\n",
       "    </tr>\n",
       "    <tr>\n",
       "      <th>2014-01-03</th>\n",
       "      <td>1223.687</td>\n",
       "      <td>1240.153</td>\n",
       "      <td>1223.297</td>\n",
       "      <td>1236.683</td>\n",
       "      <td>26.3572</td>\n",
       "      <td>4</td>\n",
       "      <td>0.010601368</td>\n",
       "      <td>1</td>\n",
       "      <td>2014</td>\n",
       "    </tr>\n",
       "    <tr>\n",
       "      <th>2014-01-05</th>\n",
       "      <td>1236.983</td>\n",
       "      <td>1238.353</td>\n",
       "      <td>1233.842</td>\n",
       "      <td>1234.042</td>\n",
       "      <td>0.3280</td>\n",
       "      <td>6</td>\n",
       "      <td>-0.002135551</td>\n",
       "      <td>1</td>\n",
       "      <td>2014</td>\n",
       "    </tr>\n",
       "    <tr>\n",
       "      <th>2014-01-06</th>\n",
       "      <td>1234.042</td>\n",
       "      <td>1248.342</td>\n",
       "      <td>1214.626</td>\n",
       "      <td>1237.665</td>\n",
       "      <td>26.1419</td>\n",
       "      <td>0</td>\n",
       "      <td>0.002935881</td>\n",
       "      <td>2</td>\n",
       "      <td>2014</td>\n",
       "    </tr>\n",
       "  </tbody>\n",
       "</table>\n",
       "</div>"
      ],
      "text/plain": [
       "                open      high       low     close   volume  weekday  \\\n",
       "timestamp                                                              \n",
       "2014-01-01  1203.612  1205.883  1202.302  1205.883   0.2705        2   \n",
       "2014-01-02  1205.913  1230.773  1204.893  1223.710  27.3592        3   \n",
       "2014-01-03  1223.687  1240.153  1223.297  1236.683  26.3572        4   \n",
       "2014-01-05  1236.983  1238.353  1233.842  1234.042   0.3280        6   \n",
       "2014-01-06  1234.042  1248.342  1214.626  1237.665  26.1419        0   \n",
       "\n",
       "                 returns  week  year  \n",
       "timestamp                             \n",
       "2014-01-01          <NA>     1  2014  \n",
       "2014-01-02   0.014783358     1  2014  \n",
       "2014-01-03   0.010601368     1  2014  \n",
       "2014-01-05  -0.002135551     1  2014  \n",
       "2014-01-06   0.002935881     2  2014  "
      ]
     },
     "execution_count": 1,
     "metadata": {},
     "output_type": "execute_result"
    }
   ],
   "source": [
    "#import the libraries\n",
    "import dask\n",
    "import dask.dataframe as dd\n",
    "from dask_cuda import LocalCUDACluster\n",
    "from dask.distributed import Client\n",
    "cluster = LocalCUDACluster()\n",
    "client = Client(cluster)\n",
    "client\n",
    "#----------------------------------------------\n",
    "dask.config.set({\"dataframe.backend\": \"cudf\"})\n",
    "\n",
    "\n",
    "df = dd.read_parquet('/home/edoardocame/Desktop/python_dir/xauusd1D.parquet')\n",
    "df['returns'] = df['close'].diff() / df['close'].shift(1)\n",
    "df['week'] = df.index.dt.isocalendar().week\n",
    "df['year'] = df.index.dt.isocalendar().year\n",
    "df.head()"
   ]
  },
  {
   "cell_type": "code",
   "execution_count": 2,
   "metadata": {},
   "outputs": [
    {
     "name": "stderr",
     "output_type": "stream",
     "text": [
      "/home/edoardocame/miniconda3/envs/rapids-23.12/lib/python3.10/site-packages/dask/dataframe/multi.py:1297: UserWarning: Concatenating dataframes with unknown divisions.\n",
      "We're assuming that the indices of each dataframes are \n",
      " aligned. This assumption is not generally safe.\n",
      "  warnings.warn(\n"
     ]
    },
    {
     "data": {
      "text/html": [
       "<div>\n",
       "<style scoped>\n",
       "    .dataframe tbody tr th:only-of-type {\n",
       "        vertical-align: middle;\n",
       "    }\n",
       "\n",
       "    .dataframe tbody tr th {\n",
       "        vertical-align: top;\n",
       "    }\n",
       "\n",
       "    .dataframe thead th {\n",
       "        text-align: right;\n",
       "    }\n",
       "</style>\n",
       "<table border=\"1\" class=\"dataframe\">\n",
       "  <thead>\n",
       "    <tr style=\"text-align: right;\">\n",
       "      <th></th>\n",
       "      <th></th>\n",
       "      <th>mon_high</th>\n",
       "      <th>wed_high</th>\n",
       "      <th>wed_low</th>\n",
       "      <th>high</th>\n",
       "      <th>low</th>\n",
       "    </tr>\n",
       "    <tr>\n",
       "      <th>year</th>\n",
       "      <th>week</th>\n",
       "      <th></th>\n",
       "      <th></th>\n",
       "      <th></th>\n",
       "      <th></th>\n",
       "      <th></th>\n",
       "    </tr>\n",
       "  </thead>\n",
       "  <tbody>\n",
       "    <tr>\n",
       "      <th rowspan=\"5\" valign=\"top\">2014</th>\n",
       "      <th>1</th>\n",
       "      <td>&lt;NA&gt;</td>\n",
       "      <td>1205.883</td>\n",
       "      <td>1202.302</td>\n",
       "      <td>1230.773</td>\n",
       "      <td>1204.893</td>\n",
       "    </tr>\n",
       "    <tr>\n",
       "      <th>2</th>\n",
       "      <td>1248.342</td>\n",
       "      <td>1231.888</td>\n",
       "      <td>1218.423</td>\n",
       "      <td>1231.463</td>\n",
       "      <td>1223.475</td>\n",
       "    </tr>\n",
       "    <tr>\n",
       "      <th>3</th>\n",
       "      <td>1255.042</td>\n",
       "      <td>1244.012</td>\n",
       "      <td>1234.242</td>\n",
       "      <td>1245.198</td>\n",
       "      <td>1236.328</td>\n",
       "    </tr>\n",
       "    <tr>\n",
       "      <th>4</th>\n",
       "      <td>1258.205</td>\n",
       "      <td>1243.557</td>\n",
       "      <td>1235.542</td>\n",
       "      <td>1265.433</td>\n",
       "      <td>1231.523</td>\n",
       "    </tr>\n",
       "    <tr>\n",
       "      <th>5</th>\n",
       "      <td>1276.438</td>\n",
       "      <td>1270.142</td>\n",
       "      <td>1250.883</td>\n",
       "      <td>1267.677</td>\n",
       "      <td>1238.043</td>\n",
       "    </tr>\n",
       "  </tbody>\n",
       "</table>\n",
       "</div>"
      ],
      "text/plain": [
       "           mon_high  wed_high   wed_low      high       low\n",
       "year week                                                  \n",
       "2014 1         <NA>  1205.883  1202.302  1230.773  1204.893\n",
       "     2     1248.342  1231.888  1218.423  1231.463  1223.475\n",
       "     3     1255.042  1244.012  1234.242  1245.198  1236.328\n",
       "     4     1258.205  1243.557  1235.542  1265.433  1231.523\n",
       "     5     1276.438  1270.142  1250.883  1267.677  1238.043"
      ]
     },
     "execution_count": 2,
     "metadata": {},
     "output_type": "execute_result"
    }
   ],
   "source": [
    "# Create separate dataframes for each day we need\n",
    "# Group by year and week, then get the first occurrence (should be only one per day anyway)\n",
    "monday_data = df[df['weekday'] == 0].groupby(['year', 'week'])['high'].first()\n",
    "wednesday_data = df[df['weekday'] == 2].groupby(['year', 'week'])[['high','low']].first()\n",
    "thursday_data = df[df['weekday'] == 3].groupby(['year', 'week'])[['high','low']].first()\n",
    "\n",
    "weekly_analysis = dd.concat([monday_data.rename('mon_high'), wednesday_data.rename(columns={'high':'wed_high', 'low':'wed_low'}), thursday_data], axis=1)\n",
    "weekly_analysis.head()"
   ]
  },
  {
   "cell_type": "code",
   "execution_count": 3,
   "metadata": {},
   "outputs": [
    {
     "data": {
      "text/html": [
       "<div>\n",
       "<style scoped>\n",
       "    .dataframe tbody tr th:only-of-type {\n",
       "        vertical-align: middle;\n",
       "    }\n",
       "\n",
       "    .dataframe tbody tr th {\n",
       "        vertical-align: top;\n",
       "    }\n",
       "\n",
       "    .dataframe thead th {\n",
       "        text-align: right;\n",
       "    }\n",
       "</style>\n",
       "<table border=\"1\" class=\"dataframe\">\n",
       "  <thead>\n",
       "    <tr style=\"text-align: right;\">\n",
       "      <th></th>\n",
       "      <th></th>\n",
       "      <th>mon_high</th>\n",
       "      <th>wed_high</th>\n",
       "      <th>wed_low</th>\n",
       "      <th>high</th>\n",
       "      <th>low</th>\n",
       "      <th>wed_lower_than_mon</th>\n",
       "      <th>thurs_crosses_wed</th>\n",
       "    </tr>\n",
       "    <tr>\n",
       "      <th>year</th>\n",
       "      <th>week</th>\n",
       "      <th></th>\n",
       "      <th></th>\n",
       "      <th></th>\n",
       "      <th></th>\n",
       "      <th></th>\n",
       "      <th></th>\n",
       "      <th></th>\n",
       "    </tr>\n",
       "  </thead>\n",
       "  <tbody>\n",
       "    <tr>\n",
       "      <th rowspan=\"5\" valign=\"top\">2014</th>\n",
       "      <th>1</th>\n",
       "      <td>&lt;NA&gt;</td>\n",
       "      <td>1205.883</td>\n",
       "      <td>1202.302</td>\n",
       "      <td>1230.773</td>\n",
       "      <td>1204.893</td>\n",
       "      <td>&lt;NA&gt;</td>\n",
       "      <td>&lt;NA&gt;</td>\n",
       "    </tr>\n",
       "    <tr>\n",
       "      <th>2</th>\n",
       "      <td>1248.342</td>\n",
       "      <td>1231.888</td>\n",
       "      <td>1218.423</td>\n",
       "      <td>1231.463</td>\n",
       "      <td>1223.475</td>\n",
       "      <td>True</td>\n",
       "      <td>False</td>\n",
       "    </tr>\n",
       "    <tr>\n",
       "      <th>3</th>\n",
       "      <td>1255.042</td>\n",
       "      <td>1244.012</td>\n",
       "      <td>1234.242</td>\n",
       "      <td>1245.198</td>\n",
       "      <td>1236.328</td>\n",
       "      <td>True</td>\n",
       "      <td>False</td>\n",
       "    </tr>\n",
       "    <tr>\n",
       "      <th>4</th>\n",
       "      <td>1258.205</td>\n",
       "      <td>1243.557</td>\n",
       "      <td>1235.542</td>\n",
       "      <td>1265.433</td>\n",
       "      <td>1231.523</td>\n",
       "      <td>True</td>\n",
       "      <td>True</td>\n",
       "    </tr>\n",
       "    <tr>\n",
       "      <th>5</th>\n",
       "      <td>1276.438</td>\n",
       "      <td>1270.142</td>\n",
       "      <td>1250.883</td>\n",
       "      <td>1267.677</td>\n",
       "      <td>1238.043</td>\n",
       "      <td>True</td>\n",
       "      <td>True</td>\n",
       "    </tr>\n",
       "  </tbody>\n",
       "</table>\n",
       "</div>"
      ],
      "text/plain": [
       "           mon_high  wed_high   wed_low      high       low  \\\n",
       "year week                                                     \n",
       "2014 1         <NA>  1205.883  1202.302  1230.773  1204.893   \n",
       "     2     1248.342  1231.888  1218.423  1231.463  1223.475   \n",
       "     3     1255.042  1244.012  1234.242  1245.198  1236.328   \n",
       "     4     1258.205  1243.557  1235.542  1265.433  1231.523   \n",
       "     5     1276.438  1270.142  1250.883  1267.677  1238.043   \n",
       "\n",
       "          wed_lower_than_mon thurs_crosses_wed  \n",
       "year week                                       \n",
       "2014 1                  <NA>              <NA>  \n",
       "     2                  True             False  \n",
       "     3                  True             False  \n",
       "     4                  True              True  \n",
       "     5                  True              True  "
      ]
     },
     "execution_count": 3,
     "metadata": {},
     "output_type": "execute_result"
    }
   ],
   "source": [
    "weekly_analysis['wed_lower_than_mon'] = weekly_analysis['wed_high'] < weekly_analysis['mon_high']\n",
    "\n",
    "weekly_analysis['thurs_crosses_wed'] = (\n",
    "    (weekly_analysis['wed_lower_than_mon']) & \n",
    "    (weekly_analysis['low'] <= weekly_analysis['wed_low']) & \n",
    "    (weekly_analysis['high'] >= weekly_analysis['wed_low'])\n",
    ")\n",
    "\n",
    "weekly_analysis.head()"
   ]
  },
  {
   "cell_type": "code",
   "execution_count": 5,
   "metadata": {},
   "outputs": [
    {
     "name": "stdout",
     "output_type": "stream",
     "text": [
      "Su un totale di 572 settimane, 153 si e' verificato l'evento\n"
     ]
    }
   ],
   "source": [
    "eventi = weekly_analysis['thurs_crosses_wed'].sum().compute()\n",
    "osservazioni = len(weekly_analysis['thurs_crosses_wed'])\n",
    "print(f\"Su un totale di {osservazioni} settimane, {eventi} si e' verificato l'evento\")"
   ]
  },
  {
   "cell_type": "code",
   "execution_count": 6,
   "metadata": {},
   "outputs": [],
   "source": [
    "client.shutdown()"
   ]
  },
  {
   "cell_type": "markdown",
   "metadata": {},
   "source": [
    "# In depth explanation:"
   ]
  },
  {
   "cell_type": "markdown",
   "metadata": {},
   "source": [
    "I'll break down this Jupyter notebook code extremely thoroughly:\n",
    "\n",
    "### 1. Initial Setup and Environment Configuration\n",
    "\n"
   ]
  },
  {
   "cell_type": "code",
   "execution_count": null,
   "metadata": {},
   "outputs": [],
   "source": [
    "import dask\n",
    "import dask.dataframe as dd\n",
    "from dask_cuda import LocalCUDACluster\n",
    "from dask.distributed import Client"
   ]
  },
  {
   "cell_type": "markdown",
   "metadata": {},
   "source": [
    "- `dask` is used for parallel computing with large datasets\n",
    "- `dask.dataframe` provides DataFrame operations similar to pandas but for distributed computing\n",
    "- `LocalCUDACluster` creates a local cluster that utilizes NVIDIA GPUs\n",
    "- `Client` is the interface to connect to the Dask cluster\n",
    "\n",
    "The configuration:\n"
   ]
  },
  {
   "cell_type": "code",
   "execution_count": null,
   "metadata": {},
   "outputs": [],
   "source": [
    "cluster = LocalCUDACluster()\n",
    "client = Client(cluster)\n",
    "dask.config.set({\"dataframe.backend\": \"cudf\"})"
   ]
  },
  {
   "cell_type": "markdown",
   "metadata": {},
   "source": [
    "- Creates a CUDA cluster for GPU computations\n",
    "- Establishes a client connection\n",
    "- Sets cuDF (GPU-accelerated DataFrame library) as the backend\n",
    "\n",
    "### 2. Data Loading and Initial Processing\n",
    "\n"
   ]
  },
  {
   "cell_type": "code",
   "execution_count": null,
   "metadata": {},
   "outputs": [],
   "source": [
    "df = dd.read_parquet('/home/edoardocame/Desktop/python_dir/xauusd1D.parquet')"
   ]
  },
  {
   "cell_type": "markdown",
   "metadata": {},
   "source": [
    "- Reads a Parquet file containing GOLD (XAU/USD) price data\n",
    "- Parquet is a columnar storage format optimized for big data processing\n",
    "\n",
    "Additional columns are created:\n"
   ]
  },
  {
   "cell_type": "code",
   "execution_count": null,
   "metadata": {},
   "outputs": [],
   "source": [
    "df['returns'] = df['close'].diff() / df['close'].shift(1)\n",
    "df['week'] = df.index.dt.isocalendar().week\n",
    "df['year'] = df.index.dt.isocalendar().year"
   ]
  },
  {
   "cell_type": "markdown",
   "metadata": {},
   "source": [
    "- `returns`: Calculates daily returns (percentage change in price)\n",
    "- `week`: Extracts ISO week number from the timestamp\n",
    "- `year`: Extracts ISO year from the timestamp\n",
    "\n",
    "### 3. Data Structure\n",
    "The DataFrame contains:\n",
    "- `timestamp` (index): Date/time of the observation\n",
    "- `open`, `high`, `low`, `close`: Price data\n",
    "- `volume`: Trading volume\n",
    "- `weekday`: Day of week (0=Monday, 6=Sunday)\n",
    "- `returns`: Daily price returns\n",
    "- `week`: ISO week number\n",
    "- `year`: Calendar year\n",
    "\n",
    "### 4. Analysis Implementation\n",
    "\n",
    "The weekly analysis checks for a specific market pattern:\n",
    "1. If Wednesday's high is lower than Monday's high\n",
    "2. If Thursday's price range crosses Wednesday's low\n",
    "\n"
   ]
  },
  {
   "cell_type": "code",
   "execution_count": null,
   "metadata": {},
   "outputs": [],
   "source": [
    "weekly_analysis['wed_lower_than_mon'] = weekly_analysis['wed_high'] < weekly_analysis['mon_high']\n",
    "\n",
    "weekly_analysis['thurs_crosses_wed'] = (\n",
    "    (weekly_analysis['wed_lower_than_mon']) & \n",
    "    (weekly_analysis['low'] <= weekly_analysis['wed_low']) & \n",
    "    (weekly_analysis['high'] >= weekly_analysis['wed_low'])\n",
    ")"
   ]
  },
  {
   "cell_type": "markdown",
   "metadata": {},
   "source": [
    "\n",
    "\n",
    "This creates two boolean columns:\n",
    "- `wed_lower_than_mon`: True when Wednesday's high is below Monday's high\n",
    "- `thurs_crosses_wed`: True when:\n",
    "  - Wednesday was lower than Monday AND\n",
    "  - Thursday's price range includes Wednesday's low price\n",
    "\n",
    "### 5. Results Analysis\n",
    "\n"
   ]
  },
  {
   "cell_type": "code",
   "execution_count": null,
   "metadata": {},
   "outputs": [],
   "source": [
    "eventi = weekly_analysis['thurs_crosses_wed'].sum().compute()\n",
    "osservazioni = len(weekly_analysis['thurs_crosses_wed'])"
   ]
  },
  {
   "cell_type": "markdown",
   "metadata": {},
   "source": [
    "- `eventi`: Counts how many times the pattern occurred\n",
    "- `osservazioni`: Total number of weeks analyzed\n",
    "\n",
    "The results show:\n"
   ]
  },
  {
   "cell_type": "code",
   "execution_count": null,
   "metadata": {},
   "outputs": [],
   "source": [
    "\"Su un totale di 572 settimane, 153 si e' verificato l'evento\""
   ]
  },
  {
   "cell_type": "markdown",
   "metadata": {},
   "source": [
    "(Translation: \"Out of a total of 572 weeks, the event occurred 153 times\")\n",
    "\n",
    "### 6. Technical Details\n",
    "\n",
    "The code leverages several advanced features:\n",
    "- GPU acceleration through RAPIDS ecosystem (cuDF)\n",
    "- Distributed computing with Dask\n",
    "- Efficient data storage with Parquet format\n",
    "- Time series operations with datetime indexing\n",
    "- Boolean logic for pattern recognition\n",
    "- Memory-efficient operations through lazy evaluation\n",
    "\n",
    "### 7. Clean Up\n",
    "\n"
   ]
  },
  {
   "cell_type": "code",
   "execution_count": null,
   "metadata": {},
   "outputs": [],
   "source": [
    "client.shutdown()"
   ]
  },
  {
   "cell_type": "markdown",
   "metadata": {},
   "source": [
    "Properly closes the Dask client and releases GPU resources.\n",
    "\n",
    "This implementation is particularly efficient because:\n",
    "- It uses GPU acceleration for faster computations\n",
    "- Leverages distributed computing capabilities\n",
    "- Uses efficient data formats (Parquet)\n",
    "- Implements vectorized operations instead of loops\n",
    "- Maintains clean memory management\n",
    "\n",
    "The code is designed for analyzing large-scale financial data with a focus on specific weekly price patterns in the gold market."
   ]
  }
 ],
 "metadata": {
  "kernelspec": {
   "display_name": "rapids-23.12",
   "language": "python",
   "name": "python3"
  },
  "language_info": {
   "codemirror_mode": {
    "name": "ipython",
    "version": 3
   },
   "file_extension": ".py",
   "mimetype": "text/x-python",
   "name": "python",
   "nbconvert_exporter": "python",
   "pygments_lexer": "ipython3",
   "version": "3.10.14"
  }
 },
 "nbformat": 4,
 "nbformat_minor": 2
}
