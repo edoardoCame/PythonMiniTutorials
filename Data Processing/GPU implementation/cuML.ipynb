{
 "cells": [
  {
   "cell_type": "code",
   "execution_count": null,
   "metadata": {},
   "outputs": [],
   "source": [
    "import cuml\n",
    "import cudf\n",
    "import dask\n",
    "import dask.dataframe as dd\n",
    "\n",
    "dask.config.set({\"dataframe.backend\": \"cudf\"})\n",
    "df = dd.read_csv('/home/edoardocame/Desktop/python_dir/eurgbp1m.csv')"
   ]
  },
  {
   "cell_type": "code",
   "execution_count": null,
   "metadata": {},
   "outputs": [
    {
     "name": "stderr",
     "output_type": "stream",
     "text": [
      "/home/edoardocame/miniconda3/envs/rapids-23.12/lib/python3.10/site-packages/cuml/internals/api_decorators.py:382: UserWarning: Starting from version 23.08, the new 'copy_X' parameter defaults to 'True', ensuring a copy of X is created after passing it to fit(), preventing any changes to the input, but with increased memory usage. This represents a change in behavior from previous versions. With `copy_X=False` a copy might still be created if necessary. Explicitly set 'copy_X' to either True or False to suppress this warning.\n",
      "  return init_func(self, *args, **filtered_kwargs)\n"
     ]
    }
   ],
   "source": [
    "cuml.set_global_output_type('cudf')\n",
    "\n",
    "from cuml import LinearRegression\n",
    "from cuml.linear_model import LinearRegression\n",
    "lr = LinearRegression(fit_intercept = True, normalize = False,\n",
    "                      algorithm = \"svd\")\n",
    "\n",
    "reg = lr.fit(df['open'], df['close'])"
   ]
  },
  {
   "cell_type": "code",
   "execution_count": 8,
   "metadata": {},
   "outputs": [
    {
     "name": "stdout",
     "output_type": "stream",
     "text": [
      "237383    0.85175\n",
      "237384    0.85178\n",
      "237385    0.85176\n",
      "237386    0.85177\n",
      "237387    0.85168\n",
      "           ...   \n",
      "237678    0.85210\n",
      "237679    0.85210\n",
      "237680    0.85205\n",
      "237681    0.85208\n",
      "237682    0.85206\n",
      "Name: high, Length: 300, dtype: float64\n"
     ]
    }
   ],
   "source": [
    "pred_series = df['high'].tail(300)\n",
    "print(pred_series)"
   ]
  },
  {
   "cell_type": "code",
   "execution_count": null,
   "metadata": {},
   "outputs": [
    {
     "name": "stdout",
     "output_type": "stream",
     "text": [
      "237383    0.85175\n",
      "237384    0.85178\n",
      "237385    0.85176\n",
      "237386    0.85177\n",
      "237387    0.85168\n",
      "           ...   \n",
      "237678    0.85210\n",
      "237679    0.85210\n",
      "237680    0.85205\n",
      "237681    0.85208\n",
      "237682    0.85206\n",
      "Length: 300, dtype: float64\n"
     ]
    }
   ],
   "source": [
    "predictions = lr.predict(pred_series)\n",
    "print(predictions)"
   ]
  }
 ],
 "metadata": {
  "kernelspec": {
   "display_name": "rapids-23.12",
   "language": "python",
   "name": "python3"
  },
  "language_info": {
   "codemirror_mode": {
    "name": "ipython",
    "version": 3
   },
   "file_extension": ".py",
   "mimetype": "text/x-python",
   "name": "python",
   "nbconvert_exporter": "python",
   "pygments_lexer": "ipython3",
   "version": "3.10.14"
  }
 },
 "nbformat": 4,
 "nbformat_minor": 2
}
