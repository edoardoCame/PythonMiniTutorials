{
 "cells": [
  {
   "cell_type": "code",
   "execution_count": 1,
   "metadata": {},
   "outputs": [],
   "source": [
    "import cuml\n",
    "import cudf\n",
    "import dask\n",
    "import dask.dataframe as dd\n",
    "\n",
    "dask.config.set({\"dataframe.backend\": \"cudf\"})\n",
    "df = dd.read_csv('/home/edoardocame/Desktop/python_dir/xau_tick_data.csv')"
   ]
  },
  {
   "cell_type": "code",
   "execution_count": 2,
   "metadata": {},
   "outputs": [
    {
     "name": "stderr",
     "output_type": "stream",
     "text": [
      "/home/edoardocame/miniconda3/envs/rapids-23.12/lib/python3.10/site-packages/cuml/internals/api_decorators.py:382: UserWarning: Starting from version 23.08, the new 'copy_X' parameter defaults to 'True', ensuring a copy of X is created after passing it to fit(), preventing any changes to the input, but with increased memory usage. This represents a change in behavior from previous versions. With `copy_X=False` a copy might still be created if necessary. Explicitly set 'copy_X' to either True or False to suppress this warning.\n",
      "  return init_func(self, *args, **filtered_kwargs)\n"
     ]
    }
   ],
   "source": [
    "cuml.set_global_output_type('cudf')\n",
    "\n",
    "from cuml import LinearRegression\n",
    "from cuml.linear_model import LinearRegression\n",
    "lr = LinearRegression(fit_intercept = True, normalize = False,\n",
    "                      algorithm = \"svd\")\n",
    "\n",
    "reg = lr.fit(df['askPrice'], df['bidPrice'])"
   ]
  },
  {
   "cell_type": "code",
   "execution_count": 3,
   "metadata": {},
   "outputs": [
    {
     "name": "stdout",
     "output_type": "stream",
     "text": [
      "610997    2638.322\n",
      "610998    2638.382\n",
      "610999    2638.386\n",
      "611000    2638.382\n",
      "611001    2638.322\n",
      "            ...   \n",
      "611292    2638.242\n",
      "611293    2638.222\n",
      "611294    2638.152\n",
      "611295    2638.142\n",
      "611296    2638.142\n",
      "Name: askPrice, Length: 300, dtype: float64\n"
     ]
    }
   ],
   "source": [
    "pred_series = df['askPrice'].tail(300)\n",
    "print(pred_series)"
   ]
  },
  {
   "cell_type": "code",
   "execution_count": 4,
   "metadata": {},
   "outputs": [
    {
     "name": "stdout",
     "output_type": "stream",
     "text": [
      "610997    2637.905862\n",
      "610998    2637.965854\n",
      "610999    2637.969854\n",
      "611000    2637.965854\n",
      "611001    2637.905862\n",
      "             ...     \n",
      "611292    2637.825873\n",
      "611293    2637.805876\n",
      "611294    2637.735885\n",
      "611295    2637.725886\n",
      "611296    2637.725886\n",
      "Length: 300, dtype: float64\n"
     ]
    }
   ],
   "source": [
    "predictions = lr.predict(pred_series)\n",
    "print(predictions)"
   ]
  }
 ],
 "metadata": {
  "kernelspec": {
   "display_name": "rapids-23.12",
   "language": "python",
   "name": "python3"
  },
  "language_info": {
   "codemirror_mode": {
    "name": "ipython",
    "version": 3
   },
   "file_extension": ".py",
   "mimetype": "text/x-python",
   "name": "python",
   "nbconvert_exporter": "python",
   "pygments_lexer": "ipython3",
   "version": "3.10.14"
  }
 },
 "nbformat": 4,
 "nbformat_minor": 2
}
