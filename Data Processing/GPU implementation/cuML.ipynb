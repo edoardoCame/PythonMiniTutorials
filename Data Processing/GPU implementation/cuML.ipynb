{
 "cells": [
  {
   "cell_type": "code",
   "execution_count": null,
   "metadata": {},
   "outputs": [],
   "source": [
    "import cuml\n",
    "import cudf\n",
    "import dask\n",
    "import dask.dataframe as dd\n",
    "\n",
    "dask.config.set({\"dataframe.backend\": \"cudf\"})\n",
    "df = dd.read_csv('/home/edoardocame/Desktop/python_dir/eurgbp1m.csv')"
   ]
  },
  {
   "cell_type": "code",
   "execution_count": null,
   "metadata": {},
   "outputs": [],
   "source": [
    "\n",
    "from cuml import LinearRegression\n",
    "from cuml.linear_model import LinearRegression\n",
    "lr = LinearRegression(fit_intercept = True, normalize = False,\n",
    "                      algorithm = \"svd\")\n",
    "\n",
    "reg = lr.fit(df['open'], df['close'])"
   ]
  }
 ],
 "metadata": {
  "kernelspec": {
   "display_name": "Python 3",
   "language": "python",
   "name": "python3"
  },
  "language_info": {
   "codemirror_mode": {
    "name": "ipython",
    "version": 3
   },
   "file_extension": ".py",
   "mimetype": "text/x-python",
   "name": "python",
   "nbconvert_exporter": "python",
   "pygments_lexer": "ipython3",
   "version": "3.10.15"
  }
 },
 "nbformat": 4,
 "nbformat_minor": 2
}
