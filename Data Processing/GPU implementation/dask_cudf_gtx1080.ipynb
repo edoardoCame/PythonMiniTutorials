{
 "cells": [
  {
   "cell_type": "code",
   "execution_count": null,
   "metadata": {},
   "outputs": [],
   "source": [
    "import cudf\n",
    "import dask\n",
    "import dask.dataframe as dd\n",
    "\n",
    "dask.config.set({\"dataframe.backend\": \"cudf\"})\n",
    "df = dd.read_csv('xau_tick_data.csv')"
   ]
  },
  {
   "cell_type": "code",
   "execution_count": 11,
   "metadata": {},
   "outputs": [],
   "source": [
    "df['return'] = df['askPrice'].diff(20)\n",
    "df['rolling_sdev'] = df['return'].rolling(10).std()"
   ]
  },
  {
   "cell_type": "code",
   "execution_count": 12,
   "metadata": {},
   "outputs": [
    {
     "data": {
      "text/html": [
       "<div>\n",
       "<style scoped>\n",
       "    .dataframe tbody tr th:only-of-type {\n",
       "        vertical-align: middle;\n",
       "    }\n",
       "\n",
       "    .dataframe tbody tr th {\n",
       "        vertical-align: top;\n",
       "    }\n",
       "\n",
       "    .dataframe thead th {\n",
       "        text-align: right;\n",
       "    }\n",
       "</style>\n",
       "<table border=\"1\" class=\"dataframe\">\n",
       "  <thead>\n",
       "    <tr style=\"text-align: right;\">\n",
       "      <th></th>\n",
       "      <th>timestamp</th>\n",
       "      <th>askPrice</th>\n",
       "      <th>bidPrice</th>\n",
       "      <th>askVolume</th>\n",
       "      <th>bidVolume</th>\n",
       "      <th>return</th>\n",
       "      <th>rolling_sdev</th>\n",
       "    </tr>\n",
       "  </thead>\n",
       "  <tbody>\n",
       "    <tr>\n",
       "      <th>611292</th>\n",
       "      <td>2024-09-30 17:59:59</td>\n",
       "      <td>2638.242</td>\n",
       "      <td>2637.855</td>\n",
       "      <td>0.00027</td>\n",
       "      <td>0.00047</td>\n",
       "      <td>0.000</td>\n",
       "      <td>0.055672</td>\n",
       "    </tr>\n",
       "    <tr>\n",
       "      <th>611293</th>\n",
       "      <td>2024-09-30 17:59:59</td>\n",
       "      <td>2638.222</td>\n",
       "      <td>2637.818</td>\n",
       "      <td>0.00081</td>\n",
       "      <td>0.00018</td>\n",
       "      <td>0.040</td>\n",
       "      <td>0.075011</td>\n",
       "    </tr>\n",
       "    <tr>\n",
       "      <th>611294</th>\n",
       "      <td>2024-09-30 17:59:59</td>\n",
       "      <td>2638.152</td>\n",
       "      <td>2637.808</td>\n",
       "      <td>0.00018</td>\n",
       "      <td>0.00018</td>\n",
       "      <td>-0.090</td>\n",
       "      <td>0.068573</td>\n",
       "    </tr>\n",
       "    <tr>\n",
       "      <th>611295</th>\n",
       "      <td>2024-09-30 17:59:59</td>\n",
       "      <td>2638.142</td>\n",
       "      <td>2637.785</td>\n",
       "      <td>0.00027</td>\n",
       "      <td>0.00045</td>\n",
       "      <td>-0.134</td>\n",
       "      <td>0.062814</td>\n",
       "    </tr>\n",
       "    <tr>\n",
       "      <th>611296</th>\n",
       "      <td>2024-09-30 17:59:59</td>\n",
       "      <td>2638.142</td>\n",
       "      <td>2637.765</td>\n",
       "      <td>0.00027</td>\n",
       "      <td>0.00045</td>\n",
       "      <td>-0.154</td>\n",
       "      <td>0.060672</td>\n",
       "    </tr>\n",
       "  </tbody>\n",
       "</table>\n",
       "</div>"
      ],
      "text/plain": [
       "                  timestamp  askPrice  bidPrice  askVolume  bidVolume  return  \\\n",
       "611292  2024-09-30 17:59:59  2638.242  2637.855    0.00027    0.00047   0.000   \n",
       "611293  2024-09-30 17:59:59  2638.222  2637.818    0.00081    0.00018   0.040   \n",
       "611294  2024-09-30 17:59:59  2638.152  2637.808    0.00018    0.00018  -0.090   \n",
       "611295  2024-09-30 17:59:59  2638.142  2637.785    0.00027    0.00045  -0.134   \n",
       "611296  2024-09-30 17:59:59  2638.142  2637.765    0.00027    0.00045  -0.154   \n",
       "\n",
       "        rolling_sdev  \n",
       "611292      0.055672  \n",
       "611293      0.075011  \n",
       "611294      0.068573  \n",
       "611295      0.062814  \n",
       "611296      0.060672  "
      ]
     },
     "execution_count": 12,
     "metadata": {},
     "output_type": "execute_result"
    }
   ],
   "source": [
    "df.tail()"
   ]
  }
 ],
 "metadata": {
  "kernelspec": {
   "display_name": "Python 3",
   "language": "python",
   "name": "python3"
  },
  "language_info": {
   "codemirror_mode": {
    "name": "ipython",
    "version": 3
   },
   "file_extension": ".py",
   "mimetype": "text/x-python",
   "name": "python",
   "nbconvert_exporter": "python",
   "pygments_lexer": "ipython3",
   "version": "3.10.16"
  }
 },
 "nbformat": 4,
 "nbformat_minor": 2
}
