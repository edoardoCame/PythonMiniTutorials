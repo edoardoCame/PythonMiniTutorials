{
 "cells": [
  {
   "cell_type": "code",
   "execution_count": null,
   "metadata": {},
   "outputs": [],
   "source": [
    "import cudf\n",
    "import dask_cudf\n",
    "\n",
    "#PROTO-LOGIC BEHIND THE BOLLINGER BANDS PANDAS VERSION.\n",
    "\n",
    "\n",
    "\n",
    "\n",
    "# Initialize positions\n",
    "df['positions'] = 0\n",
    "\n",
    "# Generate signals\n",
    "df['long_entry'] = (df['price'] < df['lower_band'])\n",
    "df['long_exit'] = (df['price'] > df['middle_band'])\n",
    "df['short_entry'] = (df['price'] > df['upper_band'])\n",
    "df['short_exit'] = (df['price'] < df['middle_band'])\n",
    "\n",
    "# Create position column\n",
    "df.loc[df['long_entry'], 'positions'] = 1\n",
    "df.loc[df['long_exit'], 'positions'] = 0\n",
    "df.loc[df['short_entry'], 'positions'] = -1\n",
    "df.loc[df['short_exit'], 'positions'] = 0\n",
    "\n",
    "# Forward fill positions\n",
    "df['positions'] = df['positions'].fillna(method='ffill').fillna(0)\n",
    "\n",
    "# Record entry price\n",
    "df['entry_price'] = df['price'].where(df['positions'].diff() != 0).fillna(method='ffill')\n",
    "\n",
    "# Set stop loss percentage\n",
    "stop_loss_percentage = 0.05\n",
    "# Apply stop loss using cuDF\n",
    "df.loc[(df['positions'] == 1) & (df['price'] < df['entry_price'] * (1 - stop_loss_percentage)), 'positions'] = 0\n",
    "df.loc[(df['positions'] == -1) & (df['price'] > df['entry_price'] * (1 + stop_loss_percentage)), 'positions'] = 0\n",
    "\n",
    "# Recalculate positions after stop loss\n",
    "df['positions'] = df['positions'].fillna(method='ffill').fillna(0)\n",
    "\n",
    "# Calculate returns\n",
    "df['market_returns'] = df['price'].pct_change()\n",
    "df['strategy_returns'] = df['market_returns'] * df['positions'].shift(1)"
   ]
  }
 ],
 "metadata": {
  "kernelspec": {
   "display_name": "Python 3",
   "language": "python",
   "name": "python3"
  },
  "language_info": {
   "name": "python",
   "version": "3.10.16"
  }
 },
 "nbformat": 4,
 "nbformat_minor": 2
}
