{
 "cells": [
  {
   "cell_type": "markdown",
   "metadata": {},
   "source": [
    "# Csv joiner and cleaner"
   ]
  },
  {
   "cell_type": "markdown",
   "metadata": {},
   "source": [
    "### Join them individually"
   ]
  },
  {
   "cell_type": "code",
   "execution_count": null,
   "metadata": {},
   "outputs": [],
   "source": [
    "import cudf as cf\n",
    "\n",
    "eurgbp23 = cf.read_csv('/home/edoardocame/Desktop/python_dir/data/DAT_ASCII_EURGBP_M1_2023.csv',\n",
    "         sep=';', names=['date', 'open', 'high', 'low', 'close', 'volume'])\n",
    "\n",
    "eurgbp23['date'] = cf.to_datetime(eurgbp23['date'], format='%Y%m%d %H%M%S')\n",
    "eurgbp23.set_index('date', inplace=True)\n",
    "eurgbp23\n"
   ]
  },
  {
   "cell_type": "code",
   "execution_count": null,
   "metadata": {},
   "outputs": [],
   "source": [
    "import os\n",
    "\n",
    "eurgbp24 = cf.read_csv('/home/edoardocame/Desktop/python_dir/data/DAT_ASCII_EURGBP_M1_2024.csv',\n",
    "            sep=';', names=['date', 'open', 'high', 'low', 'close', 'volume'])\n",
    "\n",
    "eurgbp24['date'] = cf.to_datetime(eurgbp24['date'], format='%Y%m%d %H%M%S')\n",
    "eurgbp24.set_index('date', inplace=True)\n",
    "eurgbp24"
   ]
  },
  {
   "cell_type": "code",
   "execution_count": null,
   "metadata": {},
   "outputs": [],
   "source": [
    "#Concatenate the 2 dataframes\n",
    "eurgbp = cf.concat([eurgbp23, eurgbp24])\n",
    "eurgbp"
   ]
  },
  {
   "cell_type": "markdown",
   "metadata": {},
   "source": [
    "## Function that reads all CSVs and concatenates them"
   ]
  },
  {
   "cell_type": "code",
   "execution_count": 1,
   "metadata": {},
   "outputs": [],
   "source": [
    "import cudf as cf\n",
    "import os\n",
    "\n",
    "def load_and_concat_csvs(folder_path):\n",
    "    csv_files = [os.path.join(folder_path, f) for f in os.listdir(folder_path) if f.endswith('.csv')]\n",
    "    dfs = []\n",
    "    for file in csv_files:\n",
    "        df_temp = cf.read_csv(file, sep=';', names=['date', 'open', 'high', 'low', 'close', 'volume'])\n",
    "        df_temp['date'] = cf.to_datetime(df_temp['date'], format='%Y%m%d %H%M%S')\n",
    "        df_temp.set_index('date', inplace=True)\n",
    "        dfs.append(df_temp)\n",
    "    return cf.concat(dfs)\n",
    "\n",
    "# Example usage: concatenate all CSV files in the folder\n",
    "eurgbp_merged = load_and_concat_csvs('/home/edoardocame/Desktop/python_dir/data/forexhistdata')\n",
    "eurgbp_merged.to_csv('/home/edoardocame/Desktop/python_dir/data/forexhistdata/merged_eurgbp.csv')"
   ]
  },
  {
   "cell_type": "markdown",
   "metadata": {},
   "source": [
    "The `dfs` list is used to store all the DataFrames created from reading each CSV file. Here's a step-by-step explanation of the code:\n",
    "\n",
    "1. **List CSV Files**: \n",
    "   ```python\n",
    "   csv_files = [os.path.join(folder_path, f) for f in os.listdir(folder_path) if f.endswith('.csv')]\n",
    "   ```\n",
    "   This line creates a list of file paths for all CSV files in the specified `folder_path`.\n",
    "\n",
    "2. **Initialize List**:\n",
    "   ```python\n",
    "   dfs = []\n",
    "   ```\n",
    "   An empty list `dfs` is initialized to store the DataFrames.\n",
    "\n",
    "3. **Read and Process Each CSV**:\n",
    "   ```python\n",
    "   for file in csv_files:\n",
    "       df_temp = cf.read_csv(file, sep=';', names=['date', 'open', 'high', 'low', 'close', 'volume'])\n",
    "       df_temp['date'] = cf.to_datetime(df_temp['date'], format='%Y%m%d %H%M%S')\n",
    "       df_temp.set_index('date', inplace=True)\n",
    "       dfs.append(df_temp)\n",
    "   ```\n",
    "   - For each CSV file, it reads the file into a DataFrame `df_temp`.\n",
    "   - Converts the 'date' column to datetime format.\n",
    "   - Sets the 'date' column as the index.\n",
    "   - Appends the DataFrame `df_temp` to the `dfs` list.\n",
    "\n",
    "4. **Concatenate DataFrames**:\n",
    "   ```python\n",
    "   return cf.concat(dfs)\n",
    "   ```\n",
    "   Finally, it concatenates all the DataFrames in the `dfs` list into a single DataFrame and returns it.\n",
    "\n",
    "So, `dfs` is indeed a list containing all the DataFrames created from each CSV file."
   ]
  }
 ],
 "metadata": {
  "kernelspec": {
   "display_name": "rapids-23.12",
   "language": "python",
   "name": "python3"
  },
  "language_info": {
   "codemirror_mode": {
    "name": "ipython",
    "version": 3
   },
   "file_extension": ".py",
   "mimetype": "text/x-python",
   "name": "python",
   "nbconvert_exporter": "python",
   "pygments_lexer": "ipython3",
   "version": "3.10.16"
  }
 },
 "nbformat": 4,
 "nbformat_minor": 2
}
