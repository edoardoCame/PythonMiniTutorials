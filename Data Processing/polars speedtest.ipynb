{
 "cells": [
  {
   "cell_type": "code",
   "execution_count": 4,
   "metadata": {},
   "outputs": [
    {
     "name": "stdout",
     "output_type": "stream",
     "text": [
      "Polars DataFrame creation time: 1.3878517150878906 seconds\n",
      "Polars mean calculation time: 0.022005081176757812 seconds\n",
      "Pandas DataFrame creation time: 1.5003635883331299 seconds\n",
      "Pandas mean calculation time: 0.10502505302429199 seconds\n"
     ]
    }
   ],
   "source": [
    "import polars as pl\n",
    "import pandas as pd\n",
    "import numpy as np\n",
    "import time\n",
    "\n",
    "\n",
    "#TIME FOR BENCHMARKING POLARS AND PANDAS!!!\n",
    "#------------------------------------------\n",
    "\n",
    "\n",
    "df_size = 100000000\n",
    "# Create a 1 million row DataFrame using Polars\n",
    "start_time = time.time()\n",
    "pl_df = pl.DataFrame({\n",
    "    'col1': np.random.randint(0, 100, size=df_size),\n",
    "    'col2': np.random.randint(0, 100, size=df_size)\n",
    "})\n",
    "polars_creation_time = time.time() - start_time\n",
    "\n",
    "# Create a 1 million row DataFrame using Pandas\n",
    "start_time = time.time()\n",
    "pd_df = pd.DataFrame({\n",
    "    'col1': np.random.randint(0, 100, size=df_size),\n",
    "    'col2': np.random.randint(0, 100, size=df_size)\n",
    "})\n",
    "pandas_creation_time = time.time() - start_time\n",
    "\n",
    "# Calculate the mean using Polars\n",
    "start_time = time.time()\n",
    "pl_mean = pl_df.mean()\n",
    "polars_mean_time = time.time() - start_time\n",
    "\n",
    "# Calculate the mean using Pandas\n",
    "start_time = time.time()\n",
    "pd_mean = pd_df.mean()\n",
    "pandas_mean_time = time.time() - start_time\n",
    "\n",
    "print(f\"Polars DataFrame creation time: {polars_creation_time} seconds\")\n",
    "print(f\"Polars mean calculation time: {polars_mean_time} seconds\")\n",
    "\n",
    "print(f\"Pandas DataFrame creation time: {pandas_creation_time} seconds\")\n",
    "print(f\"Pandas mean calculation time: {pandas_mean_time} seconds\")"
   ]
  }
 ],
 "metadata": {
  "kernelspec": {
   "display_name": "Python 3",
   "language": "python",
   "name": "python3"
  },
  "language_info": {
   "codemirror_mode": {
    "name": "ipython",
    "version": 3
   },
   "file_extension": ".py",
   "mimetype": "text/x-python",
   "name": "python",
   "nbconvert_exporter": "python",
   "pygments_lexer": "ipython3",
   "version": "3.10.14"
  }
 },
 "nbformat": 4,
 "nbformat_minor": 2
}
