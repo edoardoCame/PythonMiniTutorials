{
 "cells": [
  {
   "cell_type": "code",
   "execution_count": 11,
   "metadata": {},
   "outputs": [
    {
     "name": "stdout",
     "output_type": "stream",
     "text": [
      "3.14158708\n"
     ]
    }
   ],
   "source": [
    "from numba import njit\n",
    "import numpy as np\n",
    "\n",
    "@njit(fastmath=True)\n",
    "def montecarlo_pi(n):\n",
    "    count = 0\n",
    "    for i in range(n):\n",
    "        x = np.random.uniform(-1, 1)\n",
    "        y = np.random.uniform(-1, 1)\n",
    "        if x**2 + y**2 < 1:\n",
    "            count += 1\n",
    "    return 4 * count / n    \n",
    "\n",
    "print(montecarlo_pi(100000000))"
   ]
  },
  {
   "cell_type": "code",
   "execution_count": 17,
   "metadata": {},
   "outputs": [
    {
     "name": "stdout",
     "output_type": "stream",
     "text": [
      "Pure Python time: 42.110614 seconds\n",
      "Numba time: 0.133030 seconds\n"
     ]
    }
   ],
   "source": [
    "import numpy as np\n",
    "import numba\n",
    "from time import time\n",
    "\n",
    "# Define a more complex operation in pure Python\n",
    "def complex_operation_python(a, b):\n",
    "    result = np.empty_like(a)\n",
    "    for i in range(a.size):\n",
    "        result[i] = a[i] * b[i] + a[i] - b[i]\n",
    "    return result\n",
    "\n",
    "# Define the same operation using Numba's @jit decorator\n",
    "@numba.jit(nopython=True, fastmath=True)\n",
    "def complex_operation_numba(a, b):\n",
    "    result = np.empty_like(a)\n",
    "    for i in range(a.size):\n",
    "        result[i] = a[i] * b[i] + a[i] - b[i]\n",
    "    return result\n",
    "\n",
    "# Generate large random vectors for testing\n",
    "vector_size = 100000000\n",
    "a = np.random.rand(vector_size)\n",
    "b = np.random.rand(vector_size)\n",
    "\n",
    "# Measure the execution time of both functions\n",
    "# Measure time for pure Python function\n",
    "start_time = time()\n",
    "result_python = complex_operation_python(a, b)\n",
    "python_time = time() - start_time\n",
    "\n",
    "# Run the Numba function once to trigger compilation\n",
    "complex_operation_numba(a, b)\n",
    "\n",
    "# Measure time for Numba-accelerated function\n",
    "start_time = time()\n",
    "result_numba = complex_operation_numba(a, b)\n",
    "numba_time = time() - start_time\n",
    "\n",
    "# Print the results\n",
    "print(f\"Pure Python time: {python_time:.6f} seconds\")\n",
    "print(f\"Numba time: {numba_time:.6f} seconds\")"
   ]
  }
 ],
 "metadata": {
  "kernelspec": {
   "display_name": "Python 3",
   "language": "python",
   "name": "python3"
  },
  "language_info": {
   "codemirror_mode": {
    "name": "ipython",
    "version": 3
   },
   "file_extension": ".py",
   "mimetype": "text/x-python",
   "name": "python",
   "nbconvert_exporter": "python",
   "pygments_lexer": "ipython3",
   "version": "3.10.14"
  }
 },
 "nbformat": 4,
 "nbformat_minor": 2
}
