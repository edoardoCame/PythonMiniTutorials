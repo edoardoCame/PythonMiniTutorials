{
 "cells": [
  {
   "cell_type": "markdown",
   "metadata": {},
   "source": [
    "# Con PyCaret:"
   ]
  },
  {
   "cell_type": "markdown",
   "metadata": {},
   "source": [
    "### Importo le librerie e leggo i dati:"
   ]
  },
  {
   "cell_type": "code",
   "execution_count": 8,
   "metadata": {},
   "outputs": [
    {
     "data": {
      "text/html": [
       "<div>\n",
       "<style scoped>\n",
       "    .dataframe tbody tr th:only-of-type {\n",
       "        vertical-align: middle;\n",
       "    }\n",
       "\n",
       "    .dataframe tbody tr th {\n",
       "        vertical-align: top;\n",
       "    }\n",
       "\n",
       "    .dataframe thead th {\n",
       "        text-align: right;\n",
       "    }\n",
       "</style>\n",
       "<table border=\"1\" class=\"dataframe\">\n",
       "  <thead>\n",
       "    <tr style=\"text-align: right;\">\n",
       "      <th></th>\n",
       "      <th>open</th>\n",
       "      <th>high</th>\n",
       "      <th>low</th>\n",
       "      <th>close</th>\n",
       "      <th>volume</th>\n",
       "    </tr>\n",
       "  </thead>\n",
       "  <tbody>\n",
       "    <tr>\n",
       "      <th>0</th>\n",
       "      <td>472.157</td>\n",
       "      <td>472.157</td>\n",
       "      <td>472.136</td>\n",
       "      <td>472.137</td>\n",
       "      <td>0.0822</td>\n",
       "    </tr>\n",
       "    <tr>\n",
       "      <th>1</th>\n",
       "      <td>472.147</td>\n",
       "      <td>472.157</td>\n",
       "      <td>472.117</td>\n",
       "      <td>472.137</td>\n",
       "      <td>0.1065</td>\n",
       "    </tr>\n",
       "    <tr>\n",
       "      <th>2</th>\n",
       "      <td>472.116</td>\n",
       "      <td>472.116</td>\n",
       "      <td>472.057</td>\n",
       "      <td>472.057</td>\n",
       "      <td>0.1180</td>\n",
       "    </tr>\n",
       "    <tr>\n",
       "      <th>3</th>\n",
       "      <td>472.046</td>\n",
       "      <td>472.127</td>\n",
       "      <td>472.046</td>\n",
       "      <td>472.127</td>\n",
       "      <td>0.0569</td>\n",
       "    </tr>\n",
       "    <tr>\n",
       "      <th>4</th>\n",
       "      <td>472.127</td>\n",
       "      <td>472.137</td>\n",
       "      <td>472.106</td>\n",
       "      <td>472.106</td>\n",
       "      <td>0.1444</td>\n",
       "    </tr>\n",
       "  </tbody>\n",
       "</table>\n",
       "</div>"
      ],
      "text/plain": [
       "      open     high      low    close  volume\n",
       "0  472.157  472.157  472.136  472.137  0.0822\n",
       "1  472.147  472.157  472.117  472.137  0.1065\n",
       "2  472.116  472.116  472.057  472.057  0.1180\n",
       "3  472.046  472.127  472.046  472.127  0.0569\n",
       "4  472.127  472.137  472.106  472.106  0.1444"
      ]
     },
     "execution_count": 8,
     "metadata": {},
     "output_type": "execute_result"
    }
   ],
   "source": [
    "#import necessary libraries\n",
    "import pandas as pd\n",
    "from pycaret.time_series import *\n",
    "\n",
    "\n",
    "\n",
    "#This is the URL of the file\n",
    "url = \"https://onedrive.live.com/download?resid=4E16D53638D067A9%21337206&authkey=!APxYFBiUDvn51MI\" #REMEMBER to change embed to download;\n",
    "\n",
    "df = pd.read_csv(url, parse_dates=True, index_col=0) #it's a time series data, so I'm setting the index to be the first column\n",
    "df.reset_index(drop=True, inplace=True) #resetting the index\n",
    "df.head()"
   ]
  },
  {
   "cell_type": "markdown",
   "metadata": {},
   "source": [
    "### Setup iniziale e controllo della stagionalità:"
   ]
  },
  {
   "cell_type": "code",
   "execution_count": 9,
   "metadata": {},
   "outputs": [
    {
     "data": {
      "text/html": [
       "<style type=\"text/css\">\n",
       "#T_3945a_row25_col1 {\n",
       "  background-color: lightgreen;\n",
       "}\n",
       "</style>\n",
       "<table id=\"T_3945a\">\n",
       "  <thead>\n",
       "    <tr>\n",
       "      <th class=\"blank level0\" >&nbsp;</th>\n",
       "      <th id=\"T_3945a_level0_col0\" class=\"col_heading level0 col0\" >Description</th>\n",
       "      <th id=\"T_3945a_level0_col1\" class=\"col_heading level0 col1\" >Value</th>\n",
       "    </tr>\n",
       "  </thead>\n",
       "  <tbody>\n",
       "    <tr>\n",
       "      <th id=\"T_3945a_level0_row0\" class=\"row_heading level0 row0\" >0</th>\n",
       "      <td id=\"T_3945a_row0_col0\" class=\"data row0 col0\" >session_id</td>\n",
       "      <td id=\"T_3945a_row0_col1\" class=\"data row0 col1\" >123</td>\n",
       "    </tr>\n",
       "    <tr>\n",
       "      <th id=\"T_3945a_level0_row1\" class=\"row_heading level0 row1\" >1</th>\n",
       "      <td id=\"T_3945a_row1_col0\" class=\"data row1 col0\" >Target</td>\n",
       "      <td id=\"T_3945a_row1_col1\" class=\"data row1 col1\" >close</td>\n",
       "    </tr>\n",
       "    <tr>\n",
       "      <th id=\"T_3945a_level0_row2\" class=\"row_heading level0 row2\" >2</th>\n",
       "      <td id=\"T_3945a_row2_col0\" class=\"data row2 col0\" >Approach</td>\n",
       "      <td id=\"T_3945a_row2_col1\" class=\"data row2 col1\" >Univariate</td>\n",
       "    </tr>\n",
       "    <tr>\n",
       "      <th id=\"T_3945a_level0_row3\" class=\"row_heading level0 row3\" >3</th>\n",
       "      <td id=\"T_3945a_row3_col0\" class=\"data row3 col0\" >Exogenous Variables</td>\n",
       "      <td id=\"T_3945a_row3_col1\" class=\"data row3 col1\" >Present</td>\n",
       "    </tr>\n",
       "    <tr>\n",
       "      <th id=\"T_3945a_level0_row4\" class=\"row_heading level0 row4\" >4</th>\n",
       "      <td id=\"T_3945a_row4_col0\" class=\"data row4 col0\" >Original data shape</td>\n",
       "      <td id=\"T_3945a_row4_col1\" class=\"data row4 col1\" >(2935044, 5)</td>\n",
       "    </tr>\n",
       "    <tr>\n",
       "      <th id=\"T_3945a_level0_row5\" class=\"row_heading level0 row5\" >5</th>\n",
       "      <td id=\"T_3945a_row5_col0\" class=\"data row5 col0\" >Transformed data shape</td>\n",
       "      <td id=\"T_3945a_row5_col1\" class=\"data row5 col1\" >(2935044, 5)</td>\n",
       "    </tr>\n",
       "    <tr>\n",
       "      <th id=\"T_3945a_level0_row6\" class=\"row_heading level0 row6\" >6</th>\n",
       "      <td id=\"T_3945a_row6_col0\" class=\"data row6 col0\" >Transformed train set shape</td>\n",
       "      <td id=\"T_3945a_row6_col1\" class=\"data row6 col1\" >(2892044, 5)</td>\n",
       "    </tr>\n",
       "    <tr>\n",
       "      <th id=\"T_3945a_level0_row7\" class=\"row_heading level0 row7\" >7</th>\n",
       "      <td id=\"T_3945a_row7_col0\" class=\"data row7 col0\" >Transformed test set shape</td>\n",
       "      <td id=\"T_3945a_row7_col1\" class=\"data row7 col1\" >(43000, 5)</td>\n",
       "    </tr>\n",
       "    <tr>\n",
       "      <th id=\"T_3945a_level0_row8\" class=\"row_heading level0 row8\" >8</th>\n",
       "      <td id=\"T_3945a_row8_col0\" class=\"data row8 col0\" >Rows with missing values</td>\n",
       "      <td id=\"T_3945a_row8_col1\" class=\"data row8 col1\" >0.0%</td>\n",
       "    </tr>\n",
       "    <tr>\n",
       "      <th id=\"T_3945a_level0_row9\" class=\"row_heading level0 row9\" >9</th>\n",
       "      <td id=\"T_3945a_row9_col0\" class=\"data row9 col0\" >Fold Generator</td>\n",
       "      <td id=\"T_3945a_row9_col1\" class=\"data row9 col1\" >ExpandingWindowSplitter</td>\n",
       "    </tr>\n",
       "    <tr>\n",
       "      <th id=\"T_3945a_level0_row10\" class=\"row_heading level0 row10\" >10</th>\n",
       "      <td id=\"T_3945a_row10_col0\" class=\"data row10 col0\" >Fold Number</td>\n",
       "      <td id=\"T_3945a_row10_col1\" class=\"data row10 col1\" >5</td>\n",
       "    </tr>\n",
       "    <tr>\n",
       "      <th id=\"T_3945a_level0_row11\" class=\"row_heading level0 row11\" >11</th>\n",
       "      <td id=\"T_3945a_row11_col0\" class=\"data row11 col0\" >Enforce Prediction Interval</td>\n",
       "      <td id=\"T_3945a_row11_col1\" class=\"data row11 col1\" >False</td>\n",
       "    </tr>\n",
       "    <tr>\n",
       "      <th id=\"T_3945a_level0_row12\" class=\"row_heading level0 row12\" >12</th>\n",
       "      <td id=\"T_3945a_row12_col0\" class=\"data row12 col0\" >Splits used for hyperparameters</td>\n",
       "      <td id=\"T_3945a_row12_col1\" class=\"data row12 col1\" >all</td>\n",
       "    </tr>\n",
       "    <tr>\n",
       "      <th id=\"T_3945a_level0_row13\" class=\"row_heading level0 row13\" >13</th>\n",
       "      <td id=\"T_3945a_row13_col0\" class=\"data row13 col0\" >User Defined Seasonal Period(s)</td>\n",
       "      <td id=\"T_3945a_row13_col1\" class=\"data row13 col1\" >None</td>\n",
       "    </tr>\n",
       "    <tr>\n",
       "      <th id=\"T_3945a_level0_row14\" class=\"row_heading level0 row14\" >14</th>\n",
       "      <td id=\"T_3945a_row14_col0\" class=\"data row14 col0\" >Ignore Seasonality Test</td>\n",
       "      <td id=\"T_3945a_row14_col1\" class=\"data row14 col1\" >False</td>\n",
       "    </tr>\n",
       "    <tr>\n",
       "      <th id=\"T_3945a_level0_row15\" class=\"row_heading level0 row15\" >15</th>\n",
       "      <td id=\"T_3945a_row15_col0\" class=\"data row15 col0\" >Seasonality Detection Algo</td>\n",
       "      <td id=\"T_3945a_row15_col1\" class=\"data row15 col1\" >auto</td>\n",
       "    </tr>\n",
       "    <tr>\n",
       "      <th id=\"T_3945a_level0_row16\" class=\"row_heading level0 row16\" >16</th>\n",
       "      <td id=\"T_3945a_row16_col0\" class=\"data row16 col0\" >Max Period to Consider</td>\n",
       "      <td id=\"T_3945a_row16_col1\" class=\"data row16 col1\" >60</td>\n",
       "    </tr>\n",
       "    <tr>\n",
       "      <th id=\"T_3945a_level0_row17\" class=\"row_heading level0 row17\" >17</th>\n",
       "      <td id=\"T_3945a_row17_col0\" class=\"data row17 col0\" >Seasonal Period(s) Tested</td>\n",
       "      <td id=\"T_3945a_row17_col1\" class=\"data row17 col1\" >[2, 60, 29, 59, 58, 6, 30, 14, 28]</td>\n",
       "    </tr>\n",
       "    <tr>\n",
       "      <th id=\"T_3945a_level0_row18\" class=\"row_heading level0 row18\" >18</th>\n",
       "      <td id=\"T_3945a_row18_col0\" class=\"data row18 col0\" >Significant Seasonal Period(s)</td>\n",
       "      <td id=\"T_3945a_row18_col1\" class=\"data row18 col1\" >[2, 60, 29, 59, 58, 6, 30, 14, 28]</td>\n",
       "    </tr>\n",
       "    <tr>\n",
       "      <th id=\"T_3945a_level0_row19\" class=\"row_heading level0 row19\" >19</th>\n",
       "      <td id=\"T_3945a_row19_col0\" class=\"data row19 col0\" >Significant Seasonal Period(s) without Harmonics</td>\n",
       "      <td id=\"T_3945a_row19_col1\" class=\"data row19 col1\" >[60, 58, 59, 28]</td>\n",
       "    </tr>\n",
       "    <tr>\n",
       "      <th id=\"T_3945a_level0_row20\" class=\"row_heading level0 row20\" >20</th>\n",
       "      <td id=\"T_3945a_row20_col0\" class=\"data row20 col0\" >Remove Harmonics</td>\n",
       "      <td id=\"T_3945a_row20_col1\" class=\"data row20 col1\" >False</td>\n",
       "    </tr>\n",
       "    <tr>\n",
       "      <th id=\"T_3945a_level0_row21\" class=\"row_heading level0 row21\" >21</th>\n",
       "      <td id=\"T_3945a_row21_col0\" class=\"data row21 col0\" >Harmonics Order Method</td>\n",
       "      <td id=\"T_3945a_row21_col1\" class=\"data row21 col1\" >harmonic_max</td>\n",
       "    </tr>\n",
       "    <tr>\n",
       "      <th id=\"T_3945a_level0_row22\" class=\"row_heading level0 row22\" >22</th>\n",
       "      <td id=\"T_3945a_row22_col0\" class=\"data row22 col0\" >Num Seasonalities to Use</td>\n",
       "      <td id=\"T_3945a_row22_col1\" class=\"data row22 col1\" >1</td>\n",
       "    </tr>\n",
       "    <tr>\n",
       "      <th id=\"T_3945a_level0_row23\" class=\"row_heading level0 row23\" >23</th>\n",
       "      <td id=\"T_3945a_row23_col0\" class=\"data row23 col0\" >All Seasonalities to Use</td>\n",
       "      <td id=\"T_3945a_row23_col1\" class=\"data row23 col1\" >[2]</td>\n",
       "    </tr>\n",
       "    <tr>\n",
       "      <th id=\"T_3945a_level0_row24\" class=\"row_heading level0 row24\" >24</th>\n",
       "      <td id=\"T_3945a_row24_col0\" class=\"data row24 col0\" >Primary Seasonality</td>\n",
       "      <td id=\"T_3945a_row24_col1\" class=\"data row24 col1\" >2</td>\n",
       "    </tr>\n",
       "    <tr>\n",
       "      <th id=\"T_3945a_level0_row25\" class=\"row_heading level0 row25\" >25</th>\n",
       "      <td id=\"T_3945a_row25_col0\" class=\"data row25 col0\" >Seasonality Present</td>\n",
       "      <td id=\"T_3945a_row25_col1\" class=\"data row25 col1\" >True</td>\n",
       "    </tr>\n",
       "    <tr>\n",
       "      <th id=\"T_3945a_level0_row26\" class=\"row_heading level0 row26\" >26</th>\n",
       "      <td id=\"T_3945a_row26_col0\" class=\"data row26 col0\" >Seasonality Type</td>\n",
       "      <td id=\"T_3945a_row26_col1\" class=\"data row26 col1\" >mul</td>\n",
       "    </tr>\n",
       "    <tr>\n",
       "      <th id=\"T_3945a_level0_row27\" class=\"row_heading level0 row27\" >27</th>\n",
       "      <td id=\"T_3945a_row27_col0\" class=\"data row27 col0\" >Target Strictly Positive</td>\n",
       "      <td id=\"T_3945a_row27_col1\" class=\"data row27 col1\" >True</td>\n",
       "    </tr>\n",
       "    <tr>\n",
       "      <th id=\"T_3945a_level0_row28\" class=\"row_heading level0 row28\" >28</th>\n",
       "      <td id=\"T_3945a_row28_col0\" class=\"data row28 col0\" >Target White Noise</td>\n",
       "      <td id=\"T_3945a_row28_col1\" class=\"data row28 col1\" >No</td>\n",
       "    </tr>\n",
       "    <tr>\n",
       "      <th id=\"T_3945a_level0_row29\" class=\"row_heading level0 row29\" >29</th>\n",
       "      <td id=\"T_3945a_row29_col0\" class=\"data row29 col0\" >Recommended d</td>\n",
       "      <td id=\"T_3945a_row29_col1\" class=\"data row29 col1\" >1</td>\n",
       "    </tr>\n",
       "    <tr>\n",
       "      <th id=\"T_3945a_level0_row30\" class=\"row_heading level0 row30\" >30</th>\n",
       "      <td id=\"T_3945a_row30_col0\" class=\"data row30 col0\" >Recommended Seasonal D</td>\n",
       "      <td id=\"T_3945a_row30_col1\" class=\"data row30 col1\" >0</td>\n",
       "    </tr>\n",
       "    <tr>\n",
       "      <th id=\"T_3945a_level0_row31\" class=\"row_heading level0 row31\" >31</th>\n",
       "      <td id=\"T_3945a_row31_col0\" class=\"data row31 col0\" >Preprocess</td>\n",
       "      <td id=\"T_3945a_row31_col1\" class=\"data row31 col1\" >False</td>\n",
       "    </tr>\n",
       "    <tr>\n",
       "      <th id=\"T_3945a_level0_row32\" class=\"row_heading level0 row32\" >32</th>\n",
       "      <td id=\"T_3945a_row32_col0\" class=\"data row32 col0\" >CPU Jobs</td>\n",
       "      <td id=\"T_3945a_row32_col1\" class=\"data row32 col1\" >128</td>\n",
       "    </tr>\n",
       "    <tr>\n",
       "      <th id=\"T_3945a_level0_row33\" class=\"row_heading level0 row33\" >33</th>\n",
       "      <td id=\"T_3945a_row33_col0\" class=\"data row33 col0\" >Use GPU</td>\n",
       "      <td id=\"T_3945a_row33_col1\" class=\"data row33 col1\" >False</td>\n",
       "    </tr>\n",
       "    <tr>\n",
       "      <th id=\"T_3945a_level0_row34\" class=\"row_heading level0 row34\" >34</th>\n",
       "      <td id=\"T_3945a_row34_col0\" class=\"data row34 col0\" >Log Experiment</td>\n",
       "      <td id=\"T_3945a_row34_col1\" class=\"data row34 col1\" >False</td>\n",
       "    </tr>\n",
       "    <tr>\n",
       "      <th id=\"T_3945a_level0_row35\" class=\"row_heading level0 row35\" >35</th>\n",
       "      <td id=\"T_3945a_row35_col0\" class=\"data row35 col0\" >Experiment Name</td>\n",
       "      <td id=\"T_3945a_row35_col1\" class=\"data row35 col1\" >ts-default-name</td>\n",
       "    </tr>\n",
       "    <tr>\n",
       "      <th id=\"T_3945a_level0_row36\" class=\"row_heading level0 row36\" >36</th>\n",
       "      <td id=\"T_3945a_row36_col0\" class=\"data row36 col0\" >USI</td>\n",
       "      <td id=\"T_3945a_row36_col1\" class=\"data row36 col1\" >30a9</td>\n",
       "    </tr>\n",
       "  </tbody>\n",
       "</table>\n"
      ],
      "text/plain": [
       "<pandas.io.formats.style.Styler at 0x219b0dbeb90>"
      ]
     },
     "metadata": {},
     "output_type": "display_data"
    },
    {
     "data": {
      "text/plain": [
       "<pycaret.time_series.forecasting.oop.TSForecastingExperiment at 0x219eda987d0>"
      ]
     },
     "execution_count": 9,
     "metadata": {},
     "output_type": "execute_result"
    }
   ],
   "source": [
    "# import TSForecastingExperiment and init the class\n",
    "from pycaret.time_series import TSForecastingExperiment\n",
    "exp = TSForecastingExperiment()\n",
    "\n",
    "# init setup on exp\n",
    "exp.setup(df, fh = 43000, session_id = 123, target = 'close', use_gpu = False, fold=5, n_jobs=128)"
   ]
  },
  {
   "cell_type": "markdown",
   "metadata": {},
   "source": [
    "#### Comparo i modelli:"
   ]
  },
  {
   "cell_type": "code",
   "execution_count": 10,
   "metadata": {},
   "outputs": [
    {
     "data": {
      "text/html": [
       "<div>\n",
       "<style scoped>\n",
       "    .dataframe tbody tr th:only-of-type {\n",
       "        vertical-align: middle;\n",
       "    }\n",
       "\n",
       "    .dataframe tbody tr th {\n",
       "        vertical-align: top;\n",
       "    }\n",
       "\n",
       "    .dataframe thead th {\n",
       "        text-align: right;\n",
       "    }\n",
       "</style>\n",
       "<table border=\"1\" class=\"dataframe\">\n",
       "  <thead>\n",
       "    <tr style=\"text-align: right;\">\n",
       "      <th></th>\n",
       "      <th></th>\n",
       "      <th></th>\n",
       "    </tr>\n",
       "    <tr>\n",
       "      <th></th>\n",
       "      <th></th>\n",
       "      <th></th>\n",
       "    </tr>\n",
       "  </thead>\n",
       "  <tbody>\n",
       "    <tr>\n",
       "      <th>Initiated</th>\n",
       "      <td>. . . . . . . . . . . . . . . . . .</td>\n",
       "      <td>18:12:38</td>\n",
       "    </tr>\n",
       "    <tr>\n",
       "      <th>Status</th>\n",
       "      <td>. . . . . . . . . . . . . . . . . .</td>\n",
       "      <td>Fitting 5 Folds</td>\n",
       "    </tr>\n",
       "    <tr>\n",
       "      <th>Estimator</th>\n",
       "      <td>. . . . . . . . . . . . . . . . . .</td>\n",
       "      <td>Auto ARIMA</td>\n",
       "    </tr>\n",
       "  </tbody>\n",
       "</table>\n",
       "</div>"
      ],
      "text/plain": [
       "                                                               \n",
       "                                                               \n",
       "Initiated  . . . . . . . . . . . . . . . . . .         18:12:38\n",
       "Status     . . . . . . . . . . . . . . . . . .  Fitting 5 Folds\n",
       "Estimator  . . . . . . . . . . . . . . . . . .       Auto ARIMA"
      ]
     },
     "metadata": {},
     "output_type": "display_data"
    },
    {
     "data": {
      "text/html": [
       "<style type=\"text/css\">\n",
       "#T_6f1c1 th {\n",
       "  text-align: left;\n",
       "}\n",
       "#T_6f1c1_row0_col0, #T_6f1c1_row0_col1, #T_6f1c1_row0_col2, #T_6f1c1_row0_col3, #T_6f1c1_row0_col4, #T_6f1c1_row0_col5, #T_6f1c1_row0_col6, #T_6f1c1_row0_col7, #T_6f1c1_row0_col8 {\n",
       "  text-align: left;\n",
       "}\n",
       "</style>\n",
       "<table id=\"T_6f1c1\">\n",
       "  <thead>\n",
       "    <tr>\n",
       "      <th class=\"blank level0\" >&nbsp;</th>\n",
       "      <th id=\"T_6f1c1_level0_col0\" class=\"col_heading level0 col0\" >Model</th>\n",
       "      <th id=\"T_6f1c1_level0_col1\" class=\"col_heading level0 col1\" >MASE</th>\n",
       "      <th id=\"T_6f1c1_level0_col2\" class=\"col_heading level0 col2\" >RMSSE</th>\n",
       "      <th id=\"T_6f1c1_level0_col3\" class=\"col_heading level0 col3\" >MAE</th>\n",
       "      <th id=\"T_6f1c1_level0_col4\" class=\"col_heading level0 col4\" >RMSE</th>\n",
       "      <th id=\"T_6f1c1_level0_col5\" class=\"col_heading level0 col5\" >MAPE</th>\n",
       "      <th id=\"T_6f1c1_level0_col6\" class=\"col_heading level0 col6\" >SMAPE</th>\n",
       "      <th id=\"T_6f1c1_level0_col7\" class=\"col_heading level0 col7\" >R2</th>\n",
       "      <th id=\"T_6f1c1_level0_col8\" class=\"col_heading level0 col8\" >TT (Sec)</th>\n",
       "    </tr>\n",
       "  </thead>\n",
       "  <tbody>\n",
       "    <tr>\n",
       "      <th id=\"T_6f1c1_level0_row0\" class=\"row_heading level0 row0\" >arima</th>\n",
       "      <td id=\"T_6f1c1_row0_col0\" class=\"data row0 col0\" >ARIMA</td>\n",
       "      <td id=\"T_6f1c1_row0_col1\" class=\"data row0 col1\" >6.7141</td>\n",
       "      <td id=\"T_6f1c1_row0_col2\" class=\"data row0 col2\" >4.5018</td>\n",
       "      <td id=\"T_6f1c1_row0_col3\" class=\"data row0 col3\" >0.1290</td>\n",
       "      <td id=\"T_6f1c1_row0_col4\" class=\"data row0 col4\" >0.1600</td>\n",
       "      <td id=\"T_6f1c1_row0_col5\" class=\"data row0 col5\" >0.0002</td>\n",
       "      <td id=\"T_6f1c1_row0_col6\" class=\"data row0 col6\" >0.0002</td>\n",
       "      <td id=\"T_6f1c1_row0_col7\" class=\"data row0 col7\" >0.9974</td>\n",
       "      <td id=\"T_6f1c1_row0_col8\" class=\"data row0 col8\" >102.5700</td>\n",
       "    </tr>\n",
       "  </tbody>\n",
       "</table>\n"
      ],
      "text/plain": [
       "<pandas.io.formats.style.Styler at 0x219ef4f7e50>"
      ]
     },
     "metadata": {},
     "output_type": "display_data"
    },
    {
     "data": {
      "application/vnd.jupyter.widget-view+json": {
       "model_id": "383bca329b144a058d885a9da1e431fe",
       "version_major": 2,
       "version_minor": 0
      },
      "text/plain": [
       "Processing:   0%|          | 0/81 [00:00<?, ?it/s]"
      ]
     },
     "metadata": {},
     "output_type": "display_data"
    }
   ],
   "source": [
    "exp.compare_models(sort='MAPE', turbo=False)"
   ]
  },
  {
   "cell_type": "markdown",
   "metadata": {},
   "source": [
    "### Creo il modello AutoARIMA e plotto le diagnostiche:"
   ]
  },
  {
   "cell_type": "code",
   "execution_count": null,
   "metadata": {},
   "outputs": [],
   "source": [
    "model1 = exp._create_model('auto_arima')\n",
    "exp.plot_model(model1)"
   ]
  },
  {
   "cell_type": "code",
   "execution_count": null,
   "metadata": {},
   "outputs": [],
   "source": [
    "exp.plot_model(model1, plot = 'diagnostics', fig_kwargs={\"height\": 1000, \"width\": 1800})"
   ]
  },
  {
   "cell_type": "code",
   "execution_count": null,
   "metadata": {},
   "outputs": [],
   "source": [
    "exp.plot_model(model1, plot = 'train_test_split', fig_kwargs={\"height\": 800, \"width\": 1000})"
   ]
  },
  {
   "cell_type": "code",
   "execution_count": null,
   "metadata": {},
   "outputs": [],
   "source": [
    "exp.plot_model(model1, plot = 'cv', fig_kwargs={\"height\": 800, \"width\": 1200})"
   ]
  },
  {
   "cell_type": "code",
   "execution_count": null,
   "metadata": {},
   "outputs": [],
   "source": [
    "y_predict = exp.predict_model(model1)\n",
    "\n",
    "# Create a dataframe with the last 200 rows of df and y_pred\n",
    "df_last_200 = pd.concat([df['close'].tail(200), y_predict], axis=1)\n",
    "\n",
    "df_last_200.plot()"
   ]
  }
 ],
 "metadata": {
  "kernelspec": {
   "display_name": "Python 3",
   "language": "python",
   "name": "python3"
  },
  "language_info": {
   "codemirror_mode": {
    "name": "ipython",
    "version": 3
   },
   "file_extension": ".py",
   "mimetype": "text/x-python",
   "name": "python",
   "nbconvert_exporter": "python",
   "pygments_lexer": "ipython3",
   "version": "3.11.9"
  }
 },
 "nbformat": 4,
 "nbformat_minor": 2
}
