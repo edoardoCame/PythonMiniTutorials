{
 "cells": [
  {
   "cell_type": "code",
   "execution_count": 1,
   "metadata": {},
   "outputs": [
    {
     "data": {
      "text/html": [
       "<div><style>\n",
       ".dataframe > thead > tr,\n",
       ".dataframe > tbody > tr {\n",
       "  text-align: right;\n",
       "  white-space: pre-wrap;\n",
       "}\n",
       "</style>\n",
       "<small>shape: (1_000, 3)</small><table border=\"1\" class=\"dataframe\"><thead><tr><th>y</th><th>ds</th><th>unique_id</th></tr><tr><td>f64</td><td>datetime[μs]</td><td>i32</td></tr></thead><tbody><tr><td>541.237</td><td>2024-07-30 21:43:13</td><td>0</td></tr><tr><td>541.247</td><td>2024-07-30 21:43:14</td><td>0</td></tr><tr><td>541.306</td><td>2024-07-30 21:43:15</td><td>0</td></tr><tr><td>541.296</td><td>2024-07-30 21:43:16</td><td>0</td></tr><tr><td>541.326</td><td>2024-07-30 21:43:17</td><td>0</td></tr><tr><td>&hellip;</td><td>&hellip;</td><td>&hellip;</td></tr><tr><td>541.836</td><td>2024-07-30 21:59:55</td><td>0</td></tr><tr><td>541.787</td><td>2024-07-30 21:59:56</td><td>0</td></tr><tr><td>541.757</td><td>2024-07-30 21:59:57</td><td>0</td></tr><tr><td>541.777</td><td>2024-07-30 21:59:58</td><td>0</td></tr><tr><td>541.927</td><td>2024-07-30 21:59:59</td><td>0</td></tr></tbody></table></div>"
      ],
      "text/plain": [
       "shape: (1_000, 3)\n",
       "┌─────────┬─────────────────────┬───────────┐\n",
       "│ y       ┆ ds                  ┆ unique_id │\n",
       "│ ---     ┆ ---                 ┆ ---       │\n",
       "│ f64     ┆ datetime[μs]        ┆ i32       │\n",
       "╞═════════╪═════════════════════╪═══════════╡\n",
       "│ 541.237 ┆ 2024-07-30 21:43:13 ┆ 0         │\n",
       "│ 541.247 ┆ 2024-07-30 21:43:14 ┆ 0         │\n",
       "│ 541.306 ┆ 2024-07-30 21:43:15 ┆ 0         │\n",
       "│ 541.296 ┆ 2024-07-30 21:43:16 ┆ 0         │\n",
       "│ 541.326 ┆ 2024-07-30 21:43:17 ┆ 0         │\n",
       "│ …       ┆ …                   ┆ …         │\n",
       "│ 541.836 ┆ 2024-07-30 21:59:55 ┆ 0         │\n",
       "│ 541.787 ┆ 2024-07-30 21:59:56 ┆ 0         │\n",
       "│ 541.757 ┆ 2024-07-30 21:59:57 ┆ 0         │\n",
       "│ 541.777 ┆ 2024-07-30 21:59:58 ┆ 0         │\n",
       "│ 541.927 ┆ 2024-07-30 21:59:59 ┆ 0         │\n",
       "└─────────┴─────────────────────┴───────────┘"
      ]
     },
     "execution_count": 1,
     "metadata": {},
     "output_type": "execute_result"
    }
   ],
   "source": [
    "import polars as pl\n",
    "\n",
    "#need to import 1s market data from OneDrive\n",
    "#--------------------------------------------------------------------------------------------------------------------*\n",
    "\n",
    "import polars as pl\n",
    "\n",
    "#This is the URL of the file\n",
    "url = \"https://onedrive.live.com/download?resid=4E16D53638D067A9%21337206&authkey=!APxYFBiUDvn51MI\" #REMEMBER to change embed to download;\n",
    "\n",
    "spy_data= pl.read_csv(url, try_parse_dates=True) #it's a time series data, so I'm setting the index to be the first column\n",
    "spy_data = spy_data.tail(1000) #I'm taking the last 100000 rows of the data\n",
    "\n",
    "\n",
    "\n",
    "df = pl.DataFrame({ \"y\": spy_data[\"close\"], \"ds\": spy_data[\"timestamp\"], \"unique_id\": 0 }) #we transform the data \n",
    "                                                                                            #with only the necessary columns for statsforecast\n",
    "df"
   ]
  },
  {
   "cell_type": "code",
   "execution_count": 3,
   "metadata": {},
   "outputs": [
    {
     "ename": "TypeError",
     "evalue": "_StatsForecast.predict() got an unexpected keyword argument 'horizon'",
     "output_type": "error",
     "traceback": [
      "\u001b[1;31m---------------------------------------------------------------------------\u001b[0m",
      "\u001b[1;31mTypeError\u001b[0m                                 Traceback (most recent call last)",
      "Cell \u001b[1;32mIn[3], line 12\u001b[0m\n\u001b[0;32m      4\u001b[0m sf \u001b[38;5;241m=\u001b[39m StatsForecast(\n\u001b[0;32m      5\u001b[0m     models\u001b[38;5;241m=\u001b[39m[AutoARIMA(season_length \u001b[38;5;241m=\u001b[39m \u001b[38;5;241m60\u001b[39m)],\n\u001b[0;32m      6\u001b[0m     freq\u001b[38;5;241m=\u001b[39m\u001b[38;5;124m'\u001b[39m\u001b[38;5;124m1s\u001b[39m\u001b[38;5;124m'\u001b[39m,\n\u001b[0;32m      7\u001b[0m     n_jobs\u001b[38;5;241m=\u001b[39m\u001b[38;5;241m128\u001b[39m\n\u001b[0;32m      8\u001b[0m )\n\u001b[0;32m     10\u001b[0m sf\u001b[38;5;241m.\u001b[39mfit(df)\n\u001b[1;32m---> 12\u001b[0m forecast \u001b[38;5;241m=\u001b[39m \u001b[43msf\u001b[49m\u001b[38;5;241;43m.\u001b[39;49m\u001b[43mpredict\u001b[49m\u001b[43m(\u001b[49m\u001b[43mhorizon\u001b[49m\u001b[38;5;241;43m=\u001b[39;49m\u001b[38;5;241;43m10\u001b[39;49m\u001b[43m)\u001b[49m\n\u001b[0;32m     13\u001b[0m sf\u001b[38;5;241m.\u001b[39mplot(df, forecast)\n",
      "\u001b[1;31mTypeError\u001b[0m: _StatsForecast.predict() got an unexpected keyword argument 'horizon'"
     ]
    }
   ],
   "source": [
    "from statsforecast import StatsForecast\n",
    "from statsforecast.models import AutoARIMA\n",
    "\n",
    "sf = StatsForecast(\n",
    "    models=[AutoARIMA(season_length = 60)],\n",
    "    freq='1s',\n",
    "    n_jobs=128\n",
    ")\n",
    "\n",
    "sf.fit(df)\n"
   ]
  }
 ],
 "metadata": {
  "kernelspec": {
   "display_name": "Python 3",
   "language": "python",
   "name": "python3"
  },
  "language_info": {
   "codemirror_mode": {
    "name": "ipython",
    "version": 3
   },
   "file_extension": ".py",
   "mimetype": "text/x-python",
   "name": "python",
   "nbconvert_exporter": "python",
   "pygments_lexer": "ipython3",
   "version": "3.10.14"
  }
 },
 "nbformat": 4,
 "nbformat_minor": 2
}
