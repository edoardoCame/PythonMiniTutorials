{
 "cells": [
  {
   "cell_type": "markdown",
   "metadata": {},
   "source": [
    "## Try everything with actual data:"
   ]
  },
  {
   "cell_type": "code",
   "execution_count": null,
   "metadata": {},
   "outputs": [
    {
     "data": {
      "text/html": [
       "<div><style>\n",
       ".dataframe > thead > tr,\n",
       ".dataframe > tbody > tr {\n",
       "  text-align: right;\n",
       "  white-space: pre-wrap;\n",
       "}\n",
       "</style>\n",
       "<small>shape: (5, 6)</small><table border=\"1\" class=\"dataframe\"><thead><tr><th>timestamp</th><th>open</th><th>high</th><th>low</th><th>close</th><th>volume</th></tr><tr><td>datetime[μs]</td><td>f64</td><td>f64</td><td>f64</td><td>f64</td><td>f64</td></tr></thead><tbody><tr><td>2024-01-02 15:30:00</td><td>472.157</td><td>472.157</td><td>472.136</td><td>472.137</td><td>0.0822</td></tr><tr><td>2024-01-02 15:30:01</td><td>472.147</td><td>472.157</td><td>472.117</td><td>472.137</td><td>0.1065</td></tr><tr><td>2024-01-02 15:30:02</td><td>472.116</td><td>472.116</td><td>472.057</td><td>472.057</td><td>0.118</td></tr><tr><td>2024-01-02 15:30:03</td><td>472.046</td><td>472.127</td><td>472.046</td><td>472.127</td><td>0.0569</td></tr><tr><td>2024-01-02 15:30:04</td><td>472.127</td><td>472.137</td><td>472.106</td><td>472.106</td><td>0.1444</td></tr></tbody></table></div>"
      ],
      "text/plain": [
       "shape: (5, 6)\n",
       "┌─────────────────────┬─────────┬─────────┬─────────┬─────────┬────────┐\n",
       "│ timestamp           ┆ open    ┆ high    ┆ low     ┆ close   ┆ volume │\n",
       "│ ---                 ┆ ---     ┆ ---     ┆ ---     ┆ ---     ┆ ---    │\n",
       "│ datetime[μs]        ┆ f64     ┆ f64     ┆ f64     ┆ f64     ┆ f64    │\n",
       "╞═════════════════════╪═════════╪═════════╪═════════╪═════════╪════════╡\n",
       "│ 2024-01-02 15:30:00 ┆ 472.157 ┆ 472.157 ┆ 472.136 ┆ 472.137 ┆ 0.0822 │\n",
       "│ 2024-01-02 15:30:01 ┆ 472.147 ┆ 472.157 ┆ 472.117 ┆ 472.137 ┆ 0.1065 │\n",
       "│ 2024-01-02 15:30:02 ┆ 472.116 ┆ 472.116 ┆ 472.057 ┆ 472.057 ┆ 0.118  │\n",
       "│ 2024-01-02 15:30:03 ┆ 472.046 ┆ 472.127 ┆ 472.046 ┆ 472.127 ┆ 0.0569 │\n",
       "│ 2024-01-02 15:30:04 ┆ 472.127 ┆ 472.137 ┆ 472.106 ┆ 472.106 ┆ 0.1444 │\n",
       "└─────────────────────┴─────────┴─────────┴─────────┴─────────┴────────┘"
      ]
     },
     "metadata": {},
     "output_type": "display_data"
    }
   ],
   "source": [
    "#need to import 1s market data from OneDrive\n",
    "#--------------------------------------------------------------------------------------------------------------------*\n",
    "\n",
    "import polars as pl\n",
    "\n",
    "#This is the URL of the file\n",
    "url = \"https://onedrive.live.com/download?resid=4E16D53638D067A9%21337206&authkey=!APxYFBiUDvn51MI\" #REMEMBER to change embed to download;\n",
    "\n",
    "spy_data= pl.read_csv(url, try_parse_dates=True) #it's a time series data, so I'm setting the index to be the first column\n",
    "spy_data.head()"
   ]
  },
  {
   "cell_type": "code",
   "execution_count": null,
   "metadata": {},
   "outputs": [
    {
     "data": {
      "text/html": [
       "<div><style>\n",
       ".dataframe > thead > tr,\n",
       ".dataframe > tbody > tr {\n",
       "  text-align: right;\n",
       "  white-space: pre-wrap;\n",
       "}\n",
       "</style>\n",
       "<small>shape: (2_935_044, 3)</small><table border=\"1\" class=\"dataframe\"><thead><tr><th>y</th><th>ds</th><th>unique_id</th></tr><tr><td>f64</td><td>datetime[μs]</td><td>i32</td></tr></thead><tbody><tr><td>472.137</td><td>2024-01-02 15:30:00</td><td>0</td></tr><tr><td>472.137</td><td>2024-01-02 15:30:01</td><td>0</td></tr><tr><td>472.057</td><td>2024-01-02 15:30:02</td><td>0</td></tr><tr><td>472.127</td><td>2024-01-02 15:30:03</td><td>0</td></tr><tr><td>472.106</td><td>2024-01-02 15:30:04</td><td>0</td></tr><tr><td>&hellip;</td><td>&hellip;</td><td>&hellip;</td></tr><tr><td>541.836</td><td>2024-07-30 21:59:55</td><td>0</td></tr><tr><td>541.787</td><td>2024-07-30 21:59:56</td><td>0</td></tr><tr><td>541.757</td><td>2024-07-30 21:59:57</td><td>0</td></tr><tr><td>541.777</td><td>2024-07-30 21:59:58</td><td>0</td></tr><tr><td>541.927</td><td>2024-07-30 21:59:59</td><td>0</td></tr></tbody></table></div>"
      ],
      "text/plain": [
       "shape: (2_935_044, 3)\n",
       "┌─────────┬─────────────────────┬───────────┐\n",
       "│ y       ┆ ds                  ┆ unique_id │\n",
       "│ ---     ┆ ---                 ┆ ---       │\n",
       "│ f64     ┆ datetime[μs]        ┆ i32       │\n",
       "╞═════════╪═════════════════════╪═══════════╡\n",
       "│ 472.137 ┆ 2024-01-02 15:30:00 ┆ 0         │\n",
       "│ 472.137 ┆ 2024-01-02 15:30:01 ┆ 0         │\n",
       "│ 472.057 ┆ 2024-01-02 15:30:02 ┆ 0         │\n",
       "│ 472.127 ┆ 2024-01-02 15:30:03 ┆ 0         │\n",
       "│ 472.106 ┆ 2024-01-02 15:30:04 ┆ 0         │\n",
       "│ …       ┆ …                   ┆ …         │\n",
       "│ 541.836 ┆ 2024-07-30 21:59:55 ┆ 0         │\n",
       "│ 541.787 ┆ 2024-07-30 21:59:56 ┆ 0         │\n",
       "│ 541.757 ┆ 2024-07-30 21:59:57 ┆ 0         │\n",
       "│ 541.777 ┆ 2024-07-30 21:59:58 ┆ 0         │\n",
       "│ 541.927 ┆ 2024-07-30 21:59:59 ┆ 0         │\n",
       "└─────────┴─────────────────────┴───────────┘"
      ]
     },
     "metadata": {},
     "output_type": "display_data"
    }
   ],
   "source": [
    "df = pl.DataFrame({ \"y\": spy_data[\"close\"], \"ds\": spy_data[\"timestamp\"], \"unique_id\": 0 }) #we transform the data \n",
    "                                                                                            #with only the necessary columns for statsforecast\n",
    "df"
   ]
  },
  {
   "cell_type": "code",
   "execution_count": null,
   "metadata": {},
   "outputs": [],
   "source": [
    "from statsforecast import StatsForecast\n",
    "from statsforecast.models import HoltWinters\n",
    "\n",
    "sf = StatsForecast(\n",
    "    models=[HoltWinters(season_length = 60)],\n",
    "    freq='1s',\n",
    "    n_jobs=-1\n",
    ")\n",
    "\n",
    "sf.fit(df)"
   ]
  },
  {
   "cell_type": "markdown",
   "metadata": {},
   "source": [
    "## Wanna try everything with pycaret:"
   ]
  },
  {
   "cell_type": "code",
   "execution_count": null,
   "metadata": {},
   "outputs": [],
   "source": [
    "import pandas as pd\n",
    "import pycaret\n",
    "import numpy as np\n",
    "#prepare data\n",
    "random_walk = [50]\n",
    "for i in range(1, 10000):\n",
    "    random_walk.append(random_walk[i-1] + np.random.normal(0, 1)) #generate random walk\n",
    "\n",
    "random_walk = pd.Series(random_walk)"
   ]
  },
  {
   "cell_type": "code",
   "execution_count": null,
   "metadata": {},
   "outputs": [],
   "source": [
    "from pycaret.time_series import *\n",
    "s = setup(data=random_walk, fh = 15, fold = 5, session_id = 123)"
   ]
  },
  {
   "cell_type": "code",
   "execution_count": null,
   "metadata": {},
   "outputs": [],
   "source": [
    "best = compare_models(sort= 'R2')"
   ]
  },
  {
   "cell_type": "code",
   "execution_count": null,
   "metadata": {},
   "outputs": [],
   "source": [
    "plot_model(best, plot = 'forecast')"
   ]
  }
 ],
 "metadata": {
  "language_info": {
   "name": "python"
  }
 },
 "nbformat": 4,
 "nbformat_minor": 2
}
