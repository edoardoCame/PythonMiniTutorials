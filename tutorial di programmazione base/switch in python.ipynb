{
 "cells": [
  {
   "cell_type": "code",
   "execution_count": 1,
   "metadata": {},
   "outputs": [
    {
     "name": "stdout",
     "output_type": "stream",
     "text": [
      "You can become a Data Scientist\n"
     ]
    }
   ],
   "source": [
    "lang = input(\"What's the programming language you want to learn? \")\n",
    "\n",
    "match lang:\n",
    "    case \"JavaScript\":\n",
    "        print(\"You can become a web developer.\")\n",
    "\n",
    "    case \"Python\":\n",
    "        print(\"You can become a Data Scientist\")\n",
    "\n",
    "    case \"PHP\":\n",
    "        print(\"You can become a backend developer\")\n",
    "\n",
    "    case \"Solidity\":\n",
    "        print(\"You can become a Blockchain developer\")\n",
    "\n",
    "    case \"Java\":\n",
    "        print(\"You can become a mobile app developer\")\n",
    "    case _:\n",
    "        print(\"The language doesn't matter, what matters is solving problems.\")\n"
   ]
  },
  {
   "cell_type": "code",
   "execution_count": 2,
   "metadata": {},
   "outputs": [
    {
     "name": "stdout",
     "output_type": "stream",
     "text": [
      "Negative number\n",
      "Zero\n",
      "Even number\n",
      "Odd number\n"
     ]
    }
   ],
   "source": [
    "def describe_number(number):\n",
    "    match number:\n",
    "        case x if x < 0:\n",
    "            return \"Negative number\"\n",
    "        case 0:\n",
    "            return \"Zero\"\n",
    "        case x if x % 2 == 0:\n",
    "            return \"Even number\"\n",
    "        case x if x % 2 != 0:\n",
    "            return \"Odd number\"\n",
    "        case _:\n",
    "            return \"Unknown\"\n",
    "\n",
    "print(describe_number(-5))  # Output: Negative number\n",
    "print(describe_number(0))   # Output: Zero\n",
    "print(describe_number(4))   # Output: Even number\n",
    "print(describe_number(7))   # Output: Odd number"
   ]
  },
  {
   "cell_type": "code",
   "execution_count": 3,
   "metadata": {},
   "outputs": [
    {
     "name": "stdout",
     "output_type": "stream",
     "text": [
      "Time using match (switch): 0.042214 seconds\n",
      "Time using if-else: 0.035847 seconds\n"
     ]
    }
   ],
   "source": [
    "import timeit\n",
    "\n",
    "# Function using match (switch)\n",
    "def describe_number_match(number):\n",
    "    match number:\n",
    "        case x if x < 0:\n",
    "            return \"Negative number\"\n",
    "        case 0:\n",
    "            return \"Zero\"\n",
    "        case x if x % 2 == 0:\n",
    "            return \"Even number\"\n",
    "        case x if x % 2 != 0:\n",
    "            return \"Odd number\"\n",
    "        case _:\n",
    "            return \"Unknown\"\n",
    "\n",
    "# Function using if-else\n",
    "def describe_number_ifelse(number):\n",
    "    if number < 0:\n",
    "        return \"Negative number\"\n",
    "    elif number == 0:\n",
    "        return \"Zero\"\n",
    "    elif number % 2 == 0:\n",
    "        return \"Even number\"\n",
    "    elif number % 2 != 0:\n",
    "        return \"Odd number\"\n",
    "    else:\n",
    "        return \"Unknown\"\n",
    "\n",
    "# Test numbers\n",
    "test_numbers = [-5, 0, 4, 7]\n",
    "\n",
    "# Measure time for match (switch)\n",
    "time_match = timeit.timeit(\n",
    "    stmt='[describe_number_match(num) for num in test_numbers]',\n",
    "    setup='from __main__ import describe_number_match, test_numbers',\n",
    "    number=100000\n",
    ")\n",
    "\n",
    "# Measure time for if-else\n",
    "time_ifelse = timeit.timeit(\n",
    "    stmt='[describe_number_ifelse(num) for num in test_numbers]',\n",
    "    setup='from __main__ import describe_number_ifelse, test_numbers',\n",
    "    number=100000\n",
    ")\n",
    "\n",
    "print(f\"Time using match (switch): {time_match:.6f} seconds\")\n",
    "print(f\"Time using if-else: {time_ifelse:.6f} seconds\")"
   ]
  }
 ],
 "metadata": {
  "kernelspec": {
   "display_name": "Python 3",
   "language": "python",
   "name": "python3"
  },
  "language_info": {
   "codemirror_mode": {
    "name": "ipython",
    "version": 3
   },
   "file_extension": ".py",
   "mimetype": "text/x-python",
   "name": "python",
   "nbconvert_exporter": "python",
   "pygments_lexer": "ipython3",
   "version": "3.12.1"
  }
 },
 "nbformat": 4,
 "nbformat_minor": 2
}
