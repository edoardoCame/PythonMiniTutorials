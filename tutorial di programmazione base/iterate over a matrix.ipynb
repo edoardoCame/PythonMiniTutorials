{
 "cells": [
  {
   "cell_type": "code",
   "execution_count": 1,
   "metadata": {},
   "outputs": [],
   "source": [
    "### Tutorial on how to iterate over a matrix columns and rows in Python,\n",
    "### using the numpy library.\n",
    "\n",
    "import numpy as np\n",
    "\n",
    "# Create a matrix\n",
    "matrix = np.matrix([[i for i in range(5)], \n",
    "                    [i for i in range(5, 10)], \n",
    "                    [i for i in range(10, 15)],\n",
    "                    [i for i in range(15, 20)]])"
   ]
  },
  {
   "cell_type": "code",
   "execution_count": 4,
   "metadata": {},
   "outputs": [
    {
     "name": "stdout",
     "output_type": "stream",
     "text": [
      "[[0 1 2 3 4]]\n",
      "[[5 6 7 8 9]]\n"
     ]
    }
   ],
   "source": [
    "#perform a row-wise operation\n",
    "nrows = matrix.shape[0]\n",
    "ncols = matrix.shape[1]\n",
    "for i in range(nrows):\n",
    "    if i < 2:\n",
    "        print(matrix[i,:])\n",
    "    else:\n",
    "        break"
   ]
  },
  {
   "cell_type": "code",
   "execution_count": 6,
   "metadata": {},
   "outputs": [
    {
     "name": "stdout",
     "output_type": "stream",
     "text": [
      "We are at row: 1\n",
      "We are at column: 1\n",
      "0\n",
      "We are at column: 2\n",
      "1\n",
      "We are at column: 3\n",
      "2\n",
      "We are at column: 4\n",
      "3\n",
      "We are at column: 5\n",
      "4\n",
      "We are at row: 2\n",
      "We are at column: 1\n",
      "5\n",
      "We are at column: 2\n",
      "6\n",
      "We are at column: 3\n",
      "7\n",
      "We are at column: 4\n",
      "8\n",
      "We are at column: 5\n",
      "9\n",
      "We are at row: 3\n",
      "We are at column: 1\n",
      "10\n",
      "We are at column: 2\n",
      "11\n",
      "We are at column: 3\n",
      "12\n",
      "We are at column: 4\n",
      "13\n",
      "We are at column: 5\n",
      "14\n",
      "We are at row: 4\n",
      "We are at column: 1\n",
      "15\n",
      "We are at column: 2\n",
      "16\n",
      "We are at column: 3\n",
      "17\n",
      "We are at column: 4\n",
      "18\n",
      "We are at column: 5\n",
      "19\n"
     ]
    }
   ],
   "source": [
    "#perform a row-wise and column-wise operation\n",
    "for i in range(nrows):\n",
    "    print(f\"We are at row: {i+1}\")\n",
    "    for j in range(ncols):\n",
    "        print(f\"We are at column: {j+1}\")\n",
    "        print(matrix[i,j])"
   ]
  }
 ],
 "metadata": {
  "kernelspec": {
   "display_name": "Python 3",
   "language": "python",
   "name": "python3"
  },
  "language_info": {
   "codemirror_mode": {
    "name": "ipython",
    "version": 3
   },
   "file_extension": ".py",
   "mimetype": "text/x-python",
   "name": "python",
   "nbconvert_exporter": "python",
   "pygments_lexer": "ipython3",
   "version": "3.12.1"
  }
 },
 "nbformat": 4,
 "nbformat_minor": 2
}
