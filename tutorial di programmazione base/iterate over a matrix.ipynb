{
 "cells": [
  {
   "cell_type": "code",
   "execution_count": 1,
   "metadata": {},
   "outputs": [
    {
     "data": {
      "text/plain": [
       "array([[ 0,  1,  2,  3,  4],\n",
       "       [ 5,  6,  7,  8,  9],\n",
       "       [10, 11, 12, 13, 14],\n",
       "       [15, 16, 17, 18, 19],\n",
       "       [20, 21, 22, 23, 24]])"
      ]
     },
     "execution_count": 1,
     "metadata": {},
     "output_type": "execute_result"
    }
   ],
   "source": [
    "### Tutorial on how to iterate over a matrix columns and rows in Python,\n",
    "### using the numpy library.\n",
    "\n",
    "import numpy as np\n",
    "\n",
    "# Create a matrix\n",
    "matrix = np.array([[i for i in range(5)], \n",
    "                    [i for i in range(5, 10)], \n",
    "                    [i for i in range(10, 15)],\n",
    "                    [i for i in range(15, 20)],\n",
    "                    [i for i in range(20, 25)]])\n",
    "matrix"
   ]
  },
  {
   "cell_type": "code",
   "execution_count": 2,
   "metadata": {},
   "outputs": [
    {
     "name": "stdout",
     "output_type": "stream",
     "text": [
      "[0 1 2 3 4]\n",
      "[5 6 7 8 9]\n"
     ]
    }
   ],
   "source": [
    "#perform a row-wise operation\n",
    "nrows = matrix.shape[0]\n",
    "ncols = matrix.shape[1]\n",
    "for i in range(nrows):\n",
    "    if i < 2:\n",
    "        print(matrix[i,:])\n",
    "    else:\n",
    "        break"
   ]
  },
  {
   "cell_type": "code",
   "execution_count": 3,
   "metadata": {},
   "outputs": [
    {
     "name": "stdout",
     "output_type": "stream",
     "text": [
      "We are at row: 1\n",
      "We are at column: 1\n",
      "0\n",
      "We are at column: 2\n",
      "1\n",
      "We are at column: 3\n",
      "2\n",
      "We are at column: 4\n",
      "3\n",
      "We are at column: 5\n",
      "4\n",
      "We are at row: 2\n",
      "We are at column: 1\n",
      "5\n",
      "We are at column: 2\n",
      "6\n",
      "We are at column: 3\n",
      "7\n",
      "We are at column: 4\n",
      "8\n",
      "We are at column: 5\n",
      "9\n",
      "We are at row: 3\n",
      "We are at column: 1\n",
      "10\n",
      "We are at column: 2\n",
      "11\n",
      "We are at column: 3\n",
      "12\n",
      "We are at column: 4\n",
      "13\n",
      "We are at column: 5\n",
      "14\n",
      "We are at row: 4\n",
      "We are at column: 1\n",
      "15\n",
      "We are at column: 2\n",
      "16\n",
      "We are at column: 3\n",
      "17\n",
      "We are at column: 4\n",
      "18\n",
      "We are at column: 5\n",
      "19\n",
      "We are at row: 5\n",
      "We are at column: 1\n",
      "20\n",
      "We are at column: 2\n",
      "21\n",
      "We are at column: 3\n",
      "22\n",
      "We are at column: 4\n",
      "23\n",
      "We are at column: 5\n",
      "24\n"
     ]
    }
   ],
   "source": [
    "#perform a row-wise and column-wise operation\n",
    "for i in range(nrows):\n",
    "    print(f\"We are at row: {i+1}\")\n",
    "    for j in range(ncols):\n",
    "        print(f\"We are at column: {j+1}\")\n",
    "        print(matrix[i,j])"
   ]
  },
  {
   "cell_type": "code",
   "execution_count": 4,
   "metadata": {},
   "outputs": [
    {
     "name": "stdout",
     "output_type": "stream",
     "text": [
      "Sum of row 1 and column 1 is: [ 0  6 12 18 24]\n",
      "Sum of row 1 and column 2 is: [ 1  7 13 19 25]\n",
      "Sum of row 1 and column 3 is: [ 2  8 14 20 26]\n",
      "Sum of row 1 and column 4 is: [ 3  9 15 21 27]\n",
      "Sum of row 1 and column 5 is: [ 4 10 16 22 28]\n",
      "Sum of row 2 and column 1 is: [ 5 11 17 23 29]\n",
      "Sum of row 2 and column 2 is: [ 6 12 18 24 30]\n",
      "Sum of row 2 and column 3 is: [ 7 13 19 25 31]\n",
      "Sum of row 2 and column 4 is: [ 8 14 20 26 32]\n",
      "Sum of row 2 and column 5 is: [ 9 15 21 27 33]\n",
      "Sum of row 3 and column 1 is: [10 16 22 28 34]\n",
      "Sum of row 3 and column 2 is: [11 17 23 29 35]\n",
      "Sum of row 3 and column 3 is: [12 18 24 30 36]\n",
      "Sum of row 3 and column 4 is: [13 19 25 31 37]\n",
      "Sum of row 3 and column 5 is: [14 20 26 32 38]\n",
      "Sum of row 4 and column 1 is: [15 21 27 33 39]\n",
      "Sum of row 4 and column 2 is: [16 22 28 34 40]\n",
      "Sum of row 4 and column 3 is: [17 23 29 35 41]\n",
      "Sum of row 4 and column 4 is: [18 24 30 36 42]\n",
      "Sum of row 4 and column 5 is: [19 25 31 37 43]\n",
      "Sum of row 5 and column 1 is: [20 26 32 38 44]\n",
      "Sum of row 5 and column 2 is: [21 27 33 39 45]\n",
      "Sum of row 5 and column 3 is: [22 28 34 40 46]\n",
      "Sum of row 5 and column 4 is: [23 29 35 41 47]\n",
      "Sum of row 5 and column 5 is: [24 30 36 42 48]\n"
     ]
    }
   ],
   "source": [
    "for i in range(nrows):\n",
    "    for j in range(ncols):\n",
    "        v1 = matrix[i,:] + matrix[:,j]\n",
    "        print(f\"Sum of row {i+1} and column {j+1} is: {v1}\")"
   ]
  }
 ],
 "metadata": {
  "kernelspec": {
   "display_name": "Python 3",
   "language": "python",
   "name": "python3"
  },
  "language_info": {
   "codemirror_mode": {
    "name": "ipython",
    "version": 3
   },
   "file_extension": ".py",
   "mimetype": "text/x-python",
   "name": "python",
   "nbconvert_exporter": "python",
   "pygments_lexer": "ipython3",
   "version": "3.12.1"
  }
 },
 "nbformat": 4,
 "nbformat_minor": 2
}
