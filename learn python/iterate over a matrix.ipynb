{
 "cells": [
  {
   "cell_type": "markdown",
   "metadata": {},
   "source": [
    "# Import NumPy and Create a Matrix\n",
    "Detailed explanation of importing the NumPy library and creating a 5x5 matrix using NumPy arrays."
   ]
  },
  {
   "cell_type": "code",
   "execution_count": null,
   "metadata": {},
   "outputs": [],
   "source": [
    "# Import NumPy and Create a Matrix\n",
    "\n",
    "### Import the NumPy Library\n",
    "# NumPy is a fundamental package for scientific computing in Python. It provides support for arrays, matrices, and many mathematical functions.\n",
    "import numpy as np\n",
    "\n",
    "### Create a 5x5 Matrix\n",
    "# We will create a 5x5 matrix using NumPy's array function. Each row of the matrix will contain a sequence of 5 consecutive integers.\n",
    "matrix = np.array([[i for i in range(5)], \n",
    "                   [i for i in range(5, 10)], \n",
    "                   [i for i in range(10, 15)], \n",
    "                   [i for i in range(15, 20)], \n",
    "                   [i for i in range(20, 25)]])\n",
    "matrix"
   ]
  },
  {
   "cell_type": "markdown",
   "metadata": {},
   "source": [
    "# Perform Conditional Row-wise Operation\n",
    "In-depth explanation of how to iterate over the rows of the matrix and perform a conditional operation, such as printing the first two rows."
   ]
  },
  {
   "cell_type": "code",
   "execution_count": null,
   "metadata": {},
   "outputs": [],
   "source": [
    "# Perform Conditional Row-wise Operation\n",
    "\n",
    "### Determine the Number of Rows and Columns\n",
    "# We first determine the number of rows and columns in the matrix using the shape attribute.\n",
    "nrows = matrix.shape[0]\n",
    "ncols = matrix.shape[1]\n",
    "\n",
    "### Iterate Over the Rows\n",
    "# We iterate over the rows of the matrix using a for loop. The range function generates a sequence of numbers from 0 to nrows-1.\n",
    "for i in range(nrows):\n",
    "    ### Conditional Operation\n",
    "    # We perform a conditional operation: if the row index is less than 2, we print the entire row.\n",
    "    if i < 2:\n",
    "        print(matrix[i, :])\n",
    "    else:\n",
    "        break"
   ]
  },
  {
   "cell_type": "markdown",
   "metadata": {},
   "source": [
    "# Iterate Over Rows and Columns with Nested Loops\n",
    "Explain in detail how nested loops are used to iterate over each element of the matrix, accessing and printing elements along with their positions."
   ]
  },
  {
   "cell_type": "code",
   "execution_count": null,
   "metadata": {},
   "outputs": [],
   "source": [
    "# Iterate Over Rows and Columns with Nested Loops\n",
    "\n",
    "### Iterate Over Rows and Columns\n",
    "# We use nested loops to iterate over each element of the matrix. The outer loop iterates over the rows, and the inner loop iterates over the columns.\n",
    "for i in range(nrows):\n",
    "    # Print the current row index\n",
    "    print(f\"We are at row: {i+1}\")\n",
    "    for j in range(ncols):\n",
    "        # Print the current column index\n",
    "        print(f\"We are at column: {j+1}\")\n",
    "        # Print the element at the current row and column\n",
    "        print(matrix[i, j])"
   ]
  },
  {
   "cell_type": "markdown",
   "metadata": {},
   "source": [
    "# Compute Sum of Rows and Columns\n",
    "Elaborate on how to compute the sum of elements across rows and columns, and how a new matrix is formed by adding row and column vectors."
   ]
  },
  {
   "cell_type": "code",
   "execution_count": null,
   "metadata": {},
   "outputs": [],
   "source": [
    "# Compute Sum of Rows and Columns\n",
    "\n",
    "### Initialize an Empty List for the New Matrix\n",
    "# We initialize an empty list to store the new matrix formed by adding row and column vectors.\n",
    "new_matrix = []\n",
    "\n",
    "### Iterate Over Rows and Columns\n",
    "# We use nested loops to iterate over each element of the matrix. The outer loop iterates over the rows, and the inner loop iterates over the columns.\n",
    "for i in range(nrows):\n",
    "    for j in range(ncols):\n",
    "        ### Compute the Sum of Row and Column Vectors\n",
    "        # We compute the sum of the row vector at index i and the column vector at index j.\n",
    "        v1 = matrix[i, :] + matrix[:, j]\n",
    "        # Append the result to the new matrix\n",
    "        new_matrix.append(v1)\n",
    "        # Print the sum of the row and column vectors\n",
    "        print(f\"Sum of row {i+1} and column {j+1} is: {v1}\")"
   ]
  }
 ],
 "metadata": {
  "kernelspec": {
   "display_name": "Python 3",
   "language": "python",
   "name": "python3"
  },
  "language_info": {
   "name": "python",
   "version": "3.10.12"
  }
 },
 "nbformat": 4,
 "nbformat_minor": 2
}
