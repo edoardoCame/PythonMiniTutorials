{
 "cells": [
  {
   "cell_type": "code",
   "execution_count": 1,
   "metadata": {},
   "outputs": [],
   "source": [
    "# una funzione palindroma che verifichi se una Data passata come\n",
    "#argomento, che si assume valida, sia “palindroma” (ad esempio 02 02\n",
    "#2020 – si noti l’aggiunta di ‘0’ prima dell’unità che indica, in\n",
    "#questo caso, sia il giorno sia il mese), ritornando un valore bool."
   ]
  },
  {
   "cell_type": "code",
   "execution_count": 2,
   "metadata": {},
   "outputs": [
    {
     "name": "stdout",
     "output_type": "stream",
     "text": [
      "[0, 2, 0, 2, 2, 0, 2, 0]\n"
     ]
    }
   ],
   "source": [
    "data = \"02 02 2020\"\n",
    "data_list = data.split()\n",
    "data = ''.join(data_list) #uniamo la stringa\n",
    "data_list = [int(i) for i in data] #creiamo una lista composta da interi\n",
    "print(data_list)"
   ]
  },
  {
   "cell_type": "code",
   "execution_count": 3,
   "metadata": {},
   "outputs": [
    {
     "name": "stdout",
     "output_type": "stream",
     "text": [
      "[0, 2, 0, 2] [2, 0, 2, 0]\n"
     ]
    }
   ],
   "source": [
    "def Splitter(x):\n",
    "    half = len(x)//2 #rimuove il decimale\n",
    "    return x[:half], x[half:]\n",
    "\n",
    "first_half, second_half = Splitter(data_list)\n",
    "print(first_half, second_half)"
   ]
  },
  {
   "cell_type": "code",
   "execution_count": 4,
   "metadata": {},
   "outputs": [
    {
     "name": "stdout",
     "output_type": "stream",
     "text": [
      "True\n"
     ]
    }
   ],
   "source": [
    "sono_uguali_si_no = all(map(lambda x, y: x == y, first_half, reversed(second_half)))\n",
    "print(sono_uguali_si_no)"
   ]
  },
  {
   "cell_type": "code",
   "execution_count": 5,
   "metadata": {},
   "outputs": [
    {
     "name": "stdout",
     "output_type": "stream",
     "text": [
      "La data 02 02 2020 inserita è palindroma!\n"
     ]
    }
   ],
   "source": [
    "#Uniamo tutto in una funzione:\n",
    "\n",
    "def DataPalindroma(x=\"02 02 2020\"):\n",
    "    data_list = x.split()\n",
    "    data = ''.join(data_list) #uniamo la stringa\n",
    "    data_list = [int(i) for i in data] #creiamo una lista composta da interi\n",
    "    def Splitter(x):\n",
    "        half = len(x)//2 #rimuove il decimale\n",
    "        return x[:half], x[half:]\n",
    "    first_half, second_half = Splitter(data_list)\n",
    "    sono_uguali_si_no = all(map(lambda x, y: x == y, first_half, reversed(second_half)))\n",
    "    if sono_uguali_si_no:\n",
    "        return print(f\"La data {x} inserita è palindroma!\")\n",
    "\n",
    "DataPalindroma()"
   ]
  }
 ],
 "metadata": {
  "kernelspec": {
   "display_name": "Python 3",
   "language": "python",
   "name": "python3"
  },
  "language_info": {
   "codemirror_mode": {
    "name": "ipython",
    "version": 3
   },
   "file_extension": ".py",
   "mimetype": "text/x-python",
   "name": "python",
   "nbconvert_exporter": "python",
   "pygments_lexer": "ipython3",
   "version": "3.12.1"
  }
 },
 "nbformat": 4,
 "nbformat_minor": 2
}
