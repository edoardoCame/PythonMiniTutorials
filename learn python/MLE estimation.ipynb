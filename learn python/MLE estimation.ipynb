{
 "cells": [
  {
   "cell_type": "markdown",
   "metadata": {},
   "source": [
    "# Index\n",
    "1. [Introduction](#Introduction)\n",
    "2. [Import Libraries](#Import-Libraries)\n",
    "3. [Generate Binomial Sample](#Generate-Binomial-Sample)\n",
    "4. [Calculate Likelihood](#Calculate-Likelihood)\n",
    "5. [Plot Likelihood](#Plot-Likelihood)\n",
    "6. [Summary](#Summary)\n"
   ]
  },
  {
   "cell_type": "markdown",
   "metadata": {},
   "source": [
    "### Introduction\n",
    "### Maximum Likelihood Estimation method on Binomial distribution:"
   ]
  },
  {
   "cell_type": "code",
   "execution_count": 6,
   "metadata": {},
   "outputs": [],
   "source": [
    "import numpy as np\n",
    "import matplotlib.pyplot as plt\n",
    "import math\n",
    "from scipy.special import comb"
   ]
  },
  {
   "cell_type": "markdown",
   "metadata": {},
   "source": [
    "### Generate Binomial Sample"
   ]
  },
  {
   "cell_type": "code",
   "execution_count": null,
   "metadata": {},
   "outputs": [
    {
     "name": "stdout",
     "output_type": "stream",
     "text": [
      "[0 1 1 0 0 1 0 1 0 1]\n",
      "5\n"
     ]
    }
   ],
   "source": [
    "# Parameters for the binomial distribution\n",
    "p = 0.4  # probability of success\n",
    "n = 10  # number of trials\n",
    "\n",
    "binary_sample = np.random.binomial(1, p, n)\n",
    "print(binary_sample)\n",
    "k= sum(binary_sample)\n",
    "print(k)"
   ]
  },
  {
   "cell_type": "markdown",
   "metadata": {},
   "source": [
    "In this code, the parameters for the binomial distribution are defined with p = 0.4 representing the probability of success in each trial, and n = 10 representing the number of trials. The np.random.binomial function from the NumPy library is used to generate a sample of size n from a binomial distribution with the specified probability p. The function call np.random.binomial(1, p, n) generates an array of n binary values (0s and 1s), where each value represents the outcome of a single trial (0 for failure and 1 for success).\n",
    "\n",
    "The generated sample is stored in the variable binary_sample, and the print function is used to output this sample to the console. The sum function is then used to calculate the total number of successes in the sample by summing the values in binary_sample. Since the array consists of binary values, the sum directly gives the count of successes. This count is stored in the variable k.\n",
    "\n"
   ]
  },
  {
   "cell_type": "markdown",
   "metadata": {},
   "source": [
    "### Calculate Likelihood"
   ]
  },
  {
   "cell_type": "code",
   "execution_count": 8,
   "metadata": {},
   "outputs": [],
   "source": [
    "p_hat = np.linspace(0, 1, 1000) #create an array of 1000 values between 0 and 1\n",
    "likelihood_for_given_p = np.zeros(1000) #create an array of 1000 zeros for the likelihood values\n",
    "for i in range(1000): #for each value of p_hat\n",
    "    likelihood_for_given_p[i] = comb(n,k) * (p_hat[i]**k) * ((1-p_hat[i])**(n-k)) #calculate the likelihood for that value of p_hat"
   ]
  },
  {
   "attachments": {
    "image.png": {
    "plt.ylabel('Likelihood')\n",
    "plt.title('Likelihood for different values of p_hat')\n",
    "plt.show()"
   ]
  }
 ],
 "metadata": {
  "kernelspec": {
   "display_name": "Python 3",
   "language": "python",
   "name": "python3"
  },
  "language_info": {
   "codemirror_mode": {
    "name": "ipython",
    "version": 3
   },
   "file_extension": ".py",
   "mimetype": "text/x-python",
   "name": "python",
   "nbconvert_exporter": "python",
   "pygments_lexer": "ipython3",
   "version": "3.10.12"
  }
 },
 "nbformat": 4,
 "nbformat_minor": 2
}
