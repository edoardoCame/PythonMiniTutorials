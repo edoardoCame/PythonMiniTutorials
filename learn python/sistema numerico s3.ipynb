{
 "cells": [
  {
   "cell_type": "markdown",
   "metadata": {},
   "source": [
    "Sistema di numerazione n-ario\n",
    "Si consideri il sistema di numerazione posizionale S3 in base 3 avente come\n",
    "cifre i tre simboli\n",
    "\tz u d\n",
    "i cui valori sono rispettivamente:\n",
    "  val(z) = 0\n",
    "  val(u) = 1\n",
    "  val(d) = 2\n",
    "\n",
    "Realizzare un programma s3toint.go che, dato un numerale num in S3 come argomento\n",
    "sulla linea di comando, stampi il valore decimale di num.\n",
    "\n",
    "Il programma deve (unicamente) controllare che l’argomento sia un numerale in S3 e\n",
    "stampare “input non valido” nel caso non lo sia. Non sono richiesti altri controlli\n",
    "(si può dare per scontato che l'argomento ci sia).\n",
    "\n",
    "E` possibile dotare il programma di funzioni aggiuntive oltre a main().\n",
    "\n",
    "Nota. Si ricorda che un sistema di numerazione si dice posizionale se i simboli\n",
    "(cifre) usati per scrivere i numeri assumono valori diversi a seconda della\n",
    "posizione che occupano. Il sistema di numerazione che usiamo solitamente è\n",
    "un sistema posizionale in base 10.\n",
    "Esempi\n",
    "------\n",
    "$ go run S3ToInt.go uzz\n",
    "9\n",
    "$ go run S3ToInt.go dddd\n",
    "80\n",
    "$ go run S3ToInt.go duz\n",
    "21\n",
    "$ go run S3ToInt.go uzc\n",
    "input non valido\n",
    "$ go run S3ToInt.go udzzzduuz\n",
    "11001\n"
   ]
  },
  {
   "attachments": {
    "image.png": {
     "image/png": "[encoded data removed]"
    }
   },
   "cell_type": "markdown",
   "metadata": {},
   "source": [
    "![image.png](attachment:image.png)"
   ]
  },
  {
   "cell_type": "code",
   "execution_count": 1,
   "metadata": {},
   "outputs": [
    {
     "name": "stdout",
     "output_type": "stream",
     "text": [
      "[0, 1, 2]\n"
     ]
    }
   ],
   "source": [
    "#Valori di input\n",
    "z = 0\n",
    "u = 1\n",
    "d = 2\n",
    "\n",
    "prova = \"zud\"\n",
    "\n",
    "def S3Classificatore(x): #accetta la stringa\n",
    "    mylist = []\n",
    "    for i in x:\n",
    "        if i == \"z\":\n",
    "            mylist.append(0)\n",
    "        elif i == \"u\":\n",
    "            mylist.append(1)\n",
    "        elif i == \"d\":\n",
    "            mylist.append(2)\n",
    "        else:\n",
    "            return \"Errore, carattere non valido\"\n",
    "    return mylist\n",
    "\n",
    "v1 = S3Classificatore(prova)\n",
    "print(v1)"
   ]
  },
  {
   "cell_type": "code",
   "execution_count": 5,
   "metadata": {},
   "outputs": [
    {
     "name": "stdout",
     "output_type": "stream",
     "text": [
      "5\n"
     ]
    }
   ],
   "source": [
    "def Trasformatore(x):\n",
    "    arrivo = []\n",
    "    contatore_base = len(x) - 1 #se il numero è 3 cifre, il contatore base partirà da 2\n",
    "    for i in x:\n",
    "        arrivo.append(i * (3 ** contatore_base))\n",
    "        contatore_base -= 1 #sottrai uno ogni volta che si passa al prossimo numero\n",
    "    arrivo = sum(arrivo)\n",
    "    print(arrivo)\n",
    "\n",
    "Trasformatore(v1)"
   ]
  },
  {
   "cell_type": "code",
   "execution_count": 12,
   "metadata": {},
   "outputs": [
    {
     "name": "stdout",
     "output_type": "stream",
     "text": [
      "137\n"
     ]
    }
   ],
   "source": [
    "#unisco tutto insieme\n",
    "\n",
    "def TrasformatoreEConvertitoreS3(x = str(input(\"Inserisci la stringa: \"))):\n",
    "    def S3Classificatore(x=x): #accetta la stringa\n",
    "        mylist = []\n",
    "        for i in x:\n",
    "            if i == \"z\":\n",
    "                mylist.append(0)\n",
    "            elif i == \"u\":\n",
    "                mylist.append(1)\n",
    "            elif i == \"d\":\n",
    "                mylist.append(2)\n",
    "            else:\n",
    "                return \"Errore, carattere non valido\"\n",
    "        return mylist\n",
    "    v1 = S3Classificatore(x)\n",
    "    def Trasformatore(x=v1):\n",
    "        arrivo = []\n",
    "        contatore_base = len(x) - 1 #se il numero è 3 cifre, il contatore base partirà da 2\n",
    "        for i in x:\n",
    "            arrivo.append(i * (3 ** contatore_base))\n",
    "            contatore_base -= 1 #sottrai uno ogni volta che si passa al prossimo numero\n",
    "        arrivo = sum(arrivo)\n",
    "        return arrivo\n",
    "    print(Trasformatore(v1))\n",
    "\n",
    "\n",
    "TrasformatoreEConvertitoreS3()"
   ]
  }
 ],
 "metadata": {
  "kernelspec": {
   "display_name": "Python 3",
   "language": "python",
   "name": "python3"
  },
  "language_info": {
   "codemirror_mode": {
    "name": "ipython",
    "version": 3
   },
   "file_extension": ".py",
   "mimetype": "text/x-python",
   "name": "python",
   "nbconvert_exporter": "python",
   "pygments_lexer": "ipython3",
   "version": "3.12.1"
  }
 },
 "nbformat": 4,
 "nbformat_minor": 2
}
