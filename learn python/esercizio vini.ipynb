{
 "cells": [
  {
   "cell_type": "markdown",
   "metadata": {},
   "source": [
    "Vini\n",
    "----\n",
    "\n",
    "Scrivere un programma (il cui file deve chiamarsi 'vini.go') dotato di:\n",
    "\n",
    "  - una struttura BottigliaVino con i seguenti campi (dichiarati nell'ordine):\n",
    "    nome string\n",
    "    anno int\n",
    "    gradi float32\n",
    "    cl int\n",
    "\n",
    "  - una funzione\n",
    "    CreaBottiglia(nome string, anno int, gradi float32, cl int) (BottigliaVino, bool)\n",
    "    che, se i parametri sono **validi** (campi string diversi da vuoto, campi int e float maggiori di zero) crea una bottiglia corrispondente a questi dati e la restituisce insieme al valore 'true',  altrimenti restituisce una bottiglia \"zero-value\" e 'false'.\n",
    "\n",
    "  - una funzione\n",
    "    CreaBottigliaDaRiga(riga string) (BottigliaVino, bool)\n",
    "    che crea una bottiglia a partire dalla sua rappresentazione sotto forma di riga di testo CSV (vedi esempio nelle specifiche del main);\n",
    "    se i parametri ci sono tutti e sono validi (vedi sopra), crea una bottiglia corrispondente a questi dati e la restituisce insieme al valore 'true',  altrimenti restituisce una bottiglia \"zero-value\" e 'false'.\n",
    "    Non sono richiesti controlli sui tipi dei dati: si può assumere che i dati, se ci sono, siano nel formato corretto (ma i valori vanno controllati).\n",
    "\n",
    "  - un **metodo** per BottigliaVino\n",
    "    String() string\n",
    "    che restituisce una riga di descrizione della bottiglia nel seguente formato:  <nome>, <anno>, <gradi>°, <cl>cl\n",
    "    (cioè ad es. \"Rasol, 2018, 14°, 750cl\" per la prima riga dell'esempio sopra).\n",
    "    Suggerimento: i \"format verb\" %g e %v formattano i float omettendo il punto decimale quando non ci sono cifre dopo la virgola\n",
    "\n",
    "- una funzione main() che legge da un file (il cui nome è passato da linea di comando) delle righe che contengono ognuna i dati relativi ad una bottiglia di una cantina, separati da virgole, nel formato del seguente esempio (nome,anno,gradi,cl):\n",
    "\n",
    "Rasol,2018,14,750\n",
    "Camunnorum,2015,15,750\n",
    "Dom Perignon,2019,12.5,1500\n",
    "Balon,2013,15,750\n",
    "Verdicchio,2020,11,375\n",
    "\n",
    "e stampa su stdout:\n",
    "\n",
    "  - l'elenco delle bottiglie della cantina (esattamente nello stesso formato rappresentato qui sopra).\n",
    "    Attenzione alle righe vuote (vedere vini.input), il programma deve essere \"robusto\" e ignorarle.\n",
    "\n",
    "  - il numero di bottiglie nella cantina\n",
    "\n",
    "  - la bottiglia con gradazione massima\n",
    "\n",
    "  - la bottiglia più vecchia\n",
    "\n",
    "  - i cl totali di vino della cantina\n",
    "\n",
    "Esempio di esecuzione con input vini.input\n",
    "---------------------\n",
    "\n",
    "Rasol, 2018, 14°, 750cl\n",
    "Camunnorum, 2015, 15°, 750cl\n",
    "Dom Perignon, 2019, 12.5°, 1500cl\n",
    "Balon, 2013, 15°, 750cl\n",
    "Verdicchio, 2020, 11°, 375cl\n",
    "Rasol, 2018, 14°, 1000cl\n",
    "Verdicchio, 2020, 11°, 375cl\n",
    "n. bottiglie: 7\n",
    "bottiglia con grado max: Camunnorum, 2015, 15°, 750cl\n",
    "bottiglia più vecchia: Balon, 2013, 15°, 750cl\n",
    "tot vino: 5500 cl\n",
    "*/"
   ]
  },
  {
   "cell_type": "code",
   "execution_count": 2,
   "metadata": {},
   "outputs": [
    {
     "name": "stdout",
     "output_type": "stream",
     "text": [
      "Andrea 30\n"
     ]
    }
   ],
   "source": [
    "#ESEMPIO DI DATACLASS (classe dati semplificata):\n",
    "from dataclasses import dataclass\n",
    "\n",
    "@dataclass\n",
    "class Persona:\n",
    "    nome: str\n",
    "    età: int\n",
    "\n",
    "# Creazione di un'istanza\n",
    "p = Persona(nome=\"Andrea\", età=30)\n",
    "print(p.nome, p.età)"
   ]
  },
  {
   "cell_type": "code",
   "execution_count": 3,
   "metadata": {},
   "outputs": [
    {
     "name": "stdout",
     "output_type": "stream",
     "text": [
      "BottigliaVino(nome='Barolo', anno=2015, gradi=14.5, cl=75)\n"
     ]
    }
   ],
   "source": [
    "from dataclasses import dataclass\n",
    "\n",
    "#primo step\n",
    "@dataclass\n",
    "class BottigliaVino:\n",
    "    nome: str\n",
    "    anno: int\n",
    "    gradi: float\n",
    "    cl: int\n",
    "\n",
    "\n",
    "#secondo step\n",
    "def CreaBottiglia(nome, anno, gradi, cl):\n",
    "    if not nome or anno < 0 or gradi < 0 or cl < 0:\n",
    "        return 0, False\n",
    "    else:\n",
    "        return BottigliaVino(nome, anno, gradi, cl), True\n",
    "    \n",
    "b, ok = CreaBottiglia(\"Barolo\", 2015, 14.5, 75)\n",
    "if ok:\n",
    "    print(b)"
   ]
  },
  {
   "cell_type": "code",
   "execution_count": 7,
   "metadata": {},
   "outputs": [
    {
     "name": "stdout",
     "output_type": "stream",
     "text": [
      "BottigliaVino(nome='Camunnorum', anno=2015, gradi=15.0, cl=750)\n"
     ]
    }
   ],
   "source": [
    "stringa_vino = \"Camunnorum,2015,15,750\"\n",
    "\n",
    "\n",
    "def CreaBottigliaDaRiga(riga):\n",
    "    vino1_list = riga.split(\",\")\n",
    "    vino2 = BottigliaVino(nome=vino1_list[0], anno=int(vino1_list[1]), gradi=float(vino1_list[2]), cl=int(vino1_list[3]))\n",
    "    return vino2\n",
    "\n",
    "vino3 = CreaBottigliaDaRiga(stringa_vino)\n",
    "print(vino3)"
   ]
  }
 ],
 "metadata": {
  "kernelspec": {
   "display_name": "Python 3",
   "language": "python",
   "name": "python3"
  },
  "language_info": {
   "codemirror_mode": {
    "name": "ipython",
    "version": 3
   },
   "file_extension": ".py",
   "mimetype": "text/x-python",
   "name": "python",
   "nbconvert_exporter": "python",
   "pygments_lexer": "ipython3",
   "version": "3.12.1"
  }
 },
 "nbformat": 4,
 "nbformat_minor": 2
}
