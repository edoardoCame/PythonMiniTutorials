{
 "cells": [
  {
   "cell_type": "markdown",
   "metadata": {},
   "source": [
    "## Explanation of the Code\n",
    "This notebook demonstrates the calculation of a weighted average using numpy. The steps are as follows:\n",
    "1. Import necessary libraries: numpy, matplotlib, and pandas.\n",
    "2. Create two arrays `voti1` and `voti2` with values ranging from 1 to 10.\n",
    "3. Use `meshgrid` to create a grid of `voti1` and `voti2` values.\n",
    "4. Flatten the grids to create one-dimensional arrays.\n",
    "5. Calculate the weighted average (`media_ponderata`) with weights 0.2 for `voti1` and 0.8 for `voti2`.\n",
    "6. Print the resulting weighted average array."
   ]
  },
  {
   "cell_type": "code",
   "execution_count": 2,
   "metadata": {},
   "outputs": [],
   "source": [
    "import numpy as np\n",
    "import matplotlib.pyplot as plt\n",
    "import pandas as pd"
   ]
  },
  {
   "cell_type": "markdown",
   "metadata": {},
   "source": [
    "## Explanation of the Scatter Plot Code\n",
    "The following code creates a scatter plot heatmap to visualize the weighted average (`media_ponderata`) of two exam scores (`voti1` and `voti2`). Here is a step-by-step explanation:\n",
    "1. **Create Arrays**: Two arrays `voti1` and `voti2` are created with values ranging from 1 to 10.\n",
    "2. **Meshgrid**: `meshgrid` is used to create a grid of `voti1` and `voti2` values.\n",
    "3. **Flatten Arrays**: The grids are flattened to create one-dimensional arrays.\n",
    "4. **Calculate Weighted Average**: The weighted average (`media_ponderata`) is calculated with weights 0.2 for `voti1` and 0.8 for `voti2`.\n",
    "5. **Organize Data**: The data is organized into a DataFrame with columns `Esame 1`, `Esame 2`, and `Media Ponderata`.\n",
    "6. **Filter Data**: The DataFrame is filtered to include only rows where `Esame 2` is less than or equal to `Esame 1`.\n",
    "7. **Create Scatter Plot**: A scatter plot heatmap is created with a larger figure size. The color of the dots represents the `media_ponderata` values.\n",
    "8. **Highlight Points**: Points where `media_ponderata` is equal to or above 6 are highlighted with red edges.\n",
    "9. **Set Axis Ticks**: The x and y axis ticks are set to show every value from 1 to 10.\n",
    "10. **Show Plot**: The plot is displayed."
   ]
  },
  {
   "cell_type": "code",
   "execution_count": 16,
   "metadata": {},
   "outputs": [
    {
     "data": {
    "media_ponderata = voti1 * 0.2 + voti2 * 0.8\n",
    "\n",
    "\n",
    "# Organizza i dati in un DataFrame\n",
    "df = pd.DataFrame({\n",
    "    \"Esame 1\": voti1,\n",
    "    \"Esame 2\": voti2,\n",
    "    \"Media Ponderata\": media_ponderata\n",
    "})\n",
    "\n",
    "df = df[df[\"Esame 2\"] <= df[\"Esame 1\"]]\n",
    "\n",
    "# Create a scatter plot heatmap with a larger figure size\n",
    "plt.figure(figsize=(12, 8))\n",
    "plt.scatter(df[\"Esame 1\"], df[\"Esame 2\"], c=df[\"Media Ponderata\"], cmap='viridis', s=200)  # Increased size of dots\n",
    "plt.colorbar(label='Media Ponderata')\n",
    "plt.xlabel('Nota Parziale')\n",
    "plt.ylabel('Nota Esame Finale')\n",
    "plt.title('Scatter Plot Heatmap of Media Ponderata')\n",
    "\n",
    "# Highlight points where Media Ponderata is equal or above 6\n",
    "highlight = df[df[\"Media Ponderata\"] >= 6]\n",
    "plt.scatter(highlight[\"Esame 1\"], highlight[\"Esame 2\"], edgecolor='red', facecolor='none', s=200, linewidth=1.5)  # Increased size of highlighted dots\n",
    "\n",
    "# Show every value of the x and y axis\n",
    "plt.xticks(np.arange(1, 11, 1))\n",
    "plt.yticks(np.arange(1, 11, 1))\n",
    "\n",
    "plt.show()\n"
   ]
  }
 ],
 "metadata": {
  "kernelspec": {
   "display_name": "Python 3",
   "language": "python",
   "name": "python3"
  },
  "language_info": {
   "codemirror_mode": {
    "name": "ipython",
    "version": 3
   },
   "file_extension": ".py",
   "mimetype": "text/x-python",
   "name": "python",
   "nbconvert_exporter": "python",
   "pygments_lexer": "ipython3",
   "version": "3.12.1"
  }
 },
 "nbformat": 4,
 "nbformat_minor": 2
}
